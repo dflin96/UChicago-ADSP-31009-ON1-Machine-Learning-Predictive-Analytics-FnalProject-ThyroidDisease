{
 "cells": [
  {
   "cell_type": "markdown",
   "id": "be7eb973-e414-4d1b-91b5-782d490b5f2b",
   "metadata": {
    "tags": []
   },
   "source": [
    "# Autumn 2024 ADSP 31009 ON1 Machine Learning & Predictive Analytics Final Project"
   ]
  },
  {
   "cell_type": "markdown",
   "id": "12b8cb56-124e-44eb-89e3-8fc14717092f",
   "metadata": {},
   "source": [
    "## 1. Problem Definition (5 points): Clearly articulate the real-world problem the project addresses and define a measurable objective."
   ]
  },
  {
   "cell_type": "markdown",
   "id": "31749fba-fcd3-4645-9341-3abdf9f23892",
   "metadata": {},
   "source": [
    "### The real-world problem that I am trying to resolve is _____"
   ]
  },
  {
   "cell_type": "markdown",
   "id": "ff55e2d9-8657-4f52-b015-36b5b5dbda8a",
   "metadata": {},
   "source": [
    "### A Measuable Objective that is defined for this particular project is to be able to apply the knowledge that was gained throughout the Machine Learning & Predictive Analytics to a particular real world problem. Additional objectives includes the following\n",
    "1. having a better understanding of the data and domain of where the dataset originate from\n",
    "2. more hands on experience in the realm of MLE to create models that can solve real world problem\n",
    "3. improve predictive accuracy than existing methods employed in the field \n",
    "4. encourage further discussion and research on plausible methods employed for the domain"
   ]
  },
  {
   "cell_type": "markdown",
   "id": "5238628d-da47-45e8-849d-67571894dd12",
   "metadata": {
    "tags": []
   },
   "source": [
    "## 2. Assumptions & Hypotheses (5 points): Explicitly state assumptions about the data and chosen model(s), identifying potential limitations."
   ]
  },
  {
   "cell_type": "markdown",
   "id": "50d94a12-315b-46c6-88bd-526bb3fabbe5",
   "metadata": {
    "tags": []
   },
   "source": [
    "### Here are the assumptions that have to be made regarding the data:\n",
    "1. That the data collection process is performed well without any bias ____\n",
    "2. The chosen model _____\n",
    "3. The potential limitation that is involved in this project is the given amount of time and energy that could be used to explore the variables. There could be additional higher dimensional cross column variables that can be explored"
   ]
  },
  {
   "cell_type": "markdown",
   "id": "a92fc6d8-b066-4440-803e-6a380e1ba85d",
   "metadata": {},
   "source": [
    "### The data comes from a reputable source of ______"
   ]
  },
  {
   "cell_type": "markdown",
   "id": "ec5ecac2-1592-40da-ad67-11cdb46c280b",
   "metadata": {},
   "source": [
    "## 3. Data Exploration (5 points): Conduct in-depth exploratory data analysis, visualizing key relationships and identifying potential quality issues."
   ]
  },
  {
   "cell_type": "markdown",
   "id": "7a6ee017-97cf-4430-b136-cdc8629744e5",
   "metadata": {},
   "source": [
    "## 4. Feature Engineering (5 points): Justify feature selection, creation, and any necessary transformations to enhance model input."
   ]
  },
  {
   "cell_type": "code",
   "execution_count": null,
   "id": "dece00d2-6eb9-4796-96fd-360b1d09f49f",
   "metadata": {},
   "outputs": [],
   "source": []
  },
  {
   "cell_type": "markdown",
   "id": "7c450c56-4c1f-42a0-b241-df3256962f46",
   "metadata": {},
   "source": [
    "## 5. Modeling Approach (5 points): Explain the rationale for model selection and demonstrate techniques to mitigate overfitting/underfitting."
   ]
  },
  {
   "cell_type": "markdown",
   "id": "6c21f52c-62b1-4994-b8d9-ede5d959f819",
   "metadata": {},
   "source": [
    "### The modeling approach that I am trying to use for this project is as following:\n",
    "1. model for particular_use_cases\n",
    "2. for ____"
   ]
  },
  {
   "cell_type": "markdown",
   "id": "f08e354f-85fe-4671-9b01-d79ab0061d32",
   "metadata": {},
   "source": [
    "### The techniques that are employed to mitigate overfitting/underfitting are the following:\n",
    "1. "
   ]
  },
  {
   "cell_type": "markdown",
   "id": "fe687bc0-aa67-4009-a560-67eb1eda4267",
   "metadata": {},
   "source": [
    "## 6. Model Justification (5 points): Provide a clear justification for the final model choice, potentially including the use of regularization techniques."
   ]
  },
  {
   "cell_type": "markdown",
   "id": "456ee422-aa9d-41ec-a6c4-1dd3c4adac2c",
   "metadata": {},
   "source": [
    "### The final model that I ended up using for this project is _____\n"
   ]
  },
  {
   "cell_type": "markdown",
   "id": "6c48e7f2-4d75-42fb-94a0-ae5d4ec4c67f",
   "metadata": {
    "tags": []
   },
   "source": [
    "## 7. Results & Insights (5 points): Accurately report performance metrics and extract meaningful conclusions from the modeling process."
   ]
  },
  {
   "cell_type": "markdown",
   "id": "80b05bf1-dafc-4c62-b74d-f5c08d08afe9",
   "metadata": {
    "tags": []
   },
   "source": [
    "### The performance metrics that is applicable for this particular use case is ____."
   ]
  },
  {
   "cell_type": "markdown",
   "id": "7d4d4e29-dcd9-43b7-918d-f5ebd8cad104",
   "metadata": {},
   "source": [
    "### Some of the conclusion that could be drawn from the modeling process is that there is a relatively long process that needs to be done in order to fully understand what the data is about and what real-world problem can the model built from the model help answer"
   ]
  },
  {
   "cell_type": "markdown",
   "id": "a13cbdfe-b9d3-406a-8d31-bfb59d88cd76",
   "metadata": {
    "tags": []
   },
   "source": [
    "## 8. Future Directions (5 points): Outline specific recommendations for model improvement and further research avenues."
   ]
  },
  {
   "cell_type": "markdown",
   "id": "21f8e860-e48c-40d2-901d-821dd8697415",
   "metadata": {},
   "source": [
    "### Recommendations for model improvement incldues the following ___"
   ]
  },
  {
   "cell_type": "markdown",
   "id": "6c46b58b-b8a6-40ab-8e9c-3483183d2ac8",
   "metadata": {
    "tags": []
   },
   "source": [
    "### The further research avenues includes the following ___\n",
    "1. "
   ]
  }
 ],
 "metadata": {
  "kernelspec": {
   "display_name": "Python 3 (ipykernel)",
   "language": "python",
   "name": "python3"
  },
  "language_info": {
   "codemirror_mode": {
    "name": "ipython",
    "version": 3
   },
   "file_extension": ".py",
   "mimetype": "text/x-python",
   "name": "python",
   "nbconvert_exporter": "python",
   "pygments_lexer": "ipython3",
   "version": "3.11.7"
  }
 },
 "nbformat": 4,
 "nbformat_minor": 5
}
