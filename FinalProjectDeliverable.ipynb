{
 "cells": [
  {
   "cell_type": "markdown",
   "id": "be7eb973-e414-4d1b-91b5-782d490b5f2b",
   "metadata": {
    "tags": []
   },
   "source": [
    "# Autumn 2024 ADSP 31009 ON1 Machine Learning & Predictive Analytics Final Project"
   ]
  },
  {
   "cell_type": "markdown",
   "id": "12b8cb56-124e-44eb-89e3-8fc14717092f",
   "metadata": {
    "tags": []
   },
   "source": [
    "## 1. Problem Definition (5 points): Clearly articulate the real-world problem the project addresses and define a measurable objective."
   ]
  },
  {
   "cell_type": "markdown",
   "id": "31749fba-fcd3-4645-9341-3abdf9f23892",
   "metadata": {},
   "source": [
    "### The real-world problem that I am trying to resolve is creating a machine learning model that can be used to create a multi-class classification of the various thyroid issues that people are facing in the world. "
   ]
  },
  {
   "cell_type": "markdown",
   "id": "ff55e2d9-8657-4f52-b015-36b5b5dbda8a",
   "metadata": {},
   "source": [
    "### A Measurable Objective that is defined for this particular project is to be able to apply the knowledge that was gained throughout the Machine Learning & Predictive Analytics to a particular real world problem. Additional objectives includes the following\n",
    "1. having a better understanding of the data and domain of where the dataset originate from\n",
    "2. more hands on experience in the realm of Machine Learning Engineering (MLE) to create models that can solve real world problem\n",
    "3. understand the ML Workflow to create value added benefits for companies\n",
    "4. improve predictive accuracy than existing methods employed in the field \n",
    "5. Identify factors that are relevant in identifying thyroid problem in patient\n",
    "6. Predict the class that each record belong to based on attributes in the dataset\n",
    "7. encourage further discussion and research on plausible methods employed for the domain"
   ]
  },
  {
   "cell_type": "markdown",
   "id": "5238628d-da47-45e8-849d-67571894dd12",
   "metadata": {
    "tags": []
   },
   "source": [
    "## 2. Assumptions & Hypotheses (5 points): Explicitly state assumptions about the data and chosen model(s), identifying potential limitations."
   ]
  },
  {
   "cell_type": "markdown",
   "id": "50d94a12-315b-46c6-88bd-526bb3fabbe5",
   "metadata": {
    "tags": []
   },
   "source": [
    "### Here are the assumptions that have to be made regarding the data:\n",
    "1. That the data collection process is performed well without any bias. For example, there wasn't explicit omission of people who have thyroid problem, and inclusion of poeple who do not have thyroid problem (although this may be an assumption that does exist in the dataset. Survivorship bias exist in this dataset since presumably particular criteria such as being a patient at a hospital/ran into symptoms of throat problem entail having the entry created in the dataset)\n",
    "2. The dataset is a fair representation of a population (even though again this may be an assumption that is easily broken since people who don't have thyroid problem wouldn't create an entry in the dataset. This indicate sampling bias)\n",
    "3. There was not any coding errors while doing the data collection process (for example, no typing errors for the numbers)\n",
    "4. The potential limitation that is involved in this project is the given amount of time, energy, constraints, and direction that could be used to explore the variables. There could be additional higher dimensional cross column variables that can be explored"
   ]
  },
  {
   "cell_type": "markdown",
   "id": "a92fc6d8-b066-4440-803e-6a380e1ba85d",
   "metadata": {},
   "source": [
    "### The data comes from a reputable source of UCI Machine Learning Repository. Given the nature of academic honesty and research purposes, I would assume that I do not have to worry as much about if the data is intentionally created with fake data"
   ]
  },
  {
   "cell_type": "markdown",
   "id": "ec5ecac2-1592-40da-ad67-11cdb46c280b",
   "metadata": {},
   "source": [
    "## 3. Data Exploration (5 points): Conduct in-depth exploratory data analysis, visualizing key relationships and identifying potential quality issues."
   ]
  },
  {
   "cell_type": "markdown",
   "id": "e7f6e34d-e2fe-4faa-9aaa-7c4dabf2271a",
   "metadata": {},
   "source": [
    "### Please see associated ThyroidDisease.ipynb for all the exploratory data analysis and visualization performed. Regarding potential quality issues, this dataset is relatively clean without many issues of missing data. However, there are some impossible values that are observed for certain records, which is identified in the analysis. Beside the impossible values which are likely entry errors or intentionally created fake data, there are some data that are missing at random (MAR). This can be identified due to the fact that the measured metric columns have an associated metric_measured column that shows whether or not the recorded person have performed a measurement. If the measurement isn't performed, it make sense that the value for the metric column should be `?` as the value is not obtained."
   ]
  },
  {
   "cell_type": "markdown",
   "id": "7a6ee017-97cf-4430-b136-cdc8629744e5",
   "metadata": {},
   "source": [
    "## 4. Feature Engineering (5 points): Justify feature selection, creation, and any necessary transformations to enhance model input."
   ]
  },
  {
   "cell_type": "markdown",
   "id": "23ffa02c-64bc-4a0a-a259-24d0e91e3587",
   "metadata": {},
   "source": [
    "For the dataset, I performed the following steps to perform feature engineering and transformation in hopes of enhancing model output\n",
    "1. Perform kNNImputation regarding the specific metric measures of people based on the {metric_name}_measured having a True/False value\n",
    "2. One hot encoded category variable such as sex and referral_source\n",
    "3. Created an additional variable called log_TSH_imputed since TSH_imputed is left skewed\n",
    "4. Standard scaling features that are in the dataset"
   ]
  },
  {
   "cell_type": "markdown",
   "id": "7c450c56-4c1f-42a0-b241-df3256962f46",
   "metadata": {},
   "source": [
    "## 5. Modeling Approach (5 points): Explain the rationale for model selection and demonstrate techniques to mitigate overfitting/underfitting."
   ]
  },
  {
   "cell_type": "markdown",
   "id": "6c21f52c-62b1-4994-b8d9-ede5d959f819",
   "metadata": {},
   "source": [
    "### The modeling approaches that I am trying to use for this project are as following:\n",
    "1. Support vector classification (SVC) since this problem is a classification problem\n",
    "    - with different kernels to experiment how the model performs\n",
    "2. Tree-based classifier algorithms such as following\n",
    "    - DecisionTreeClassifier\n",
    "    - RandomForestClassifier\n",
    "    - AdaBoostClassifier\n",
    "    - GradientBoostingClassifier\n",
    "        - Reason why they are chosen are because ease of implementation and explainability, which are essential in the hospital setting as doctors may want to explain what is going on for the patient to consider different treatment options"
   ]
  },
  {
   "cell_type": "markdown",
   "id": "f08e354f-85fe-4671-9b01-d79ab0061d32",
   "metadata": {},
   "source": [
    "### The techniques that are employed to mitigate overfitting/underfitting are the following:\n",
    "1. Perform RandomizedSearchCV to find the optimal parameters for a particular model\n",
    "2. Perform GridSearchCV to find the optimal paramters for a particular model (this is more time consuming)"
   ]
  },
  {
   "cell_type": "markdown",
   "id": "fe687bc0-aa67-4009-a560-67eb1eda4267",
   "metadata": {},
   "source": [
    "## 6. Model Justification (5 points): Provide a clear justification for the final model choice, potentially including the use of regularization techniques."
   ]
  },
  {
   "cell_type": "markdown",
   "id": "456ee422-aa9d-41ec-a6c4-1dd3c4adac2c",
   "metadata": {},
   "source": [
    "### The model that I decided to use as a final one is the AdaBoost one\n",
    "- Adaboost quick review:\n",
    "    - Sequentially training models to correct the errors made by previous models\n",
    "    - Each model is trained on a weighted version of the training data with higher weights assigned to misclassified samples\n",
    "-  Reason why it is chosen\n",
    "    - Able to identify alternative classes beyond just concentrating on the negative label\n",
    "    - emphasis on difficult to classify samples help improve overall model performance \n",
    "    - can be applied to both classification and regression problems\n",
    "    - versatile and powerful tool"
   ]
  },
  {
   "cell_type": "markdown",
   "id": "6c48e7f2-4d75-42fb-94a0-ae5d4ec4c67f",
   "metadata": {
    "tags": []
   },
   "source": [
    "## 7. Results & Insights (5 points): Accurately report performance metrics and extract meaningful conclusions from the modeling process."
   ]
  },
  {
   "cell_type": "markdown",
   "id": "80b05bf1-dafc-4c62-b74d-f5c08d08afe9",
   "metadata": {
    "tags": []
   },
   "source": [
    "### The performance metrics that is applicable for this particular use case is accuracy, confusion matrix, precision & recall, and AUC-ROC.\n",
    "- For each one of the performance metrics, here are the result for the final model\n",
    "    - Accuracy\n",
    "        - help identify the class imbalance\n",
    "    - Confusion matrix\n",
    "        - help identify the class imbalance\n",
    "    - Precision & Recall\n",
    "        - help identify the class imbalance. \n",
    "    - AUC-ROC\n",
    "        - help identify the class imbalance and how the model is performing for each one of the classes\n",
    "- The images and values of each of the corresponding mentioned performance metrics is seen in the attached ThyroidDisease.ipynb"
   ]
  },
  {
   "cell_type": "markdown",
   "id": "7d4d4e29-dcd9-43b7-918d-f5ebd8cad104",
   "metadata": {},
   "source": [
    "### Some of the conclusion that could be drawn from the modeling process are the following\n",
    "- there is a relatively long process that needs to be done in order to fully understand what the data is about and what real-world problem can the model built from the model help resolve. \n",
    "- This modeling process also needs continuous iteration and monitoring since coding errors may have occurred, and there may be issues that needs additional consideration.\n",
    "- Identifying thyroid problem in patient is an inherently hard task with just structured data\n",
    "- Even with well-defined classification problem, there are data issues that need to be examined thoroughly\n",
    "- Imbalanced class is quite often the case in medical setting, as seen in this particular dataset\n",
    "- Underfitting and overfitting also is seen in this problem using various modeling tools and techniques"
   ]
  },
  {
   "cell_type": "markdown",
   "id": "a13cbdfe-b9d3-406a-8d31-bfb59d88cd76",
   "metadata": {
    "tags": []
   },
   "source": [
    "## 8. Future Directions (5 points): Outline specific recommendations for model improvement and further research avenues."
   ]
  },
  {
   "cell_type": "markdown",
   "id": "21f8e860-e48c-40d2-901d-821dd8697415",
   "metadata": {},
   "source": [
    "### Recommendations for model improvement includes the following:\n",
    "1. Create additional feature variables based on existing variables that are in the dataset. This dataset only have 29 attributes.\n",
    "2. Collect more diverse data on the class variables that are under represented\n",
    "3. Creating new training data based on the testing dataset with classes that are not within training dataset\n",
    "4. Perform out-of-bag evaluation on random forest model\n",
    "5. Create additional plots on the overall ML process to understand how each of the steps and components contribute to changes in the model"
   ]
  },
  {
   "cell_type": "markdown",
   "id": "6c46b58b-b8a6-40ab-8e9c-3483183d2ac8",
   "metadata": {
    "tags": []
   },
   "source": [
    "### The further research avenues includes the following:\n",
    "1. Combining dataset from other resources to create a more coherent understanding of how some of the columns are created\n",
    "2. Examine more on how the referral_source is defined. This isn't as clear from the data dictionary or background information. Perhaps if there are more information on the referral_source is defined, analysis could be performed to understand if particular referral_source indicates urgency\n",
    "3. Explore incorporating images of thyroid to have a more diverse dataset, and perform computer vision tasks on these images to better identify the problematic thyroid problems since it is perhaps routine task for a doctor to capture images of the patient during examination to visualize if there may be problems\n",
    "4. Combine result from this model with another machine learning model to inspect the thyroid problem that people have. This echos the ideas of using ensemble methods, stacked ensemble models, and having a pipeline of different models contributing \n",
    "5. Creating more advanced model based on artificial neural network that can be applied in the different folder in the dataset\n",
    "6. Apply Synthetic Minority Oversampling Technique (SMOTE) for this dataset as it is observed from the analysis that there are huge population of rows that are considered negative for thyroid problem so this may be overpowering making the model unable to learn the features that are specific to the patient who do have thyroid problem\n",
    "7. Create plots of model internals to create action items that can be implemented, integrated, and executed for hospitals/doctors\n",
    "8. Examination of time for model deployment and options since it may be considered essential for a model that determine if a patient has thyroid problem to run quickly instead of taking hours to run\n",
    "9. Examination of interpretability of models. The model that are built in this project are considerably explainable with the the different attributes that are in the dataset, but as model building venture into the territory of neural network, explainability become a problem and may pose issues for hospital settings"
   ]
  }
 ],
 "metadata": {
  "kernelspec": {
   "display_name": "Python 3 (ipykernel)",
   "language": "python",
   "name": "python3"
  },
  "language_info": {
   "codemirror_mode": {
    "name": "ipython",
    "version": 3
   },
   "file_extension": ".py",
   "mimetype": "text/x-python",
   "name": "python",
   "nbconvert_exporter": "python",
   "pygments_lexer": "ipython3",
   "version": "3.11.7"
  }
 },
 "nbformat": 4,
 "nbformat_minor": 5
}
