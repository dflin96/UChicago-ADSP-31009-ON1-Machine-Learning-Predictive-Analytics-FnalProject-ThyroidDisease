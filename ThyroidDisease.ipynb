{
 "cells": [
  {
   "cell_type": "markdown",
   "id": "6f9913eb",
   "metadata": {
    "tags": []
   },
   "source": [
    "# Autumn 2024 ADSP 31009 ON1 Machine Learning & Predictive Analytics Final Project - Thyroid Disease Prediction"
   ]
  },
  {
   "cell_type": "markdown",
   "id": "3dc64684",
   "metadata": {
    "tags": []
   },
   "source": [
    "##  Background: _____\n",
    "Reading:\n",
    "- https://link.springer.com/article/10.1007/s44196-023-00388-2\n",
    "- https://iopscience.iop.org/article/10.1088/1742-6596/1963/1/012140/pdf"
   ]
  },
  {
   "cell_type": "markdown",
   "id": "5996f798",
   "metadata": {},
   "source": [
    "## Dataset Background: https://archive.ics.uci.edu/dataset/102/thyroid+disease"
   ]
  },
  {
   "cell_type": "markdown",
   "id": "522bfd83-9256-415c-a098-aaa809c512cb",
   "metadata": {},
   "source": [
    "## Dataset Download: https://archive.ics.uci.edu/static/public/102/thyroid+disease.zip"
   ]
  },
  {
   "cell_type": "markdown",
   "id": "1eacf399-ece1-49b9-8df3-759da6280235",
   "metadata": {},
   "source": [
    "To download the zip folder from the source"
   ]
  },
  {
   "cell_type": "code",
   "execution_count": 585,
   "id": "72a86864-3cf7-4d77-8f93-64fe6e1eb466",
   "metadata": {
    "tags": []
   },
   "outputs": [],
   "source": [
    "import requests \n",
    "\n",
    "def download_url(url, save_path, chunk_size=128):\n",
    "    r = requests.get(url, stream=True)\n",
    "    with open(save_path, 'wb') as fd:\n",
    "        for chunk in r.iter_content(chunk_size=chunk_size):\n",
    "            fd.write(chunk)\n",
    "            \n",
    "source_zip_file_url = 'https://archive.ics.uci.edu/static/public/102/thyroid+disease.zip'\n",
    "local_zip_file_location = \"./data/thyroid+disease.zip\"\n",
    "download_url(source_zip_file_url, local_zip_file_location)"
   ]
  },
  {
   "cell_type": "markdown",
   "id": "a84be715-8476-47d4-b087-f69b25f7455e",
   "metadata": {},
   "source": [
    "To extract the zip archive file into a folder"
   ]
  },
  {
   "cell_type": "code",
   "execution_count": 587,
   "id": "a9f4798e-f93c-429b-9079-c23cade4ae9f",
   "metadata": {
    "tags": []
   },
   "outputs": [],
   "source": [
    "import zipfile\n",
    "\n",
    "zip_file = zipfile.ZipFile(file = local_zip_file_location, mode='r')\n",
    "local_folder_location = \"./data/thyroid+disease\"\n",
    "zip_file.extractall(local_folder_location)"
   ]
  },
  {
   "cell_type": "markdown",
   "id": "6a68489b",
   "metadata": {},
   "source": [
    "## Similar projects done on Thyroid Disease Prediction:\n",
    "- https://www.kaggle.com/code/adiii1652/thyroid-disease-analysis\n",
    "- https://www.kaggle.com/code/anubhavmaverick/thyroid-missing-value-algorithm"
   ]
  },
  {
   "cell_type": "markdown",
   "id": "6698ef8e",
   "metadata": {
    "tags": []
   },
   "source": [
    "## Start of Project Analysis"
   ]
  },
  {
   "cell_type": "markdown",
   "id": "e6f4e8b6",
   "metadata": {
    "tags": []
   },
   "source": [
    "### Import necessary packages"
   ]
  },
  {
   "cell_type": "code",
   "execution_count": 591,
   "id": "aba1fe1f",
   "metadata": {
    "tags": []
   },
   "outputs": [],
   "source": [
    "import pandas as pd\n",
    "import numpy as np\n",
    "import matplotlib.pyplot as plt\n",
    "import seaborn as sns\n",
    "import warnings\n",
    "from sklearn.linear_model import BayesianRidge\n",
    "# from sklearn.impute import IterativeImputer, SimpleImputer\n",
    "from sklearn.mixture import GaussianMixture\n",
    "from sklearn.preprocessing import OneHotEncoder, LabelEncoder, OrdinalEncoder, StandardScaler\n",
    "warnings.filterwarnings('ignore')"
   ]
  },
  {
   "cell_type": "markdown",
   "id": "cfd6947f",
   "metadata": {
    "tags": []
   },
   "source": [
    "### For clarity, addititional step to reorgnanize the dataset is performed. Here are the steps that are performed after the .zip file is unzipped\n",
    "1. new folder ann, archive_thyroid_disease, domain_knowledge, new_thyroid, questionable_data are created under the throid+disease folder (associated code to do so programatically as attached below)\n",
    "2. the file structure for the files moved is as below"
   ]
  },
  {
   "cell_type": "markdown",
   "id": "bd73ce7f",
   "metadata": {},
   "source": [
    "Code to programaically create the folders and move files"
   ]
  },
  {
   "cell_type": "code",
   "execution_count": 594,
   "id": "d5a66125",
   "metadata": {
    "tags": []
   },
   "outputs": [
    {
     "name": "stdout",
     "output_type": "stream",
     "text": [
      "mkdir: ./data/thyroid+disease//ann: File exists\n",
      "mkdir: ./data/thyroid+disease//archive_thyroid_disease: File exists\n",
      "mkdir: ./data/thyroid+disease//domain_knowledge: File exists\n",
      "mkdir: ./data/thyroid+disease//new_thyroid: File exists\n",
      "mkdir: ./data/thyroid+disease//questionable_data: File exists\n"
     ]
    }
   ],
   "source": [
    "base_dir = \"./data/thyroid+disease/\"\n",
    "!mkdir {base_dir}/ann\n",
    "!mkdir {base_dir}/archive_thyroid_disease\n",
    "!mkdir {base_dir}/domain_knowledge\n",
    "!mkdir {base_dir}/new_thyroid\n",
    "!mkdir {base_dir}/questionable_data\n",
    "\n",
    "!find {base_dir} -maxdepth 1 -name \"ann*\" ! -path {base_dir}/ann -exec mv {{}} {base_dir}/ann \\;\n",
    "!mv {base_dir}/thyroid0387* {base_dir}/archive_thyroid_disease/\n",
    "!mv {base_dir}/thyroid.theory {base_dir}/domain_knowledge/\n",
    "!mv {base_dir}/new-thyroid* {base_dir}/new_thyroid\n",
    "!mv {base_dir}/hypothyroid* {base_dir}/questionable_data/\n",
    "!mv {base_dir}/sick-euthyroid* {base_dir}/questionable_data/"
   ]
  },
  {
   "cell_type": "markdown",
   "id": "f2503daf",
   "metadata": {},
   "source": [
    "File structure of the folder"
   ]
  },
  {
   "cell_type": "code",
   "execution_count": 596,
   "id": "16579c2d",
   "metadata": {
    "tags": []
   },
   "outputs": [],
   "source": [
    "# From https://stackoverflow.com/questions/9727673/list-directory-tree-structure-in-python\n",
    "from pathlib import Path\n",
    "\n",
    "# prefix components:\n",
    "space =  '    '\n",
    "branch = '│   '\n",
    "# pointers:\n",
    "tee =    '├── '\n",
    "last =   '└── '\n",
    "\n",
    "\n",
    "def tree(dir_path: Path, prefix: str=''):\n",
    "    \"\"\"A recursive generator, given a directory Path object\n",
    "    will yield a visual tree structure line by line\n",
    "    with each line prefixed by the same characters\n",
    "    \"\"\"    \n",
    "    contents = list(dir_path.iterdir())\n",
    "    # contents each get pointers that are ├── with a final └── :\n",
    "    pointers = [tee] * (len(contents) - 1) + [last]\n",
    "    for pointer, path in zip(pointers, contents):\n",
    "        yield prefix + pointer + path.name\n",
    "        if path.is_dir(): # extend the prefix and recurse:\n",
    "            extension = branch if pointer == tee else space \n",
    "            # i.e. space because last, └── , above so no more |\n",
    "            yield from tree(path, prefix=prefix+extension)"
   ]
  },
  {
   "cell_type": "code",
   "execution_count": 597,
   "id": "e03f45cf",
   "metadata": {
    "tags": []
   },
   "outputs": [
    {
     "name": "stdout",
     "output_type": "stream",
     "text": [
      "├── ann\n",
      "│   ├── ann-train.data\n",
      "│   ├── ann-Readme\n",
      "│   ├── ann-thyroid.names\n",
      "│   └── ann-test.data\n",
      "├── costs\n",
      "│   ├── ann-thyroid.README\n",
      "│   ├── ann-thyroid.delay\n",
      "│   ├── ann-thyroid.expense\n",
      "│   ├── ann-thyroid.group\n",
      "│   ├── Index\n",
      "│   ├── .ipynb_checkpoints\n",
      "│   │   └── Index-checkpoint\n",
      "│   └── ann-thyroid.cost\n",
      "├── allrep.names\n",
      "├── archive_thyroid_disease\n",
      "│   ├── thyroid0387.names\n",
      "│   └── thyroid0387.data\n",
      "├── allbp.test\n",
      "├── allhypo.names\n",
      "├── allhypo.test\n",
      "├── dis.data\n",
      "├── allrep.data\n",
      "├── allhyper.data\n",
      "├── sick.names\n",
      "├── sick.data\n",
      "├── dis.names\n",
      "├── allhyper.test\n",
      "├── allrep.test\n",
      "├── dis.test\n",
      "├── sick.test\n",
      "├── new_thyroid\n",
      "│   ├── new-thyroid.names\n",
      "│   └── new-thyroid.data\n",
      "├── questionable_data\n",
      "│   ├── sick-euthyroid.names\n",
      "│   ├── hypothyroid.data\n",
      "│   ├── sick-euthyroid.data\n",
      "│   └── hypothyroid.names\n",
      "├── allhypo.data\n",
      "├── domain_knowledge\n",
      "│   └── thyroid.theory\n",
      "├── Index\n",
      "├── allbp.data\n",
      "├── .ipynb_checkpoints\n",
      "│   ├── allbp-checkpoint.data\n",
      "│   ├── allrep-checkpoint.names\n",
      "│   ├── dis-checkpoint.names\n",
      "│   ├── dis-checkpoint.test\n",
      "│   ├── allrep-checkpoint.test\n",
      "│   ├── allhyper-checkpoint.test\n",
      "│   ├── sick-checkpoint.test\n",
      "│   ├── allhyper-checkpoint.names\n",
      "│   ├── allhypo-checkpoint.test\n",
      "│   ├── allbp-checkpoint.names\n",
      "│   ├── sick-checkpoint.names\n",
      "│   ├── allhypo-checkpoint.names\n",
      "│   └── allbp-checkpoint.test\n",
      "├── HELLO\n",
      "├── allbp.names\n",
      "└── allhyper.names\n"
     ]
    }
   ],
   "source": [
    "for line in tree(Path(\"./data/thyroid+disease/\")):\n",
    "    print(line)"
   ]
  },
  {
   "cell_type": "markdown",
   "id": "2837fb79",
   "metadata": {
    "tags": []
   },
   "source": [
    "### Dataset description"
   ]
  },
  {
   "cell_type": "code",
   "execution_count": 599,
   "id": "fbdb80f4",
   "metadata": {
    "tags": []
   },
   "outputs": [
    {
     "data": {
      "text/markdown": [
       "          General Description of Thyroid Disease Databases \n",
       "                        and Related Files\n",
       "\n",
       "This directory contains 6 databases, corresponding test set, and \n",
       "corresponding documentation.  They were left at the University of\n",
       "California at Irvine by Ross Quinlan during his visit in 1987 for\n",
       "the 1987 Machine Learning Workshop.  \n",
       "\n",
       "The documentation files (with file extension \"names\") are formatted to\n",
       "be read by Quinlan's C4 decision tree program.  Though briefer than\n",
       "the other documentation files found in this database repository, they\n",
       "should suffice to describe the database, specifically:\n",
       "\n",
       "    1. Source\n",
       "    2. Number and names of attributes (including class names)\n",
       "    3. Types of values that each attribute takes\n",
       "\n",
       "In general, these databases are quite similar and can be characterized\n",
       "somewhat as follows:\n",
       "\n",
       "    1. Many attributes (29 or so, mostly the same set over all the databases)\n",
       "    2. mostly numeric or Boolean valued attributes\n",
       "    3. thyroid disease domains (records provided by the Garavan Institute\n",
       "       of Sydney, Australia)\n",
       "    4. several missing attribute values (signified by \"?\")\n",
       "    5. small number of classes (under 10, changes with each database)\n",
       "    7. 2800 instances in each data set\n",
       "    8. 972 instances in each test set (It seems that the test sets' instances\n",
       "       are disjoint with respect to the corresponding data sets, but this has \n",
       "       not been verified)\n",
       "\n",
       "See the following for a discussion of relevant experiments and related work:\n",
       "   Quinlan,J.R., Compton,P.J., Horn,K.A., & Lazurus,L. (1986).\n",
       "   Inductive knowledge acquisition: A case study.\n",
       "   In Proceedings of the Second Australian Conference on Applications\n",
       "   of Expert Systems.  Sydney, Australia.\n",
       "\n",
       "   Quinlan,J.R. (1986). Induction of decision trees. Machine Learning,\n",
       "   1, 81--106.\n",
       "\n",
       "Note that the instances in these databases are followed by a vertical\n",
       "bar and a number.  These appear to be a patient id number.  The vertical\n",
       "bar is interepreted by Quinlan's algorithms as \"ignore the remainder of\n",
       "this line\". \n",
       "\n",
       "======================================================================\n",
       "This database now also contains an additional two data files, named \n",
       "hypothyroid.data and sick-euthyroid.data.  They have approximately the\n",
       "same data format and set of attributes as the other 6 databases, but\n",
       "their integrity is questionable.  Ross Quinlan is concerned that they\n",
       "may have been corrupted since they first arrived at UCI, but we have not\n",
       "yet established the validity of this possibility.  These 2 databases differ\n",
       "in terms of their number of instances (3163) and lack of corresponding \n",
       "test files.  They each have 2 concepts (negative/hypothyroid and \n",
       "sick-euthyroid/negative respectively).  Their source also appears to\n",
       "be the Garavan institute.  Each contains several missing values.\n",
       "\n",
       "Another relatively recent file thyroid0387.data has been added that \n",
       "contains the latest version of an archive of thyroid diagnoses obtained \n",
       "from the Garvan Institute, consisting of 9172 records from 1984 to early 1987.\n",
       "\n",
       "A domain theory related to thyroid desease has also been added recently \n",
       "(thyroid.theory).\n",
       "\n",
       "The files new-thyroid.[names,data] were donated by Stefan Aberhard.\n",
       "\n",
       "\n",
       "\n"
      ],
      "text/plain": [
       "<IPython.core.display.Markdown object>"
      ]
     },
     "metadata": {},
     "output_type": "display_data"
    }
   ],
   "source": [
    "from IPython.display import Markdown, display\n",
    "\n",
    "display(Markdown(\"./data/thyroid+disease/HELLO\"))"
   ]
  },
  {
   "cell_type": "markdown",
   "id": "4661ce46",
   "metadata": {
    "tags": []
   },
   "source": [
    "### Load in the dataset"
   ]
  },
  {
   "cell_type": "markdown",
   "id": "d3e210b9-f627-48f9-9840-63e22d4acc9f",
   "metadata": {},
   "source": [
    "Run through a shell command to retreive the list of training data files"
   ]
  },
  {
   "cell_type": "code",
   "execution_count": 602,
   "id": "164c754f-4006-427f-af70-5ccbba95fd22",
   "metadata": {
    "tags": []
   },
   "outputs": [
    {
     "name": "stdout",
     "output_type": "stream",
     "text": [
      "./data/thyroid+disease//dis.data\n",
      "./data/thyroid+disease//allrep.data\n",
      "./data/thyroid+disease//allhyper.data\n",
      "./data/thyroid+disease//sick.data\n",
      "./data/thyroid+disease//allhypo.data\n",
      "./data/thyroid+disease//allbp.data\n"
     ]
    }
   ],
   "source": [
    "# To get the output from a shell command into a variable\n",
    "# Reference: https://stackoverflow.com/questions/8659275/how-to-store-the-result-of-an-executed-shell-command-in-a-variable-in-python\n",
    "\n",
    "import subprocess as sp\n",
    "data_files = sp.getoutput(f'find {base_dir} -maxdepth 1 -name \"*.data\"')\n",
    "print(data_files)"
   ]
  },
  {
   "cell_type": "markdown",
   "id": "32e5f16c-4806-4ee5-bb7e-cc73df8ca182",
   "metadata": {},
   "source": [
    "Split the string into list of data files to iterate through to create a master data set"
   ]
  },
  {
   "cell_type": "code",
   "execution_count": 604,
   "id": "a948d61b-92f3-4eba-9404-bce46f814b3c",
   "metadata": {
    "tags": []
   },
   "outputs": [
    {
     "name": "stdout",
     "output_type": "stream",
     "text": [
      "['./data/thyroid+disease//dis.data', './data/thyroid+disease//allrep.data', './data/thyroid+disease//allhyper.data', './data/thyroid+disease//sick.data', './data/thyroid+disease//allhypo.data', './data/thyroid+disease//allbp.data']\n"
     ]
    }
   ],
   "source": [
    "list_of_data_files = data_files.split('\\n')\n",
    "# Clean up variable\n",
    "del data_files\n",
    "print(list_of_data_files)"
   ]
  },
  {
   "cell_type": "markdown",
   "id": "444fdb4a-65ad-40f4-a7e1-849e5eb16a1a",
   "metadata": {},
   "source": [
    "Populate the master data set"
   ]
  },
  {
   "cell_type": "code",
   "execution_count": 606,
   "id": "9c1d6f37-715b-4620-bae4-a87f7f60889b",
   "metadata": {},
   "outputs": [
    {
     "data": {
      "text/html": [
       "<div>\n",
       "<style scoped>\n",
       "    .dataframe tbody tr th:only-of-type {\n",
       "        vertical-align: middle;\n",
       "    }\n",
       "\n",
       "    .dataframe tbody tr th {\n",
       "        vertical-align: top;\n",
       "    }\n",
       "\n",
       "    .dataframe thead th {\n",
       "        text-align: right;\n",
       "    }\n",
       "</style>\n",
       "<table border=\"1\" class=\"dataframe\">\n",
       "  <thead>\n",
       "    <tr style=\"text-align: right;\">\n",
       "      <th></th>\n",
       "      <th>0</th>\n",
       "      <th>1</th>\n",
       "      <th>2</th>\n",
       "      <th>3</th>\n",
       "      <th>4</th>\n",
       "      <th>5</th>\n",
       "      <th>6</th>\n",
       "      <th>7</th>\n",
       "      <th>8</th>\n",
       "      <th>9</th>\n",
       "      <th>...</th>\n",
       "      <th>20</th>\n",
       "      <th>21</th>\n",
       "      <th>22</th>\n",
       "      <th>23</th>\n",
       "      <th>24</th>\n",
       "      <th>25</th>\n",
       "      <th>26</th>\n",
       "      <th>27</th>\n",
       "      <th>28</th>\n",
       "      <th>29</th>\n",
       "    </tr>\n",
       "  </thead>\n",
       "  <tbody>\n",
       "    <tr>\n",
       "      <th>0</th>\n",
       "      <td>41</td>\n",
       "      <td>F</td>\n",
       "      <td>f</td>\n",
       "      <td>f</td>\n",
       "      <td>f</td>\n",
       "      <td>f</td>\n",
       "      <td>f</td>\n",
       "      <td>f</td>\n",
       "      <td>f</td>\n",
       "      <td>f</td>\n",
       "      <td>...</td>\n",
       "      <td>t</td>\n",
       "      <td>125</td>\n",
       "      <td>t</td>\n",
       "      <td>1.14</td>\n",
       "      <td>t</td>\n",
       "      <td>109</td>\n",
       "      <td>f</td>\n",
       "      <td>?</td>\n",
       "      <td>SVHC</td>\n",
       "      <td>negative.|3733</td>\n",
       "    </tr>\n",
       "    <tr>\n",
       "      <th>1</th>\n",
       "      <td>23</td>\n",
       "      <td>F</td>\n",
       "      <td>f</td>\n",
       "      <td>f</td>\n",
       "      <td>f</td>\n",
       "      <td>f</td>\n",
       "      <td>f</td>\n",
       "      <td>f</td>\n",
       "      <td>f</td>\n",
       "      <td>f</td>\n",
       "      <td>...</td>\n",
       "      <td>t</td>\n",
       "      <td>102</td>\n",
       "      <td>f</td>\n",
       "      <td>?</td>\n",
       "      <td>f</td>\n",
       "      <td>?</td>\n",
       "      <td>f</td>\n",
       "      <td>?</td>\n",
       "      <td>other</td>\n",
       "      <td>negative.|1442</td>\n",
       "    </tr>\n",
       "    <tr>\n",
       "      <th>2</th>\n",
       "      <td>46</td>\n",
       "      <td>M</td>\n",
       "      <td>f</td>\n",
       "      <td>f</td>\n",
       "      <td>f</td>\n",
       "      <td>f</td>\n",
       "      <td>f</td>\n",
       "      <td>f</td>\n",
       "      <td>f</td>\n",
       "      <td>f</td>\n",
       "      <td>...</td>\n",
       "      <td>t</td>\n",
       "      <td>109</td>\n",
       "      <td>t</td>\n",
       "      <td>0.91</td>\n",
       "      <td>t</td>\n",
       "      <td>120</td>\n",
       "      <td>f</td>\n",
       "      <td>?</td>\n",
       "      <td>other</td>\n",
       "      <td>negative.|2965</td>\n",
       "    </tr>\n",
       "    <tr>\n",
       "      <th>3</th>\n",
       "      <td>70</td>\n",
       "      <td>F</td>\n",
       "      <td>t</td>\n",
       "      <td>f</td>\n",
       "      <td>f</td>\n",
       "      <td>f</td>\n",
       "      <td>f</td>\n",
       "      <td>f</td>\n",
       "      <td>f</td>\n",
       "      <td>f</td>\n",
       "      <td>...</td>\n",
       "      <td>t</td>\n",
       "      <td>175</td>\n",
       "      <td>f</td>\n",
       "      <td>?</td>\n",
       "      <td>f</td>\n",
       "      <td>?</td>\n",
       "      <td>f</td>\n",
       "      <td>?</td>\n",
       "      <td>other</td>\n",
       "      <td>negative.|806</td>\n",
       "    </tr>\n",
       "    <tr>\n",
       "      <th>4</th>\n",
       "      <td>70</td>\n",
       "      <td>F</td>\n",
       "      <td>f</td>\n",
       "      <td>f</td>\n",
       "      <td>f</td>\n",
       "      <td>f</td>\n",
       "      <td>f</td>\n",
       "      <td>f</td>\n",
       "      <td>f</td>\n",
       "      <td>f</td>\n",
       "      <td>...</td>\n",
       "      <td>t</td>\n",
       "      <td>61</td>\n",
       "      <td>t</td>\n",
       "      <td>0.87</td>\n",
       "      <td>t</td>\n",
       "      <td>70</td>\n",
       "      <td>f</td>\n",
       "      <td>?</td>\n",
       "      <td>SVI</td>\n",
       "      <td>negative.|2807</td>\n",
       "    </tr>\n",
       "  </tbody>\n",
       "</table>\n",
       "<p>5 rows × 30 columns</p>\n",
       "</div>"
      ],
      "text/plain": [
       "   0  1  2  3  4  5  6  7  8  9   ... 20   21 22    23 24   25 26 27     28  \\\n",
       "0  41  F  f  f  f  f  f  f  f  f  ...  t  125  t  1.14  t  109  f  ?   SVHC   \n",
       "1  23  F  f  f  f  f  f  f  f  f  ...  t  102  f     ?  f    ?  f  ?  other   \n",
       "2  46  M  f  f  f  f  f  f  f  f  ...  t  109  t  0.91  t  120  f  ?  other   \n",
       "3  70  F  t  f  f  f  f  f  f  f  ...  t  175  f     ?  f    ?  f  ?  other   \n",
       "4  70  F  f  f  f  f  f  f  f  f  ...  t   61  t  0.87  t   70  f  ?    SVI   \n",
       "\n",
       "               29  \n",
       "0  negative.|3733  \n",
       "1  negative.|1442  \n",
       "2  negative.|2965  \n",
       "3   negative.|806  \n",
       "4  negative.|2807  \n",
       "\n",
       "[5 rows x 30 columns]"
      ]
     },
     "execution_count": 606,
     "metadata": {},
     "output_type": "execute_result"
    }
   ],
   "source": [
    "df = pd.DataFrame()\n",
    "for data_file in list_of_data_files:\n",
    "    if df.empty:\n",
    "        df = pd.read_csv(data_file, header=None)\n",
    "    else:\n",
    "        df = pd.concat([df, pd.read_csv(data_file, header=None)], \n",
    "                       axis=0, # Add rows to DataFrame\n",
    "                       ignore_index=True\n",
    "                      )\n",
    "df.head()"
   ]
  },
  {
   "cell_type": "markdown",
   "id": "5b37f101-beed-4cca-8ad6-1910e712f7e5",
   "metadata": {},
   "source": [
    "Define functions based on the Population steps above to do the exact same step for the testing set"
   ]
  },
  {
   "cell_type": "code",
   "execution_count": 608,
   "id": "9245c6be-e899-4cb6-b9b5-4359b66de927",
   "metadata": {
    "tags": []
   },
   "outputs": [],
   "source": [
    "def IdentifyTestingFiles() -> list:\n",
    "    import subprocess as sp\n",
    "    test_files = sp.getoutput(f'find {base_dir} -maxdepth 1 -name \"*.test\"')\n",
    "    print(data_files)\n",
    "    list_of_test_files = test_files.split('\\n')\n",
    "    # Clean up variable\n",
    "    del test_files\n",
    "    print(list_of_test_files)\n",
    "    return list_of_test_files"
   ]
  },
  {
   "cell_type": "code",
   "execution_count": 609,
   "id": "94bdf8a1-0233-4e2f-8e32-247d63fcffa1",
   "metadata": {
    "tags": []
   },
   "outputs": [],
   "source": [
    "def PopulateMasterTestSet(list_of_test_files: list) -> pd.DataFrame:\n",
    "    import pandas as pd\n",
    "    df = pd.DataFrame()\n",
    "    for test_file in list_of_test_files:\n",
    "        if df.empty:\n",
    "            df = pd.read_csv(test_file, header=None)\n",
    "        else:\n",
    "            df = pd.concat([df, pd.read_csv(test_file, header=None)], \n",
    "                       axis=0, # Add rows to DataFrame\n",
    "                       ignore_index=True\n",
    "                      )\n",
    "    df.head()\n",
    "    return df"
   ]
  },
  {
   "cell_type": "markdown",
   "id": "c906c0d6-596a-4286-adc4-009e2e073f3b",
   "metadata": {},
   "source": [
    "Run through a shell command to retreive the list of data dictionary files"
   ]
  },
  {
   "cell_type": "code",
   "execution_count": 611,
   "id": "a1fc79d2-4fce-4639-8608-0149e0243580",
   "metadata": {
    "tags": []
   },
   "outputs": [
    {
     "name": "stdout",
     "output_type": "stream",
     "text": [
      "./data/thyroid+disease//allrep.names\n",
      "./data/thyroid+disease//allhypo.names\n",
      "./data/thyroid+disease//sick.names\n",
      "./data/thyroid+disease//dis.names\n",
      "./data/thyroid+disease//allbp.names\n",
      "./data/thyroid+disease//allhyper.names\n"
     ]
    }
   ],
   "source": [
    "dictionary_files = sp.getoutput(f'find {base_dir} -maxdepth 1 -name \"*.names\"')\n",
    "print(dictionary_files)"
   ]
  },
  {
   "cell_type": "markdown",
   "id": "ba740ef9-dca0-4b7c-b979-37be73d88e79",
   "metadata": {},
   "source": [
    "Split the string into list of dictionary files to iterate through to create a master dictionary of the dataset"
   ]
  },
  {
   "cell_type": "code",
   "execution_count": 613,
   "id": "0bfc9762-7347-4fe6-b52a-6b8bc1aeb13a",
   "metadata": {
    "tags": []
   },
   "outputs": [
    {
     "name": "stdout",
     "output_type": "stream",
     "text": [
      "['./data/thyroid+disease//allrep.names', './data/thyroid+disease//allhypo.names', './data/thyroid+disease//sick.names', './data/thyroid+disease//dis.names', './data/thyroid+disease//allbp.names', './data/thyroid+disease//allhyper.names']\n"
     ]
    }
   ],
   "source": [
    "list_of_dictionary_files = dictionary_files.split('\\n')\n",
    "# Clean up variable\n",
    "del dictionary_files\n",
    "print(list_of_dictionary_files)"
   ]
  },
  {
   "cell_type": "markdown",
   "id": "d8e9c049-8d20-464d-8779-744c1da29d14",
   "metadata": {},
   "source": [
    "Populate the col_names list for naming the columns in the dataset, and create the data_dictionary which is a dictionary of key column names, value list of available values for each of the column"
   ]
  },
  {
   "cell_type": "code",
   "execution_count": 615,
   "id": "58a2091f-afb6-48be-80f1-fcbe296a6f15",
   "metadata": {
    "tags": []
   },
   "outputs": [],
   "source": [
    "col_names = []\n",
    "data_dictionary = {}\n",
    "\n",
    "for dictionary_file in list_of_dictionary_files:\n",
    "    with open(dictionary_file, mode = 'r', encoding = 'utf-8-sig') as f:\n",
    "        # First 6 lines are descriptions so ignore. 7th line is empty line so doesn't matter either\n",
    "        for times in range(7):\n",
    "            _ = f.readline()\n",
    "\n",
    "        # Read in remaining lines into a variable\n",
    "        list_of_string_in_line = f.readlines()\n",
    "\n",
    "        # Build up a list of column name, and a dictionary for data\n",
    "        for string_in_line in list_of_string_in_line:\n",
    "            # The column name are identified by ':'\n",
    "            if ':' in string_in_line:\n",
    "                # The first part of the line tells me what the column name is\n",
    "                col_name = string_in_line.split(\":\")[0]\n",
    "                # Remove spacing with the charcter '_' for column name format\n",
    "                if \" \" in col_name:\n",
    "                    col_name = col_name.replace(' ', '_')\n",
    "\n",
    "                # Only perform this action when the item is not in the list. Only done once\n",
    "                if col_name not in col_names:\n",
    "                    # Populate the column name for the dataset\n",
    "                    col_names.append(col_name)\n",
    "\n",
    "                # The 2nd part of the line tells me what are the values that are in the column\n",
    "                values_for_col = string_in_line.split(\":\")[1]\n",
    "                # Cleanup the splitting characters\n",
    "                values_for_col = values_for_col.replace(\"\\t\", \"\").replace('\\n', '').replace('.', '').replace(' ', '')\n",
    "                # Split up the string to identify individual values allowed for column\n",
    "                values_for_col = values_for_col.split(\",\")\n",
    "\n",
    "                # Initialize value for the dictionary only once\n",
    "                if col_name not in data_dictionary.keys():\n",
    "                    data_dictionary[col_name] = []\n",
    "                \n",
    "                # Create a dictionary of the data\n",
    "                # If the value list is just initialized\n",
    "                if data_dictionary[col_name] == []:\n",
    "                    # Assign the whole list as new value list\n",
    "                    data_dictionary[col_name] = values_for_col\n",
    "                    # data_dictionary[col_name].extend(values_for_col)\n",
    "                # If there is at least a value in values_for_col not in the value list\n",
    "                elif any([value_for_col not in data_dictionary[col_name] for value_for_col in values_for_col]):\n",
    "                    # Add each value that is not in the list to the value list\n",
    "                    for value_not_in_list in [val for val in values_for_col if val not in data_dictionary[col_name]]:\n",
    "                        data_dictionary[col_name].append(value_not_in_list)\n",
    "\n",
    "                        \n",
    "        # Find out where the word `class` is to identify the class variable\n",
    "        index_of_class = ['class' in string_in_line for string_in_line in list_of_string_in_line].index(True)\n",
    "\n",
    "        # Concat the strings from start to identify the class options \n",
    "        class_options = ''.join(list_of_string_in_line[:index_of_class+1])\n",
    "        # Cleanup the splitting characters\n",
    "        class_options = class_options.replace(\"\\t\", \"\").replace('\\n', '').replace('.', '')\n",
    "\n",
    "        # Find out location of the | character to find out the classes that are represented in dataset\n",
    "        index_of_pipe = class_options.index('|')\n",
    "        # Split up the string to identify individual values allowed for class\n",
    "        class_options = class_options[:index_of_pipe].split(\",\")\n",
    "                \n",
    "        # Build a list of the class option through getting rid of front and back spacing\n",
    "        # and replace spacing between with _ character\n",
    "        list_of_class_options = [class_option.strip().replace(' ', '_') for class_option in class_options]\n",
    "        \n",
    "        \n",
    "        # Initialize the key class value list only once\n",
    "        if 'class' not in data_dictionary.keys():\n",
    "            data_dictionary['class'] = []\n",
    "\n",
    "        # Populate data dictionary class key values\n",
    "        # If the value list for the class key is just initialized\n",
    "        if data_dictionary['class'] == []:\n",
    "            # Assign the whole list as new value list\n",
    "            data_dictionary['class'] = list_of_class_options\n",
    "            # data_dictionary['class'].extend(list_of_class_options)\n",
    "        # If there is at least a value in list_of_class_options not in the value list for the class key\n",
    "        elif any([class_option not in data_dictionary['class'] for class_option in list_of_class_options]):\n",
    "            # Add each value that is not in the list to the value list for the class key\n",
    "            for value_not_in_list in [val for val in list_of_class_options if val not in data_dictionary['class']]:\n",
    "                data_dictionary['class'].append(value_not_in_list)\n",
    "        \n",
    "# Class is the last column in the dataset\n",
    "col_names.append('class')"
   ]
  },
  {
   "cell_type": "markdown",
   "id": "26f16d7b-e7f9-4773-8043-20811b7e6822",
   "metadata": {},
   "source": [
    "Examine the cleaning process from above to see what is the output"
   ]
  },
  {
   "cell_type": "code",
   "execution_count": 617,
   "id": "19ce9581-744d-4cd3-a5b6-2cb1ed8fec26",
   "metadata": {
    "tags": []
   },
   "outputs": [
    {
     "name": "stdout",
     "output_type": "stream",
     "text": [
      "The list of column names include the following\n",
      "['age', 'sex', 'on_thyroxine', 'query_on_thyroxine', 'on_antithyroid_medication', 'sick', 'pregnant', 'thyroid_surgery', 'I131_treatment', 'query_hypothyroid', 'query_hyperthyroid', 'lithium', 'goitre', 'tumor', 'hypopituitary', 'psych', 'TSH_measured', 'TSH', 'T3_measured', 'T3', 'TT4_measured', 'TT4', 'T4U_measured', 'T4U', 'FTI_measured', 'FTI', 'TBG_measured', 'TBG', 'referral_source', 'class']\n",
      "Below is the dictionary of form (key, value) where key are the column names, value are the allowable values for each column\n",
      "{'age': ['continuous'], 'sex': ['M', 'F'], 'on_thyroxine': ['f', 't'], 'query_on_thyroxine': ['f', 't'], 'on_antithyroid_medication': ['f', 't'], 'sick': ['f', 't'], 'pregnant': ['f', 't'], 'thyroid_surgery': ['f', 't'], 'I131_treatment': ['f', 't'], 'query_hypothyroid': ['f', 't'], 'query_hyperthyroid': ['f', 't'], 'lithium': ['f', 't'], 'goitre': ['f', 't'], 'tumor': ['f', 't'], 'hypopituitary': ['f', 't'], 'psych': ['f', 't'], 'TSH_measured': ['f', 't'], 'TSH': ['continuous'], 'T3_measured': ['f', 't'], 'T3': ['continuous'], 'TT4_measured': ['f', 't'], 'TT4': ['continuous'], 'T4U_measured': ['f', 't'], 'T4U': ['continuous'], 'FTI_measured': ['f', 't'], 'FTI': ['continuous'], 'TBG_measured': ['f', 't'], 'TBG': ['continuous'], 'referral_source': ['WEST', 'STMW', 'SVHC', 'SVI', 'SVHD', 'other'], 'class': ['replacement_therapy', 'underreplacement', 'overreplacement', 'negative', 'hypothyroid', 'primary_hypothyroid', 'compensated_hypothyroid', 'secondary_hypothyroid', 'sick', 'discordant', 'increased_binding_protein', 'decreased_binding_protein', 'hyperthyroid', 'T3_toxic', 'goitre', 'secondary_toxic']}\n"
     ]
    }
   ],
   "source": [
    "print('The list of column names include the following')\n",
    "print(col_names)\n",
    "\n",
    "print('Below is the dictionary of form (key, value) \\\n",
    "where key are the column names, \\\n",
    "value are the allowable values for each column')\n",
    "print(data_dictionary)"
   ]
  },
  {
   "cell_type": "markdown",
   "id": "d6bcb559-02c9-442f-bc3e-115cee6a6d0c",
   "metadata": {
    "tags": []
   },
   "source": [
    "Sanity check the extraction of column name matches the number of columns in the dataframe"
   ]
  },
  {
   "cell_type": "code",
   "execution_count": 619,
   "id": "078a5d24-408c-49d2-b38a-44768b64919c",
   "metadata": {
    "tags": []
   },
   "outputs": [],
   "source": [
    "assert len(col_names) == len(df.columns)"
   ]
  },
  {
   "cell_type": "markdown",
   "id": "e7f824e8-b3b2-4a85-a7b8-739329f933ca",
   "metadata": {},
   "source": [
    "Set the column name of the dataframe"
   ]
  },
  {
   "cell_type": "code",
   "execution_count": 621,
   "id": "8b86d06a-d10d-4f36-8404-015d1cc6cd16",
   "metadata": {
    "tags": []
   },
   "outputs": [
    {
     "data": {
      "text/html": [
       "<div>\n",
       "<style scoped>\n",
       "    .dataframe tbody tr th:only-of-type {\n",
       "        vertical-align: middle;\n",
       "    }\n",
       "\n",
       "    .dataframe tbody tr th {\n",
       "        vertical-align: top;\n",
       "    }\n",
       "\n",
       "    .dataframe thead th {\n",
       "        text-align: right;\n",
       "    }\n",
       "</style>\n",
       "<table border=\"1\" class=\"dataframe\">\n",
       "  <thead>\n",
       "    <tr style=\"text-align: right;\">\n",
       "      <th></th>\n",
       "      <th>age</th>\n",
       "      <th>sex</th>\n",
       "      <th>on_thyroxine</th>\n",
       "      <th>query_on_thyroxine</th>\n",
       "      <th>on_antithyroid_medication</th>\n",
       "      <th>sick</th>\n",
       "      <th>pregnant</th>\n",
       "      <th>thyroid_surgery</th>\n",
       "      <th>I131_treatment</th>\n",
       "      <th>query_hypothyroid</th>\n",
       "      <th>...</th>\n",
       "      <th>TT4_measured</th>\n",
       "      <th>TT4</th>\n",
       "      <th>T4U_measured</th>\n",
       "      <th>T4U</th>\n",
       "      <th>FTI_measured</th>\n",
       "      <th>FTI</th>\n",
       "      <th>TBG_measured</th>\n",
       "      <th>TBG</th>\n",
       "      <th>referral_source</th>\n",
       "      <th>class</th>\n",
       "    </tr>\n",
       "  </thead>\n",
       "  <tbody>\n",
       "    <tr>\n",
       "      <th>0</th>\n",
       "      <td>41</td>\n",
       "      <td>F</td>\n",
       "      <td>f</td>\n",
       "      <td>f</td>\n",
       "      <td>f</td>\n",
       "      <td>f</td>\n",
       "      <td>f</td>\n",
       "      <td>f</td>\n",
       "      <td>f</td>\n",
       "      <td>f</td>\n",
       "      <td>...</td>\n",
       "      <td>t</td>\n",
       "      <td>125</td>\n",
       "      <td>t</td>\n",
       "      <td>1.14</td>\n",
       "      <td>t</td>\n",
       "      <td>109</td>\n",
       "      <td>f</td>\n",
       "      <td>?</td>\n",
       "      <td>SVHC</td>\n",
       "      <td>negative.|3733</td>\n",
       "    </tr>\n",
       "    <tr>\n",
       "      <th>1</th>\n",
       "      <td>23</td>\n",
       "      <td>F</td>\n",
       "      <td>f</td>\n",
       "      <td>f</td>\n",
       "      <td>f</td>\n",
       "      <td>f</td>\n",
       "      <td>f</td>\n",
       "      <td>f</td>\n",
       "      <td>f</td>\n",
       "      <td>f</td>\n",
       "      <td>...</td>\n",
       "      <td>t</td>\n",
       "      <td>102</td>\n",
       "      <td>f</td>\n",
       "      <td>?</td>\n",
       "      <td>f</td>\n",
       "      <td>?</td>\n",
       "      <td>f</td>\n",
       "      <td>?</td>\n",
       "      <td>other</td>\n",
       "      <td>negative.|1442</td>\n",
       "    </tr>\n",
       "    <tr>\n",
       "      <th>2</th>\n",
       "      <td>46</td>\n",
       "      <td>M</td>\n",
       "      <td>f</td>\n",
       "      <td>f</td>\n",
       "      <td>f</td>\n",
       "      <td>f</td>\n",
       "      <td>f</td>\n",
       "      <td>f</td>\n",
       "      <td>f</td>\n",
       "      <td>f</td>\n",
       "      <td>...</td>\n",
       "      <td>t</td>\n",
       "      <td>109</td>\n",
       "      <td>t</td>\n",
       "      <td>0.91</td>\n",
       "      <td>t</td>\n",
       "      <td>120</td>\n",
       "      <td>f</td>\n",
       "      <td>?</td>\n",
       "      <td>other</td>\n",
       "      <td>negative.|2965</td>\n",
       "    </tr>\n",
       "    <tr>\n",
       "      <th>3</th>\n",
       "      <td>70</td>\n",
       "      <td>F</td>\n",
       "      <td>t</td>\n",
       "      <td>f</td>\n",
       "      <td>f</td>\n",
       "      <td>f</td>\n",
       "      <td>f</td>\n",
       "      <td>f</td>\n",
       "      <td>f</td>\n",
       "      <td>f</td>\n",
       "      <td>...</td>\n",
       "      <td>t</td>\n",
       "      <td>175</td>\n",
       "      <td>f</td>\n",
       "      <td>?</td>\n",
       "      <td>f</td>\n",
       "      <td>?</td>\n",
       "      <td>f</td>\n",
       "      <td>?</td>\n",
       "      <td>other</td>\n",
       "      <td>negative.|806</td>\n",
       "    </tr>\n",
       "    <tr>\n",
       "      <th>4</th>\n",
       "      <td>70</td>\n",
       "      <td>F</td>\n",
       "      <td>f</td>\n",
       "      <td>f</td>\n",
       "      <td>f</td>\n",
       "      <td>f</td>\n",
       "      <td>f</td>\n",
       "      <td>f</td>\n",
       "      <td>f</td>\n",
       "      <td>f</td>\n",
       "      <td>...</td>\n",
       "      <td>t</td>\n",
       "      <td>61</td>\n",
       "      <td>t</td>\n",
       "      <td>0.87</td>\n",
       "      <td>t</td>\n",
       "      <td>70</td>\n",
       "      <td>f</td>\n",
       "      <td>?</td>\n",
       "      <td>SVI</td>\n",
       "      <td>negative.|2807</td>\n",
       "    </tr>\n",
       "  </tbody>\n",
       "</table>\n",
       "<p>5 rows × 30 columns</p>\n",
       "</div>"
      ],
      "text/plain": [
       "  age sex on_thyroxine query_on_thyroxine on_antithyroid_medication sick  \\\n",
       "0  41   F            f                  f                         f    f   \n",
       "1  23   F            f                  f                         f    f   \n",
       "2  46   M            f                  f                         f    f   \n",
       "3  70   F            t                  f                         f    f   \n",
       "4  70   F            f                  f                         f    f   \n",
       "\n",
       "  pregnant thyroid_surgery I131_treatment query_hypothyroid  ... TT4_measured  \\\n",
       "0        f               f              f                 f  ...            t   \n",
       "1        f               f              f                 f  ...            t   \n",
       "2        f               f              f                 f  ...            t   \n",
       "3        f               f              f                 f  ...            t   \n",
       "4        f               f              f                 f  ...            t   \n",
       "\n",
       "   TT4 T4U_measured   T4U FTI_measured  FTI TBG_measured TBG referral_source  \\\n",
       "0  125            t  1.14            t  109            f   ?            SVHC   \n",
       "1  102            f     ?            f    ?            f   ?           other   \n",
       "2  109            t  0.91            t  120            f   ?           other   \n",
       "3  175            f     ?            f    ?            f   ?           other   \n",
       "4   61            t  0.87            t   70            f   ?             SVI   \n",
       "\n",
       "            class  \n",
       "0  negative.|3733  \n",
       "1  negative.|1442  \n",
       "2  negative.|2965  \n",
       "3   negative.|806  \n",
       "4  negative.|2807  \n",
       "\n",
       "[5 rows x 30 columns]"
      ]
     },
     "execution_count": 621,
     "metadata": {},
     "output_type": "execute_result"
    }
   ],
   "source": [
    "df.columns = col_names\n",
    "df.head()"
   ]
  },
  {
   "cell_type": "markdown",
   "id": "6b889b57-1a83-4ecb-a85d-1f0c75ead5cd",
   "metadata": {
    "tags": []
   },
   "source": [
    "### Data Exploration"
   ]
  },
  {
   "cell_type": "markdown",
   "id": "88898cb4-5226-4411-87f6-21afd861f732",
   "metadata": {},
   "source": [
    "Examine the number of observations and the number of columns in the dataset"
   ]
  },
  {
   "cell_type": "code",
   "execution_count": 624,
   "id": "35367323-2790-4de1-8f50-af3860d344eb",
   "metadata": {
    "tags": []
   },
   "outputs": [
    {
     "name": "stdout",
     "output_type": "stream",
     "text": [
      "(16800, 30)\n"
     ]
    }
   ],
   "source": [
    "(num_observation, num_attribute) = df.shape\n",
    "print(df.shape)"
   ]
  },
  {
   "cell_type": "markdown",
   "id": "97b70131-32fd-48f2-b820-6ec3bbc1feb7",
   "metadata": {},
   "source": [
    "There are 16800 observations, 29 attributes, and 1 outcome variable in the dataset"
   ]
  },
  {
   "cell_type": "markdown",
   "id": "800679d1-3c0f-43cf-bb7f-173531536fee",
   "metadata": {},
   "source": [
    "Examine the dataset through `describe`"
   ]
  },
  {
   "cell_type": "code",
   "execution_count": 627,
   "id": "0dbba8cf-1c98-4525-9d94-47a41e8f05f2",
   "metadata": {},
   "outputs": [
    {
     "data": {
      "text/html": [
       "<div>\n",
       "<style scoped>\n",
       "    .dataframe tbody tr th:only-of-type {\n",
       "        vertical-align: middle;\n",
       "    }\n",
       "\n",
       "    .dataframe tbody tr th {\n",
       "        vertical-align: top;\n",
       "    }\n",
       "\n",
       "    .dataframe thead th {\n",
       "        text-align: right;\n",
       "    }\n",
       "</style>\n",
       "<table border=\"1\" class=\"dataframe\">\n",
       "  <thead>\n",
       "    <tr style=\"text-align: right;\">\n",
       "      <th></th>\n",
       "      <th>age</th>\n",
       "      <th>sex</th>\n",
       "      <th>on_thyroxine</th>\n",
       "      <th>query_on_thyroxine</th>\n",
       "      <th>on_antithyroid_medication</th>\n",
       "      <th>sick</th>\n",
       "      <th>pregnant</th>\n",
       "      <th>thyroid_surgery</th>\n",
       "      <th>I131_treatment</th>\n",
       "      <th>query_hypothyroid</th>\n",
       "      <th>...</th>\n",
       "      <th>TT4_measured</th>\n",
       "      <th>TT4</th>\n",
       "      <th>T4U_measured</th>\n",
       "      <th>T4U</th>\n",
       "      <th>FTI_measured</th>\n",
       "      <th>FTI</th>\n",
       "      <th>TBG_measured</th>\n",
       "      <th>TBG</th>\n",
       "      <th>referral_source</th>\n",
       "      <th>class</th>\n",
       "    </tr>\n",
       "  </thead>\n",
       "  <tbody>\n",
       "    <tr>\n",
       "      <th>count</th>\n",
       "      <td>16800</td>\n",
       "      <td>16800</td>\n",
       "      <td>16800</td>\n",
       "      <td>16800</td>\n",
       "      <td>16800</td>\n",
       "      <td>16800</td>\n",
       "      <td>16800</td>\n",
       "      <td>16800</td>\n",
       "      <td>16800</td>\n",
       "      <td>16800</td>\n",
       "      <td>...</td>\n",
       "      <td>16800</td>\n",
       "      <td>16800</td>\n",
       "      <td>16800</td>\n",
       "      <td>16800</td>\n",
       "      <td>16800</td>\n",
       "      <td>16800</td>\n",
       "      <td>16800</td>\n",
       "      <td>16800</td>\n",
       "      <td>16800</td>\n",
       "      <td>16800</td>\n",
       "    </tr>\n",
       "    <tr>\n",
       "      <th>unique</th>\n",
       "      <td>94</td>\n",
       "      <td>3</td>\n",
       "      <td>2</td>\n",
       "      <td>2</td>\n",
       "      <td>2</td>\n",
       "      <td>2</td>\n",
       "      <td>2</td>\n",
       "      <td>2</td>\n",
       "      <td>2</td>\n",
       "      <td>2</td>\n",
       "      <td>...</td>\n",
       "      <td>2</td>\n",
       "      <td>218</td>\n",
       "      <td>2</td>\n",
       "      <td>139</td>\n",
       "      <td>2</td>\n",
       "      <td>210</td>\n",
       "      <td>1</td>\n",
       "      <td>1</td>\n",
       "      <td>5</td>\n",
       "      <td>3533</td>\n",
       "    </tr>\n",
       "    <tr>\n",
       "      <th>top</th>\n",
       "      <td>59</td>\n",
       "      <td>F</td>\n",
       "      <td>f</td>\n",
       "      <td>f</td>\n",
       "      <td>f</td>\n",
       "      <td>f</td>\n",
       "      <td>f</td>\n",
       "      <td>f</td>\n",
       "      <td>f</td>\n",
       "      <td>f</td>\n",
       "      <td>...</td>\n",
       "      <td>t</td>\n",
       "      <td>?</td>\n",
       "      <td>t</td>\n",
       "      <td>?</td>\n",
       "      <td>t</td>\n",
       "      <td>?</td>\n",
       "      <td>f</td>\n",
       "      <td>?</td>\n",
       "      <td>other</td>\n",
       "      <td>negative.|3733</td>\n",
       "    </tr>\n",
       "    <tr>\n",
       "      <th>freq</th>\n",
       "      <td>450</td>\n",
       "      <td>10980</td>\n",
       "      <td>14820</td>\n",
       "      <td>16560</td>\n",
       "      <td>16596</td>\n",
       "      <td>16140</td>\n",
       "      <td>16554</td>\n",
       "      <td>16566</td>\n",
       "      <td>16512</td>\n",
       "      <td>15822</td>\n",
       "      <td>...</td>\n",
       "      <td>15696</td>\n",
       "      <td>1104</td>\n",
       "      <td>15018</td>\n",
       "      <td>1782</td>\n",
       "      <td>15030</td>\n",
       "      <td>1770</td>\n",
       "      <td>16800</td>\n",
       "      <td>16800</td>\n",
       "      <td>9792</td>\n",
       "      <td>6</td>\n",
       "    </tr>\n",
       "  </tbody>\n",
       "</table>\n",
       "<p>4 rows × 30 columns</p>\n",
       "</div>"
      ],
      "text/plain": [
       "          age    sex on_thyroxine query_on_thyroxine  \\\n",
       "count   16800  16800        16800              16800   \n",
       "unique     94      3            2                  2   \n",
       "top        59      F            f                  f   \n",
       "freq      450  10980        14820              16560   \n",
       "\n",
       "       on_antithyroid_medication   sick pregnant thyroid_surgery  \\\n",
       "count                      16800  16800    16800           16800   \n",
       "unique                         2      2        2               2   \n",
       "top                            f      f        f               f   \n",
       "freq                       16596  16140    16554           16566   \n",
       "\n",
       "       I131_treatment query_hypothyroid  ... TT4_measured    TT4 T4U_measured  \\\n",
       "count           16800             16800  ...        16800  16800        16800   \n",
       "unique              2                 2  ...            2    218            2   \n",
       "top                 f                 f  ...            t      ?            t   \n",
       "freq            16512             15822  ...        15696   1104        15018   \n",
       "\n",
       "          T4U FTI_measured    FTI TBG_measured    TBG referral_source  \\\n",
       "count   16800        16800  16800        16800  16800           16800   \n",
       "unique    139            2    210            1      1               5   \n",
       "top         ?            t      ?            f      ?           other   \n",
       "freq     1782        15030   1770        16800  16800            9792   \n",
       "\n",
       "                 class  \n",
       "count            16800  \n",
       "unique            3533  \n",
       "top     negative.|3733  \n",
       "freq                 6  \n",
       "\n",
       "[4 rows x 30 columns]"
      ]
     },
     "execution_count": 627,
     "metadata": {},
     "output_type": "execute_result"
    }
   ],
   "source": [
    "df.describe()"
   ]
  },
  {
   "cell_type": "markdown",
   "id": "5de4e62b-05c0-48b0-9232-c7d5bcef01e1",
   "metadata": {},
   "source": [
    "Notice that there are a lot of columns that need data preprocessing and cleaning"
   ]
  },
  {
   "cell_type": "markdown",
   "id": "d4739c27-47e1-4557-b063-d8464a45bce0",
   "metadata": {},
   "source": [
    "Examine dataset through `info` to see if any data is null, Dtype, and how big memory usage the columns take up."
   ]
  },
  {
   "cell_type": "code",
   "execution_count": 630,
   "id": "57dc4f76-7a6b-4800-9d11-6b41c426443d",
   "metadata": {},
   "outputs": [
    {
     "name": "stdout",
     "output_type": "stream",
     "text": [
      "<class 'pandas.core.frame.DataFrame'>\n",
      "RangeIndex: 16800 entries, 0 to 16799\n",
      "Data columns (total 30 columns):\n",
      " #   Column                     Non-Null Count  Dtype \n",
      "---  ------                     --------------  ----- \n",
      " 0   age                        16800 non-null  object\n",
      " 1   sex                        16800 non-null  object\n",
      " 2   on_thyroxine               16800 non-null  object\n",
      " 3   query_on_thyroxine         16800 non-null  object\n",
      " 4   on_antithyroid_medication  16800 non-null  object\n",
      " 5   sick                       16800 non-null  object\n",
      " 6   pregnant                   16800 non-null  object\n",
      " 7   thyroid_surgery            16800 non-null  object\n",
      " 8   I131_treatment             16800 non-null  object\n",
      " 9   query_hypothyroid          16800 non-null  object\n",
      " 10  query_hyperthyroid         16800 non-null  object\n",
      " 11  lithium                    16800 non-null  object\n",
      " 12  goitre                     16800 non-null  object\n",
      " 13  tumor                      16800 non-null  object\n",
      " 14  hypopituitary              16800 non-null  object\n",
      " 15  psych                      16800 non-null  object\n",
      " 16  TSH_measured               16800 non-null  object\n",
      " 17  TSH                        16800 non-null  object\n",
      " 18  T3_measured                16800 non-null  object\n",
      " 19  T3                         16800 non-null  object\n",
      " 20  TT4_measured               16800 non-null  object\n",
      " 21  TT4                        16800 non-null  object\n",
      " 22  T4U_measured               16800 non-null  object\n",
      " 23  T4U                        16800 non-null  object\n",
      " 24  FTI_measured               16800 non-null  object\n",
      " 25  FTI                        16800 non-null  object\n",
      " 26  TBG_measured               16800 non-null  object\n",
      " 27  TBG                        16800 non-null  object\n",
      " 28  referral_source            16800 non-null  object\n",
      " 29  class                      16800 non-null  object\n",
      "dtypes: object(30)\n",
      "memory usage: 3.8+ MB\n"
     ]
    }
   ],
   "source": [
    "df.info()"
   ]
  },
  {
   "cell_type": "markdown",
   "id": "99ed25ba-408e-48a0-9ddc-15a311bdc877",
   "metadata": {},
   "source": [
    "Notice that the columns are not in appropriate format and need to change data types"
   ]
  },
  {
   "cell_type": "markdown",
   "id": "e73f0eff-d34f-42b3-b811-83a54a1a3c9b",
   "metadata": {
    "tags": []
   },
   "source": [
    "Find the number of unique value in each column"
   ]
  },
  {
   "cell_type": "code",
   "execution_count": 633,
   "id": "9120b50b-23ba-486e-946a-273b1461685f",
   "metadata": {
    "tags": []
   },
   "outputs": [
    {
     "data": {
      "text/plain": [
       "age                            94\n",
       "sex                             3\n",
       "on_thyroxine                    2\n",
       "query_on_thyroxine              2\n",
       "on_antithyroid_medication       2\n",
       "sick                            2\n",
       "pregnant                        2\n",
       "thyroid_surgery                 2\n",
       "I131_treatment                  2\n",
       "query_hypothyroid               2\n",
       "query_hyperthyroid              2\n",
       "lithium                         2\n",
       "goitre                          2\n",
       "tumor                           2\n",
       "hypopituitary                   2\n",
       "psych                           2\n",
       "TSH_measured                    2\n",
       "TSH                           264\n",
       "T3_measured                     2\n",
       "T3                             65\n",
       "TT4_measured                    2\n",
       "TT4                           218\n",
       "T4U_measured                    2\n",
       "T4U                           139\n",
       "FTI_measured                    2\n",
       "FTI                           210\n",
       "TBG_measured                    1\n",
       "TBG                             1\n",
       "referral_source                 5\n",
       "class                        3533\n",
       "dtype: int64"
      ]
     },
     "execution_count": 633,
     "metadata": {},
     "output_type": "execute_result"
    }
   ],
   "source": [
    "df.nunique()"
   ]
  },
  {
   "cell_type": "markdown",
   "id": "7973f085-df25-4dd6-95f5-2e1659ec34e2",
   "metadata": {},
   "source": [
    "Examine the predictive/independent variables to see what values do they have"
   ]
  },
  {
   "cell_type": "code",
   "execution_count": 635,
   "id": "4df17a15-0774-4e78-abe3-c2a024e0ff1b",
   "metadata": {
    "tags": []
   },
   "outputs": [
    {
     "name": "stdout",
     "output_type": "stream",
     "text": [
      "Column age has the following values:\n",
      "['41', '23', '46', '70', '18', '59', '80', '66', '68', '84', '67', '71', '28', '65', '42', '63', '51', '81', '54', '55', '60', '25', '73', '34', '78', '37', '85', '26', '58', '64', '44', '48', '61', '35', '83', '21', '87', '53', '77', '27', '69', '74', '38', '76', '45', '36', '22', '43', '72', '82', '31', '39', '49', '62', '57', '1', '50', '30', '29', '75', '19', '7', '79', '17', '24', '15', '32', '47', '16', '52', '33', '13', '10', '89', '56', '20', '90', '40', '88', '14', '86', '94', '12', '4', '11', '8', '5', '455', '2', '91', '6', '?', '93', '92']\n",
      "Column sex has the following values:\n",
      "['F', 'M', '?']\n",
      "Column on_thyroxine has the following values:\n",
      "['f', 't']\n",
      "Column query_on_thyroxine has the following values:\n",
      "['f', 't']\n",
      "Column on_antithyroid_medication has the following values:\n",
      "['f', 't']\n",
      "Column sick has the following values:\n",
      "['f', 't']\n",
      "Column pregnant has the following values:\n",
      "['f', 't']\n",
      "Column thyroid_surgery has the following values:\n",
      "['f', 't']\n",
      "Column I131_treatment has the following values:\n",
      "['f', 't']\n",
      "Column query_hypothyroid has the following values:\n",
      "['f', 't']\n",
      "Column query_hyperthyroid has the following values:\n",
      "['f', 't']\n",
      "Column lithium has the following values:\n",
      "['f', 't']\n",
      "Column goitre has the following values:\n",
      "['f', 't']\n",
      "Column tumor has the following values:\n",
      "['f', 't']\n",
      "Column hypopituitary has the following values:\n",
      "['f', 't']\n",
      "Column psych has the following values:\n",
      "['f', 't']\n",
      "Column TSH_measured has the following values:\n",
      "['t', 'f']\n",
      "Column TSH has the following values:\n",
      "['1.3', '4.1', '0.98', '0.16', '0.72', '0.03', '?', '2.2', '0.6', '2.4', '1.1', '2.8', '3.3', '12', '1.2', '1.5', '6', '2.1', '0.1', '0.8', '1.9', '3.1', '0.2', '13', '0.3', '0.035', '2.5', '0.5', '1.7', '7.3', '1.8', '0.26', '45', '5.4', '0.99', '0.25', '0.92', '0.15', '0.64', '1', '0.4', '2', '2.6', '14.8', '15', '19', '0.02', '3', '2.9', '3.2', '9', '1.6', '4.3', '0.005', '0.31', '0.61', '0.05', '7.8', '160', '0.025', '1.4', '0.01', '8.8', '151', '0.04', '3.9', '9.4', '2.7', '2.3', '0.94', '0.045', '3.5', '0.88', '0.08', '4.5', '0.68', '0.7', '0.67', '27', '6.1', '0.75', '0.55', '26', '5.2', '0.77', '0.07', '0.9', '11.4', '143', '0.45', '0.57', '0.65', '0.015', '16', '108', '0.83', '9.2', '86', '0.62', '0.59', '9.1', '5.9', '52', '0.33', '31', '5.8', '0.28', '51', '6.3', '4.4', '9.6', '3.4', '0.09', '24', '0.76', '42', '25', '10', '4.6', '8.6', '0.66', '6.2', '0.79', '28', '0.86', '9.7', '0.84', '17', '18', '55', '14', '3.7', '0.87', '6.7', '0.74', '7.6', '0.065', '0.29', '0.37', '8', '11', '0.48', '44', '7.9', '5', '7.2', '0.89', '0.93', '0.97', '0.12', '6.4', '33', '0.85', '7.1', '0.73', '199', '8.2', '188', '0.22', '98', '22', '6.6', '5.1', '0.06', '0.42', '3.8', '35', '4', '0.78', '0.63', '0.52', '60', '0.43', '5.6', '6.9', '3.6', '29', '0.38', '4.9', '0.41', '9.9', '7.5', '34', '6.5', '4.7', '103', '0.95', '0.14', '0.35', '4.2', '0.81', '0.54', '0.58', '8.9', '5.5', '0.34', '9.3', '0.13', '54', '0.39', '8.3', '478', '21', '6.8', '0.32', '0.23', '0.24', '8.1', '0.91', '5.3', '100', '0.27', '1.01', '58', '41', '183', '18.4', '0.47', '0.17', '12.1', '0.19', '0.82', '43', '0.44', '70', '7.7', '8.4', '0.69', '8.5', '0.21', '82', '0.055', '0.96', '0.71', '38', '0.36', '9.8', '7', '0.46', '11.1', '39', '76', '5.7', '32', '126', '26.4', '0.53', '0.49', '36', '178', '145', '47', '4.8', '10.3', '89', '7.4', '472', '0.51', '116', '61', '99', '46', '78', '468']\n",
      "Column T3_measured has the following values:\n",
      "['t', 'f']\n",
      "Column T3 has the following values:\n",
      "['2.5', '2', '?', '1.9', '1.2', '0.6', '2.2', '1.6', '3.8', '1.7', '1.8', '2.6', '2.1', '0.3', '5.5', '1.4', '3.1', '1.5', '2.3', '2.4', '2.7', '0.9', '1', '2.8', '2.9', '0.8', '1.3', '0.4', '3.3', '3.5', '3.4', '1.1', '4.2', '3.7', '3', '0.7', '4.8', '4.3', '0.05', '3.2', '5.4', '4', '0.5', '0.2', '3.6', '5.2', '5', '6', '5.3', '3.9', '4.6', '4.5', '7.3', '4.7', '6.7', '4.1', '6.1', '0.1', '4.9', '10.6', '5.1', '7', '6.2', '4.4', '7.1']\n",
      "Column TT4_measured has the following values:\n",
      "['t', 'f']\n",
      "Column TT4 has the following values:\n",
      "['125', '102', '109', '175', '61', '183', '72', '80', '123', '83', '115', '152', '171', '97', '99', '70', '117', '121', '130', '108', '104', '134', '199', '57', '129', '113', '119', '84', '81', '95', '66', '101', '147', '120', '69', '?', '39', '87', '63', '133', '86', '163', '162', '103', '96', '151', '112', '82', '138', '71', '77', '93', '107', '237', '110', '67', '88', '160', '118', '136', '114', '116', '94', '161', '11', '32', '124', '137', '92', '135', '105', '150', '126', '146', '91', '217', '141', '159', '122', '100', '111', '140', '205', '225', '85', '90', '74', '219', '127', '132', '128', '106', '144', '131', '56', '79', '142', '98', '177', '139', '78', '189', '180', '73', '145', '184', '38', '156', '75', '148', '14', '76', '54', '58', '27', '65', '193', '13', '143', '12', '64', '257', '164', '59', '167', '18', '41', '176', '37', '33', '44', '45', '154', '174', '203', '244', '62', '158', '60', '187', '250', '181', '157', '223', '272', '166', '213', '235', '10', '68', '231', '191', '48', '5.8', '169', '149', '210', '40', '155', '232', '42', '204', '430', '198', '230', '15', '170', '165', '47', '168', '194', '89', '52', '179', '192', '172', '4.8', '50', '182', '197', '214', '246', '196', '207', '19', '153', '22', '46', '200', '35', '226', '201', '233', '206', '31', '255', '178', '239', '195', '6', '36', '2', '3', '289', '240', '209', '43', '34', '252', '29', '263', '301', '23', '188', '211', '253', '21', '173']\n",
      "Column T4U_measured has the following values:\n",
      "['t', 'f']\n",
      "Column T4U has the following values:\n",
      "['1.14', '?', '0.91', '0.87', '1.3', '0.92', '0.7', '0.93', '0.89', '0.95', '0.99', '1.13', '0.86', '0.96', '0.94', '0.9', '1.02', '1.05', '0.62', '1.06', '1.55', '0.83', '1.09', '1.07', '1.27', '0.76', '1.16', '1', '0.56', '0.81', '0.68', '0.78', '0.85', '1.35', '1.15', '0.82', '1.03', '1.58', '0.79', '1.17', '0.71', '0.72', '0.88', '1.11', '1.2', '1.1', '1.33', '0.77', '1.24', '0.53', '1.44', '1.63', '1.51', '1.42', '1.23', '1.01', '0.98', '0.61', '1.12', '1.43', '1.25', '1.41', '1.68', '0.97', '0.84', '0.8', '1.04', '0.73', '1.08', '1.26', '1.46', '1.29', '1.34', '1.66', '1.21', '1.19', '0.75', '0.52', '1.83', '1.39', '1.5', '1.93', '1.18', '0.74', '0.58', '1.82', '0.6', '1.67', '1.22', '0.66', '0.67', '1.31', '0.54', '1.77', '1.59', '1.97', '1.69', '1.38', '1.28', '1.4', '0.69', '0.65', '1.74', '2.03', '1.73', '1.65', '1.36', '1.52', '0.57', '1.53', '1.84', '1.57', '1.75', '1.32', '1.37', '0.64', '1.79', '1.8', '0.48', '1.71', '1.62', '1.76', '1.56', '1.48', '0.59', '0.31', '1.94', '2.12', '1.47', '0.63', '0.944', '0.49', '1.88', '0.5', '0.38', '1.49', '0.41', '1.61', '1.7']\n",
      "Column FTI_measured has the following values:\n",
      "['t', 'f']\n",
      "Column FTI has the following values:\n",
      "['109', '?', '120', '70', '141', '78', '115', '132', '93', '121', '153', '151', '107', '119', '87', '81', '104', '130', '106', '116', '131', '190', '92', '102', '76', '98', '90', '61', '94', '129', '95', '91', '33', '113', '148', '140', '171', '155', '186', '122', '136', '110', '111', '97', '72', '100', '88', '67', '84', '103', '135', '203', '112', '117', '180', '142', '145', '156', '96', '134', '8.9', '60', '139', '41', '99', '89', '146', '124', '105', '85', '157', '143', '71', '221', '28', '108', '137', '83', '74', '170', '65', '101', '127', '274', '154', '114', '62', '86', '126', '125', '64', '172', '162', '79', '118', '73', '152', '163', '149', '14', '51', '165', '77', '32', '69', '80', '11', '54', '164', '123', '144', '10', '214', '200', '160', '53', '16', '138', '169', '56', '47', '133', '43', '68', '179', '224', '220', '82', '362', '182', '75', '66', '161', '57', '58', '312', '63', '128', '147', '158', '281', '207', '216', '251', '194', '46', '7', '42', '174', '395', '185', '13', '201', '48', '173', '167', '188', '150', '235', '175', '159', '5.4', '189', '59', '166', '34', '228', '232', '217', '177', '176', '195', '219', '17', '210', '168', '205', '39', '187', '50', '349', '52', '206', '253', '242', '244', '213', '178', '247', '215', '198', '19', '237', '37', '7.6', '24', '2', '3', '191', '223', '9', '29', '222', '204', '26', '218', '197', '49', '209', '183']\n",
      "Column TBG_measured has the following values:\n",
      "['f']\n",
      "Column TBG has the following values:\n",
      "['?']\n",
      "Column referral_source has the following values:\n",
      "['SVHC', 'other', 'SVI', 'STMW', 'SVHD']\n"
     ]
    }
   ],
   "source": [
    "for col_name in df.columns:\n",
    "    # Separate the class column individually to examine\n",
    "    if col_name == 'class':\n",
    "        continue\n",
    "    print(f'Column {col_name} has the following values:')\n",
    "    print(list(df[col_name].unique()))"
   ]
  },
  {
   "cell_type": "markdown",
   "id": "04431edf-1e0c-4e8c-b4f8-f81b88de6665",
   "metadata": {},
   "source": [
    "Separately examine the outcome/dependent variable: the `class` column as a scrollable output for easy examiniation"
   ]
  },
  {
   "cell_type": "code",
   "execution_count": 637,
   "id": "a7ab0108-5484-4693-8a65-900c36d07be8",
   "metadata": {
    "tags": []
   },
   "outputs": [
    {
     "data": {
      "text/html": [
       "<div style='max-height: 500px; overflow-y: scroll;'>negative.|3733<br>negative.|1442<br>negative.|2965<br>negative.|806<br>negative.|2807<br>negative.|3434<br>negative.|1595<br>negative.|1367<br>negative.|1787<br>negative.|2534<br>negative.|1485<br>negative.|3448<br>negative.|1027<br>negative.|3331<br>negative.|2043<br>negative.|3169<br>negative.|2755<br>negative.|1010<br>negative.|803<br>negative.|2297<br>negative.|3564<br>negative.|152<br>negative.|936<br>negative.|716<br>negative.|1933<br>negative.|3445<br>negative.|3724<br>negative.|185<br>negative.|1966<br>negative.|466<br>negative.|1091<br>negative.|583<br>negative.|2137<br>negative.|1400<br>negative.|1815<br>negative.|3659<br>negative.|2797<br>negative.|3317<br>negative.|1566<br>negative.|1821<br>negative.|2427<br>negative.|1433<br>negative.|1632<br>negative.|563<br>negative.|1382<br>discordant.|303<br>negative.|1428<br>negative.|3491<br>negative.|1873<br>negative.|2601<br>negative.|2235<br>negative.|1172<br>negative.|525<br>negative.|1690<br>negative.|3469<br>negative.|942<br>negative.|3266<br>negative.|251<br>negative.|2691<br>negative.|822<br>negative.|3007<br>negative.|2810<br>negative.|3038<br>negative.|694<br>negative.|1959<br>negative.|895<br>negative.|2074<br>negative.|2296<br>negative.|472<br>discordant.|2739<br>negative.|2927<br>negative.|1806<br>negative.|744<br>negative.|3588<br>negative.|3164<br>negative.|962<br>negative.|3117<br>negative.|560<br>negative.|2210<br>negative.|3345<br>negative.|2390<br>negative.|3703<br>negative.|1337<br>negative.|3295<br>negative.|2609<br>negative.|2741<br>negative.|3656<br>negative.|704<br>negative.|2274<br>negative.|336<br>negative.|3057<br>negative.|987<br>negative.|1731<br>negative.|975<br>negative.|2653<br>negative.|343<br>negative.|3163<br>negative.|3615<br>negative.|3707<br>negative.|497<br>negative.|3237<br>negative.|1711<br>negative.|1970<br>negative.|1332<br>negative.|30<br>negative.|1581<br>negative.|2378<br>negative.|897<br>negative.|2532<br>discordant.|356<br>negative.|689<br>negative.|2745<br>negative.|612<br>negative.|670<br>negative.|1826<br>negative.|1267<br>negative.|2373<br>negative.|3318<br>negative.|1555<br>negative.|3666<br>negative.|2668<br>negative.|3614<br>negative.|1134<br>negative.|64<br>negative.|1845<br>negative.|2363<br>negative.|3642<br>negative.|3189<br>negative.|2069<br>negative.|2190<br>negative.|3035<br>discordant.|1916<br>negative.|3679<br>negative.|248<br>negative.|2394<br>negative.|412<br>negative.|1557<br>negative.|2789<br>negative.|2968<br>negative.|380<br>negative.|3320<br>negative.|3332<br>negative.|556<br>negative.|1701<br>negative.|225<br>negative.|864<br>negative.|3667<br>negative.|2446<br>negative.|3500<br>negative.|3431<br>negative.|849<br>negative.|2504<br>negative.|794<br>negative.|2763<br>negative.|603<br>negative.|3572<br>negative.|3313<br>negative.|3276<br>negative.|2355<br>negative.|1920<br>negative.|2348<br>negative.|339<br>negative.|3729<br>negative.|2859<br>negative.|1858<br>negative.|29<br>negative.|557<br>negative.|2663<br>negative.|376<br>negative.|3526<br>negative.|1297<br>negative.|3022<br>negative.|1844<br>negative.|2208<br>negative.|1776<br>negative.|227<br>negative.|1194<br>negative.|605<br>negative.|3229<br>negative.|3156<br>negative.|126<br>negative.|3094<br>negative.|1502<br>negative.|914<br>negative.|298<br>negative.|1480<br>negative.|1426<br>negative.|2366<br>negative.|2515<br>negative.|3725<br>negative.|2434<br>negative.|176<br>negative.|385<br>negative.|1652<br>negative.|2174<br>negative.|3339<br>negative.|1410<br>negative.|3207<br>negative.|3668<br>negative.|855<br>negative.|143<br>negative.|233<br>negative.|995<br>negative.|1603<br>negative.|1732<br>negative.|658<br>negative.|745<br>negative.|1898<br>negative.|3483<br>negative.|55<br>negative.|573<br>discordant.|3409<br>negative.|2580<br>negative.|2318<br>negative.|3479<br>negative.|2464<br>negative.|1145<br>negative.|3330<br>negative.|3567<br>negative.|737<br>negative.|3064<br>negative.|3722<br>negative.|293<br>negative.|1669<br>negative.|3337<br>negative.|2499<br>negative.|1977<br>negative.|3367<br>negative.|2300<br>negative.|441<br>negative.|967<br>negative.|2178<br>negative.|2061<br>negative.|3634<br>negative.|2026<br>negative.|3305<br>negative.|2948<br>negative.|2229<br>negative.|1059<br>negative.|3098<br>negative.|3523<br>negative.|2309<br>negative.|2818<br>negative.|3216<br>negative.|589<br>discordant.|1116<br>negative.|244<br>negative.|3546<br>negative.|3299<br>negative.|1183<br>negative.|210<br>negative.|2219<br>negative.|1403<br>negative.|3279<br>negative.|3028<br>negative.|2646<br>negative.|522<br>negative.|2891<br>negative.|3102<br>negative.|2956<br>negative.|979<br>negative.|797<br>negative.|3142<br>negative.|63<br>negative.|1347<br>negative.|3029<br>negative.|846<br>negative.|1033<br>negative.|1953<br>negative.|3334<br>negative.|2681<br>negative.|338<br>negative.|1375<br>negative.|734<br>negative.|2837<br>discordant.|2589<br>negative.|3442<br>negative.|2993<br>negative.|775<br>discordant.|680<br>negative.|3232<br>negative.|2131<br>negative.|1192<br>negative.|3238<br>negative.|1081<br>negative.|2408<br>negative.|3535<br>negative.|3170<br>negative.|2548<br>negative.|2841<br>negative.|2030<br>negative.|2117<br>negative.|988<br>negative.|712<br>negative.|3103<br>negative.|3449<br>negative.|1949<br>negative.|2001<br>negative.|992<br>negative.|1842<br>negative.|2278<br>negative.|515<br>negative.|2104<br>negative.|664<br>negative.|568<br>negative.|2221<br>negative.|111<br>negative.|1541<br>negative.|613<br>negative.|941<br>negative.|3139<br>negative.|894<br>negative.|1003<br>negative.|2629<br>negative.|3711<br>negative.|350<br>negative.|202<br>negative.|1122<br>negative.|1874<br>negative.|3253<br>negative.|2381<br>negative.|2361<br>negative.|2272<br>negative.|862<br>negative.|2289<br>negative.|3645<br>negative.|912<br>negative.|3422<br>negative.|389<br>negative.|561<br>negative.|2426<br>negative.|2205<br>negative.|448<br>negative.|756<br>negative.|2828<br>negative.|555<br>negative.|1064<br>negative.|3252<br>negative.|3303<br>negative.|3516<br>negative.|2556<br>negative.|1928<br>negative.|3315<br>negative.|676<br>negative.|3530<br>negative.|2690<br>negative.|617<br>negative.|512<br>negative.|883<br>negative.|2854<br>negative.|1528<br>negative.|2907<br>negative.|3499<br>negative.|1463<br>negative.|373<br>negative.|2621<br>negative.|42<br>negative.|2682<br>negative.|3456<br>negative.|2969<br>negative.|3549<br>negative.|2134<br>negative.|1702<br>negative.|33<br>negative.|3338<br>negative.|305<br>negative.|197<br>negative.|3428<br>negative.|2827<br>negative.|435<br>negative.|3743<br>negative.|1628<br>negative.|2338<br>negative.|2473<br>negative.|1365<br>negative.|3435<br>negative.|491<br>negative.|2325<br>negative.|2247<br>negative.|3640<br>negative.|999<br>negative.|740<br>negative.|2459<br>negative.|2144<br>negative.|2479<br>negative.|3545<br>negative.|3166<br>negative.|539<br>negative.|1861<br>negative.|1315<br>negative.|457<br>negative.|2101<br>negative.|1158<br>negative.|3254<br>negative.|2260<br>negative.|1648<br>negative.|688<br>negative.|145<br>negative.|1284<br>negative.|2453<br>negative.|2451<br>negative.|621<br>negative.|2068<br>negative.|2724<br>negative.|3388<br>negative.|2587<br>negative.|714<br>negative.|2357<br>negative.|2135<br>negative.|1547<br>negative.|1746<br>negative.|2929<br>negative.|2374<br>negative.|1605<br>negative.|1274<br>negative.|976<br>negative.|2737<br>negative.|1814<br>negative.|391<br>negative.|1431<br>negative.|3539<br>negative.|2906<br>negative.|2120<br>negative.|832<br>negative.|3416<br>negative.|245<br>negative.|715<br>negative.|750<br>negative.|2686<br>negative.|2293<br>negative.|2414<br>negative.|1079<br>negative.|270<br>negative.|3726<br>negative.|1677<br>negative.|3383<br>negative.|2333<br>negative.|2283<br>negative.|1326<br>negative.|349<br>negative.|1665<br>negative.|3699<br>negative.|22<br>negative.|1816<br>negative.|1643<br>negative.|2039<br>negative.|1360<br>negative.|2740<br>negative.|913<br>negative.|3024<br>negative.|2367<br>negative.|1891<br>negative.|3110<br>negative.|733<br>negative.|1679<br>negative.|2489<br>negative.|3559<br>negative.|875<br>negative.|3758<br>negative.|2768<br>negative.|2577<br>negative.|200<br>negative.|1454<br>negative.|2627<br>negative.|362<br>negative.|3051<br>discordant.|2533<br>negative.|3616<br>negative.|2537<br>negative.|1571<br>negative.|3165<br>negative.|2326<br>negative.|2443<br>negative.|2099<br>negative.|1186<br>negative.|3609<br>negative.|2163<br>negative.|2052<br>negative.|2680<br>negative.|766<br>negative.|3651<br>negative.|508<br>negative.|2184<br>negative.|1932<br>negative.|634<br>negative.|1478<br>negative.|193<br>negative.|3704<br>negative.|1646<br>negative.|746<br>negative.|1408<br>negative.|1058<br>discordant.|3700<br>negative.|2315<br>negative.|1742<br>negative.|3736<br>negative.|2185<br>negative.|1981<br>negative.|1327<br>negative.|169<br>negative.|692<br>negative.|496<br>negative.|2925<br>negative.|3333<br>negative.|1163<br>negative.|405<br>negative.|1118<br>negative.|1694<br>negative.|632<br>discordant.|1658<br>negative.|1935<br>negative.|1684<br>negative.|1038<br>negative.|893<br>negative.|3227<br>discordant.|1565<br>negative.|2684<br>negative.|1802<br>negative.|1230<br>negative.|1237<br>negative.|990<br>negative.|3464<br>negative.|3574<br>negative.|2223<br>negative.|2771<br>negative.|3341<br>negative.|3242<br>negative.|52<br>negative.|3452<br>negative.|3768<br>negative.|447<br>negative.|2853<br>negative.|196<br>negative.|2215<br>negative.|666<br>negative.|679<br>negative.|1123<br>negative.|1013<br>negative.|2266<br>negative.|256<br>negative.|3576<br>negative.|868<br>negative.|2417<br>negative.|2180<br>negative.|2916<br>discordant.|542<br>negative.|2234<br>negative.|802<br>negative.|2679<br>negative.|1718<br>negative.|1214<br>negative.|1636<br>negative.|119<br>negative.|2509<br>negative.|3686<br>negative.|2964<br>negative.|3067<br>negative.|730<br>negative.|2705<br>negative.|1471<br>negative.|429<br>negative.|1909<br>negative.|2597<br>negative.|1881<br>negative.|721<br>negative.|345<br>negative.|2860<br>negative.|881<br>negative.|2285<br>negative.|1487<br>negative.|1389<br>negative.|3179<br>negative.|1263<br>negative.|2893<br>negative.|891<br>negative.|2268<br>negative.|2759<br>negative.|3639<br>negative.|2458<br>negative.|2849<br>negative.|536<br>negative.|1236<br>negative.|2396<br>negative.|1629<br>negative.|236<br>negative.|1174<br>negative.|1804<br>negative.|3292<br>negative.|8<br>negative.|956<br>negative.|3371<br>negative.|426<br>negative.|3129<br>negative.|2868<br>negative.|1824<br>negative.|3709<br>negative.|2523<br>negative.|1247<br>negative.|3027<br>negative.|684<br>negative.|1441<br>negative.|137<br>negative.|1720<br>negative.|3306<br>negative.|3351<br>negative.|390<br>negative.|3749<br>negative.|1958<br>negative.|628<br>negative.|37<br>negative.|702<br>negative.|1300<br>negative.|221<br>negative.|3529<br>negative.|1580<br>negative.|1228<br>negative.|3048<br>negative.|2626<br>negative.|1143<br>negative.|3220<br>negative.|440<br>negative.|784<br>negative.|2055<br>negative.|871<br>negative.|7<br>negative.|3415<br>negative.|2246<br>negative.|1962<br>negative.|2324<br>negative.|1761<br>negative.|1227<br>negative.|3240<br>negative.|1793<br>negative.|1233<br>negative.|3221<br>negative.|264<br>negative.|3438<br>negative.|2512<br>negative.|1456<br>negative.|1264<br>negative.|2846<br>negative.|106<br>negative.|3285<br>negative.|2519<br>negative.|3447<br>negative.|2258<br>negative.|269<br>negative.|3570<br>negative.|844<br>negative.|3660<br>negative.|1667<br>negative.|2760<br>negative.|615<br>negative.|3346<br>negative.|1936<br>negative.|3114<br>negative.|1261<br>negative.|3562<br>negative.|407<br>negative.|2974<br>negative.|3296<br>negative.|1876<br>negative.|3741<br>negative.|627<br>negative.|162<br>negative.|234<br>negative.|2750<br>negative.|2387<br>negative.|1583<br>negative.|3298<br>negative.|3476<br>negative.|3297<br>negative.|3083<br>negative.|3101<br>negative.|782<br>negative.|3328<br>negative.|1888<br>negative.|3721<br>negative.|215<br>negative.|2385<br>negative.|2936<br>negative.|1195<br>negative.|533<br>negative.|1922<br>negative.|3421<br>negative.|2382<br>negative.|2976<br>negative.|1840<br>discordant.|2091<br>negative.|141<br>negative.|3451<br>negative.|3581<br>negative.|2323<br>negative.|204<br>negative.|1201<br>negative.|889<br>negative.|2861<br>negative.|2528<br>negative.|277<br>negative.|1366<br>negative.|919<br>negative.|3684<br>negative.|3536<br>negative.|1836<br>negative.|1397<br>negative.|1140<br>negative.|2547<br>negative.|502<br>negative.|1509<br>negative.|1709<br>negative.|3061<br>negative.|842<br>negative.|3073<br>negative.|1457<br>negative.|3066<br>negative.|720<br>negative.|3314<br>negative.|1057<br>negative.|2087<br>negative.|3264<br>negative.|997<br>negative.|2702<br>negative.|1176<br>negative.|490<br>negative.|2514<br>negative.|590<br>negative.|2902<br>negative.|2224<br>negative.|3569<br>negative.|337<br>negative.|2218<br>negative.|255<br>negative.|1409<br>negative.|3682<br>negative.|1696<br>negative.|309<br>negative.|885<br>negative.|662<br>negative.|2379<br>negative.|3757<br>negative.|2276<br>negative.|81<br>negative.|757<br>negative.|1982<br>negative.|606<br>negative.|83<br>negative.|907<br>negative.|2191<br>negative.|1319<br>negative.|2405<br>negative.|2349<br>negative.|657<br>negative.|492<br>negative.|155<br>negative.|240<br>negative.|3626<br>negative.|816<br>negative.|2962<br>negative.|2685<br>negative.|3155<br>negative.|2380<br>negative.|2265<br>negative.|2150<br>negative.|1269<br>negative.|3017<br>negative.|3304<br>negative.|1023<br>negative.|220<br>negative.|1511<br>negative.|2222<br>negative.|3340<br>negative.|3403<br>negative.|1152<br>negative.|2683<br>negative.|2625<br>negative.|404<br>negative.|3714<br>negative.|845<br>negative.|2911<br>negative.|3257<br>negative.|3481<br>negative.|178<br>negative.|3728<br>negative.|1915<br>negative.|2240<br>negative.|3372<br>negative.|656<br>negative.|3089<br>negative.|780<br>negative.|1569<br>negative.|3590<br>negative.|3695<br>negative.|437<br>negative.|3070<br>negative.|3199<br>negative.|2154<br>negative.|2732<br>negative.|2562<br>negative.|1479<br>negative.|1354<br>negative.|3239<br>negative.|2189<br>negative.|331<br>negative.|759<br>negative.|1166<br>negative.|2599<br>negative.|4<br>negative.|3080<br>negative.|1245<br>negative.|260<br>negative.|172<br>negative.|970<br>negative.|3747<br>negative.|949<br>negative.|179<br>negative.|2186<br>negative.|1549<br>negative.|230<br>negative.|1283<br>negative.|2193<br>negative.|850<br>negative.|138<br>negative.|2633<br>negative.|905<br>negative.|3394<br>negative.|3489<br>negative.|280<br>negative.|2651<br>negative.|3556<br>negative.|1469<br>negative.|266<br>negative.|1446<br>negative.|3093<br>negative.|1790<br>negative.|2632<br>negative.|1615<br>negative.|2280<br>negative.|763<br>negative.|3675<br>negative.|3062<br>negative.|2862<br>negative.|1726<br>negative.|1299<br>negative.|1294<br>negative.|232<br>negative.|1159<br>negative.|327<br>discordant.|2086<br>negative.|103<br>negative.|2553<br>negative.|3510<br>negative.|952<br>negative.|554<br>negative.|3617<br>negative.|2791<br>negative.|326<br>negative.|85<br>negative.|287<br>negative.|358<br>negative.|2774<br>negative.|2543<br>negative.|2946<br>negative.|2727<br>negative.|1173<br>negative.|1132<br>negative.|1036<br>negative.|1019<br>negative.|3111<br>negative.|1556<br>negative.|1349<br>negative.|2914<br>negative.|271<br>negative.|2631<br>negative.|3059<br>negative.|3598<br>negative.|1251<br>negative.|1729<br>negative.|1004<br>negative.|2624<br>negative.|1627<br>negative.|3467<br>negative.|3060<br>negative.|993<br>negative.|2267<br>negative.|2329<br>negative.|1180<br>negative.|1142<br>negative.|808<br>negative.|2923<br>negative.|3219<br>negative.|528<br>negative.|2535<br>negative.|823<br>negative.|1153<br>negative.|3512<br>negative.|3424<br>negative.|16<br>negative.|2816<br>negative.|3393<br>negative.|1343<br>negative.|1926<br>negative.|3077<br>negative.|3246<br>negative.|1951<br>negative.|781<br>negative.|1138<br>negative.|1190<br>negative.|3716<br>negative.|2364<br>negative.|3358<br>negative.|2511<br>negative.|274<br>negative.|3143<br>negative.|795<br>negative.|2461<br>discordant.|3196<br>negative.|3223<br>negative.|1296<br>negative.|3453<br>negative.|2171<br>negative.|1448<br>negative.|2554<br>negative.|122<br>negative.|1945<br>negative.|310<br>negative.|452<br>negative.|2500<br>negative.|2425<br>negative.|3384<br>negative.|1358<br>negative.|1096<br>negative.|474<br>negative.|3352<br>negative.|1574<br>negative.|1796<br>negative.|3719<br>negative.|2540<br>negative.|1740<br>negative.|2733<br>negative.|2939<br>negative.|1215<br>negative.|2475<br>negative.|3462<br>negative.|853<br>negative.|1060<br>negative.|2982<br>negative.|282<br>negative.|3752<br>negative.|793<br>negative.|1056<br>negative.|1128<br>negative.|3751<br>negative.|558<br>negative.|1552<br>negative.|1422<br>negative.|1016<br>negative.|3159<br>negative.|2261<br>negative.|2567<br>negative.|1097<br>negative.|1837<br>negative.|2392<br>negative.|2715<br>negative.|2488<br>negative.|278<br>negative.|2561<br>negative.|1432<br>negative.|430<br>negative.|2672<br>negative.|1979<br>negative.|2490<br>negative.|1829<br>negative.|619<br>negative.|211<br>negative.|2643<br>negative.|1012<br>negative.|594<br>negative.|2421<br>negative.|2856<br>negative.|773<br>negative.|2510<br>negative.|24<br>negative.|2692<br>negative.|2158<br>negative.|1734<br>negative.|3012<br>negative.|546<br>discordant.|2546<br>negative.|3587<br>negative.|741<br>negative.|839<br>negative.|2233<br>negative.|1368<br>negative.|91<br>negative.|798<br>negative.|2522<br>negative.|847<br>negative.|572<br>negative.|292<br>negative.|3325<br>negative.|1068<br>negative.|1867<br>negative.|588<br>negative.|108<br>negative.|2111<br>negative.|226<br>negative.|2880<br>negative.|151<br>negative.|2908<br>negative.|1527<br>negative.|1839<br>negative.|1029<br>negative.|23<br>negative.|2319<br>negative.|2497<br>negative.|3014<br>negative.|896<br>negative.|1339<br>negative.|3041<br>discordant.|3698<br>negative.|2286<br>negative.|1947<br>negative.|3040<br>negative.|2999<br>negative.|1940<br>negative.|3363<br>negative.|699<br>negative.|2212<br>negative.|2640<br>negative.|3441<br>negative.|1073<br>negative.|1250<br>negative.|3269<br>negative.|1416<br>negative.|909<br>negative.|1398<br>negative.|265<br>negative.|3366<br>negative.|1404<br>negative.|2565<br>negative.|1240<br>negative.|3044<br>negative.|1869<br>negative.|672<br>negative.|3195<br>negative.|1055<br>negative.|3329<br>negative.|851<br>negative.|786<br>negative.|2088<br>negative.|1271<br>negative.|630<br>negative.|2035<br>negative.|1285<br>negative.|3439<br>negative.|212<br>negative.|3518<br>negative.|3322<br>negative.|2605<br>negative.|470<br>negative.|416<br>negative.|3357<br>negative.|1070<br>negative.|625<br>negative.|3727<br>negative.|3344<br>negative.|374<br>negative.|2036<br>negative.|1616<br>negative.|575<br>negative.|3677<br>negative.|2809<br>negative.|3323<br>negative.|1489<br>negative.|779<br>negative.|2478<br>negative.|3694<br>negative.|2179<br>negative.|579<br>negative.|3658<br>negative.|1639<br>negative.|2483<br>negative.|527<br>negative.|728<br>negative.|2798<br>negative.|2991<br>negative.|2149<br>negative.|3474<br>negative.|3382<br>negative.|237<br>negative.|2795<br>negative.|3291<br>negative.|3646<br>negative.|2941<br>negative.|2073<br>negative.|1597<br>negative.|2502<br>negative.|731<br>negative.|3583<br>negative.|378<br>negative.|2881<br>negative.|592<br>negative.|1558<br>negative.|2713<br>negative.|3691<br>negative.|2305<br>negative.|2263<br>negative.|1345<br>discordant.|2516<br>negative.|2944<br>negative.|2607<br>negative.|58<br>negative.|3605<br>negative.|2538<br>negative.|3505<br>negative.|2343<br>negative.|1884<br>negative.|1671<br>negative.|1886<br>negative.|3205<br>negative.|1592<br>negative.|2251<br>negative.|1323<br>negative.|1990<br>negative.|2972<br>negative.|2204<br>negative.|866<br>negative.|764<br>discordant.|2298<br>negative.|3432<br>negative.|3015<br>negative.|301<br>negative.|2466<br>negative.|616<br>negative.|3118<br>negative.|2291<br>negative.|2402<br>negative.|2773<br>negative.|2618<br>negative.|2544<br>negative.|2354<br>negative.|1026<br>negative.|3738<br>negative.|2957<br>negative.|1253<br>negative.|1107<br>negative.|2121<br>negative.|2132<br>negative.|1976<br>negative.|2677<br>negative.|2613<br>negative.|2616<br>negative.|12<br>negative.|1244<br>negative.|3488<br>negative.|3011<br>negative.|661<br>negative.|393<br>negative.|754<br>negative.|3236<br>negative.|3079<br>negative.|455<br>negative.|3440<br>negative.|1907<br>negative.|767<br>negative.|3375<br>negative.|1156<br>negative.|1553<br>negative.|1147<br>negative.|2905<br>negative.|1018<br>negative.|3390<br>negative.|3171<br>negative.|645<br>negative.|3218<br>negative.|1148<br>negative.|2529<br>negative.|1670<br>negative.|1743<br>negative.|124<br>negative.|636<br>negative.|3336<br>negative.|1704<br>negative.|1717<br>negative.|127<br>negative.|2525<br>negative.|1127<br>negative.|611<br>negative.|1997<br>negative.|2398<br>negative.|3003<br>negative.|2252<br>negative.|2228<br>negative.|2226<br>negative.|2243<br>negative.|1222<br>negative.|1124<br>negative.|2573<br>negative.|1298<br>negative.|3085<br>negative.|2812<br>negative.|2712<br>negative.|3625<br>negative.|1325<br>negative.|181<br>discordant.|198<br>negative.|3674<br>negative.|3573<br>negative.|920<br>negative.|1182<br>negative.|2336<br>negative.|344<br>negative.|56<br>negative.|1080<br>negative.|1777<br>negative.|3078<br>negative.|299<br>negative.|359<br>negative.|2871<br>negative.|830<br>negative.|1688<br>negative.|3289<br>negative.|2662<br>negative.|241<br>negative.|1141<br>negative.|2442<br>negative.|2031<br>negative.|2782<br>negative.|160<br>negative.|1472<br>negative.|3124<br>negative.|1722<br>negative.|1899<br>negative.|2207<br>negative.|93<br>negative.|1531<br>negative.|2527<br>negative.|2657<br>negative.|10<br>negative.|2128<br>negative.|2772<br>negative.|2113<br>negative.|1334<br>negative.|2165<br>negative.|2873<br>negative.|3657<br>negative.|2796<br>negative.|39<br>negative.|72<br>negative.|1526<br>negative.|262<br>negative.|1515<br>negative.|2332<br>negative.|1204<br>negative.|3273<br>negative.|1931<br>negative.|685<br>negative.|355<br>negative.|2767<br>negative.|1477<br>negative.|2794<br>negative.|2598<br>negative.|1210<br>negative.|2588<br>negative.|1950<br>negative.|1402<br>negative.|218<br>negative.|1420<br>negative.|334<br>negative.|1809<br>negative.|322<br>negative.|2909<br>negative.|935<br>negative.|3107<br>negative.|649<br>negative.|3217<br>negative.|1703<br>negative.|80<br>negative.|2231<br>negative.|2273<br>negative.|1100<br>negative.|1825<br>negative.|3531<br>negative.|973<br>negative.|1405<br>negative.|1587<br>negative.|2316<br>negative.|922<br>negative.|1272<br>negative.|1927<br>negative.|1934<br>negative.|2376<br>negative.|2097<br>negative.|3385<br>negative.|1993<br>negative.|3123<br>negative.|2928<br>negative.|2783<br>negative.|3343<br>negative.|671<br>negative.|3152<br>negative.|3144<br>negative.|3120<br>negative.|3361<br>negative.|1771<br>negative.|3769<br>negative.|544<br>negative.|1220<br>negative.|1486<br>negative.|876<br>negative.|239<br>negative.|2655<br>negative.|3754<br>negative.|1270<br>negative.|906<br>negative.|3141<br>negative.|1423<br>negative.|1536<br>negative.|2303<br>negative.|316<br>negative.|1047<br>negative.|3672<br>negative.|2041<br>negative.|2947<br>negative.|1211<br>negative.|1399<br>negative.|886<br>negative.|683<br>negative.|1225<br>negative.|1381<br>negative.|972<br>negative.|2734<br>negative.|3606<br>negative.|363<br>negative.|1254<br>negative.|3497<br>negative.|2660<br>negative.|1674<br>negative.|1524<br>negative.|1896<br>negative.|2188<br>negative.|1831<br>negative.|1450<br>negative.|776<br>negative.|3628<br>negative.|1491<br>negative.|2945<br>negative.|2257<br>negative.|2351<br>negative.|3607<br>negative.|3200<br>discordant.|2845<br>negative.|2227<br>negative.|2650<br>negative.|3053<br>negative.|1351<br>negative.|113<br>negative.|1579<br>negative.|2129<br>negative.|3248<br>negative.|2700<br>negative.|2126<br>negative.|3669<br>negative.|1710<br>negative.|861<br>negative.|2404<br>negative.|2474<br>negative.|1321<br>negative.|2025<br>negative.|1737<br>negative.|1785<br>negative.|2012<br>negative.|3772<br>negative.|3054<br>negative.|3623<br>negative.|2492<br>negative.|2009<br>negative.|3277<br>negative.|1069<br>negative.|3490<br>negative.|1760<br>negative.|2934<br>negative.|213<br>negative.|1114<br>negative.|2049<br>negative.|3744<br>negative.|289<br>negative.|3150<br>negative.|3096<br>negative.|659<br>negative.|858<br>negative.|841<br>negative.|1550<br>negative.|1288<br>negative.|931<br>negative.|752<br>negative.|2399<br>negative.|2790<br>negative.|149<br>negative.|2869<br>discordant.|68<br>negative.|183<br>negative.|2930<br>negative.|1830<br>negative.|1467<br>negative.|1582<br>negative.|1895<br>negative.|1971<br>negative.|3683<br>negative.|2358<br>negative.|3571<br>negative.|2034<br>negative.|2071<br>negative.|1985<br>negative.|697<br>negative.|1944<br>negative.|652<br>negative.|2160<br>negative.|940<br>negative.|5<br>negative.|3608<br>negative.|3396<br>negative.|500<br>negative.|820<br>negative.|36<br>negative.|549<br>negative.|2806<br>negative.|829<br>negative.|311<br>negative.|2875<br>negative.|131<br>negative.|1359<br>negative.|637<br>negative.|3321<br>negative.|2583<br>negative.|1020<br>negative.|2435<br>negative.|1424<br>negative.|328<br>negative.|3506<br>negative.|1523<br>negative.|3504<br>negative.|1687<br>negative.|2656<br>negative.|903<br>negative.|755<br>negative.|1680<br>negative.|3402<br>negative.|2000<br>negative.|2652<br>negative.|1043<br>negative.|2183<br>negative.|1444<br>negative.|2674<br>negative.|1889<br>negative.|648<br>negative.|297<br>negative.|981<br>discordant.|469<br>negative.|1695<br>negative.|2413<br>negative.|121<br>negative.|296<br>negative.|3430<br>negative.|3106<br>negative.|2496<br>negative.|453<br>negative.|2922<br>negative.|1938<br>negative.|927<br>negative.|3470<br>negative.|2411<br>negative.|2585<br>negative.|2033<br>negative.|1131<br>negative.|660<br>discordant.|2955<br>negative.|1599<br>negative.|3687<br>negative.|785<br>negative.|1169<br>negative.|2844<br>negative.|1443<br>negative.|3579<br>negative.|276<br>negative.|1686<br>negative.|614<br>negative.|2339<br>negative.|3426<br>negative.|2062<br>negative.|3131<br>negative.|1882<br>negative.|2564<br>negative.|1452<br>negative.|2428<br>negative.|465<br>negative.|3638<br>negative.|3685<br>negative.|2202<br>negative.|1117<br>negative.|2308<br>negative.|1109<br>negative.|1293<br>negative.|142<br>negative.|2200<br>negative.|2586<br>negative.|258<br>negative.|3000<br>negative.|3522<br>negative.|2122<br>negative.|1963<br>negative.|3090<br>negative.|3086<br>negative.|2749<br>negative.|367<br>negative.|705<br>negative.|3370<br>negative.|1361<br>negative.|3715<br>negative.|787<br>negative.|3455<br>negative.|3596<br>negative.|749<br>negative.|1784<br>negative.|3553<br>negative.|1071<br>negative.|865<br>negative.|2839<br>negative.|2752<br>negative.|2317<br>negative.|2161<br>negative.|2836<br>negative.|3507<br>negative.|318<br>negative.|499<br>negative.|1364<br>negative.|2666<br>negative.|1352<br>negative.|1421<br>negative.|2747<br>negative.|1150<br>negative.|2352<br>negative.|3354<br>negative.|3637<br>negative.|835<br>negative.|107<br>negative.|1619<br>negative.|3198<br>negative.|70<br>negative.|3407<br>negative.|2507<br>negative.|3589<br>negative.|2096<br>negative.|2591<br>negative.|2330<br>negative.|1108<br>negative.|3130<br>negative.|2638<br>negative.|2963<br>negative.|531<br>negative.|2721<br>negative.|696<br>negative.|2950<br>discordant.|3486<br>negative.|3293<br>negative.|1719<br>negative.|904<br>negative.|2065<br>negative.|1741<br>negative.|2822<br>negative.|136<br>negative.|1353<br>negative.|859<br>negative.|2302<br>negative.|1504<br>negative.|1697<br>discordant.|1475<br>negative.|1745<br>negative.|1725<br>negative.|3701<br>negative.|2949<br>negative.|1630<br>negative.|2155<br>negative.|1589<br>negative.|1395<br>negative.|3528<br>negative.|3177<br>negative.|1559<br>negative.|3538<br>negative.|421<br>negative.|762<br>negative.|3373<br>negative.|3509<br>negative.|801<br>negative.|2356<br>negative.|1668<br>negative.|294<br>negative.|1465<br>negative.|3104<br>negative.|2139<br>discordant.|510<br>negative.|698<br>negative.|673<br>negative.|3620<br>negative.|3501<br>negative.|73<br>negative.|608<br>negative.|710<br>negative.|1053<br>negative.|3023<br>negative.|1061<br>negative.|1758<br>negative.|1803<br>negative.|1794<br>negative.|2623<br>negative.|1105<br>negative.|1921<br>negative.|2015<br>negative.|2654<br>negative.|2047<br>negative.|11<br>negative.|1995<br>negative.|135<br>negative.|3225<br>negative.|2932<br>negative.|254<br>negative.|2584<br>negative.|1781<br>negative.|1301<br>negative.|2042<br>discordant.|2886<br>negative.|1943<br>negative.|321<br>negative.|192<br>negative.|1897<br>negative.|2568<br>negative.|2960<br>negative.|3541<br>negative.|3558<br>negative.|989<br>negative.|1500<br>negative.|1866<br>negative.|2197<br>negative.|1736<br>negative.|854<br>negative.|1689<br>negative.|1750<br>negative.|3342<br>negative.|3033<br>negative.|700<br>negative.|2942<br>negative.|1577<br>negative.|216<br>negative.|2350<br>negative.|717<br>negative.|243<br>negative.|387<br>negative.|1355<br>negative.|3599<br>negative.|3740<br>negative.|1276<br>negative.|2858<br>negative.|3466<br>negative.|3600<br>negative.|1766<br>negative.|643<br>negative.|1185<br>negative.|1063<br>negative.|1624<br>negative.|2688<br>negative.|1460<br>negative.|3046<br>negative.|475<br>negative.|2581<br>negative.|1394<br>negative.|3551<br>negative.|1972<br>negative.|3420<br>negative.|1221<br>negative.|86<br>negative.|1427<br>negative.|2520<br>negative.|622<br>negative.|1077<br>negative.|3126<br>negative.|1437<br>negative.|2904<br>negative.|2162<br>negative.|2090<br>negative.|1198<br>negative.|3282<br>negative.|249<br>negative.|498<br>negative.|3389<br>negative.|2730<br>negative.|2870<br>negative.|1948<br>negative.|306<br>negative.|1965<br>negative.|1855<br>negative.|2187<br>negative.|1207<br>negative.|2735<br>negative.|1146<br>negative.|1856<br>negative.|765<br>negative.|3676<br>negative.|2987<br>negative.|3215<br>negative.|2779<br>negative.|2403<br>negative.|1902<br>negative.|1062<br>negative.|1292<br>negative.|852<br>negative.|2038<br>negative.|2484<br>negative.|958<br>negative.|158<br>negative.|3324<br>negative.|1818<br>negative.|1853<br>negative.|1386<br>negative.|980<br>negative.|458<br>negative.|3649<br>negative.|2784<br>negative.|1164<br>negative.|574<br>negative.|2977<br>negative.|3148<br>negative.|796<br>negative.|1022<br>negative.|2335<br>negative.|2471<br>negative.|3287<br>negative.|377<br>negative.|3186<br>negative.|3493<br>negative.|1341<br>negative.|1388<br>negative.|1904<br>negative.|1827<br>negative.|2864<br>negative.|279<br>negative.|1984<br>negative.|2237<br>negative.|332<br>negative.|2620<br>negative.|397<br>negative.|117<br>negative.|2176<br>negative.|2312<br>negative.|1468<br>negative.|2931<br>negative.|3720<br>negative.|1890<br>negative.|1585<br>negative.|3592<br>negative.|417<br>negative.|2551<br>negative.|3459<br>negative.|1181<br>negative.|1438<br>negative.|2468<br>negative.|31<br>negative.|2967<br>negative.|2024<br>negative.|2835<br>negative.|3100<br>negative.|2064<br>negative.|75<br>negative.|1838<br>negative.|1681<br>negative.|2020<br>negative.|3547<br>negative.|2665<br>negative.|675<br>negative.|3514<br>negative.|2119<br>negative.|439<br>negative.|3175<br>negative.|304<br>negative.|1774<br>negative.|703<br>negative.|596<br>negative.|2888<br>negative.|2555<br>negative.|201<br>negative.|3401<br>negative.|3136<br>negative.|516<br>negative.|1588<br>negative.|3678<br>negative.|3673<br>negative.|1414<br>negative.|777<br>negative.|965<br>negative.|534<br>negative.|520<br>negative.|2440<br>negative.|2770<br>negative.|1596<br>negative.|1407<br>negative.|1255<br>negative.|6<br>negative.|1037<br>negative.|1998<br>negative.|505<br>negative.|1133<br>negative.|3524<br>negative.|948<br>negative.|3128<br>negative.|2264<br>negative.|1662<br>negative.|146<br>negative.|372<br>negative.|1280<br>negative.|3580<br>negative.|3138<br>negative.|2785<br>negative.|2918<br>negative.|1074<br>negative.|74<br>negative.|384<br>negative.|3647<br>negative.|3072<br>negative.|1564<br>negative.|3705<br>negative.|2943<br>negative.|1799<br>discordant.|207<br>negative.|40<br>negative.|174<br>negative.|3463<br>negative.|1205<br>negative.|3454<br>negative.|1642<br>negative.|873<br>negative.|2192<br>negative.|2983<br>negative.|3301<br>negative.|2327<br>negative.|97<br>negative.|1380<br>negative.|153<br>negative.|1783<br>negative.|3284<br>negative.|250<br>negative.|2566<br>negative.|347<br>negative.|3461<br>negative.|1575<br>negative.|79<br>negative.|944<br>negative.|535<br>negative.|2072<br>negative.|3378<br>negative.|3209<br>negative.|2786<br>negative.|960<br>negative.|1238<br>negative.|2933<br>negative.|1832<br>negative.|342<br>negative.|3335<br>negative.|2342<br>negative.|2578<br>negative.|2438<br>negative.|2014<br>negative.|3042<br>negative.|2142<br>negative.|394<br>negative.|1370<br>negative.|1492<br>negative.|953<br>negative.|1453<br>negative.|3613<br>negative.|188<br>negative.|3157<br>negative.|199<br>negative.|2614<br>negative.|3243<br>negative.|1590<br>negative.|872<br>negative.|3178<br>negative.|768<br>negative.|3443<br>negative.|2709<br>discordant.|2883<br>negative.|1154<br>negative.|3756<br>negative.|2044<br>negative.|2145<br>negative.|2454<br>negative.|1384<br>negative.|133<br>negative.|494<br>negative.|1961<br>negative.|2552<br>negative.|2159<br>negative.|1925<br>negative.|2271<br>negative.|3730<br>negative.|751<br>negative.|2321<br>negative.|2153<br>negative.|1859<br>negative.|2549<br>negative.|1406<br>negative.|3181<br>negative.|2803<br>negative.|2004<br>negative.|1495<br>negative.|2270<br>negative.|3381<br>negative.|2748<br>negative.|2027<br>negative.|2851<br>negative.|599<br>negative.|2169<br>negative.|2173<br>negative.|653<br>negative.|1151<br>negative.|2295<br>negative.|3268<br>negative.|517<br>negative.|2082<br>negative.|2375<br>negative.|1039<br>negative.|1021<br>negative.|1129<br>negative.|1383<br>negative.|354<br>negative.|2216<br>negative.|1548<br>negative.|2164<br>negative.|2430<br>negative.|295<br>negative.|319<br>negative.|3134<br>negative.|2127<br>negative.|2824<br>negative.|2232<br>negative.|1075<br>negative.|2021<br>negative.|2016<br>negative.|3001<br>negative.|3498<br>negative.|911<br>negative.|1098<br>negative.|747<br>negative.|553<br>negative.|888<br>negative.|1279<br>negative.|1770<br>discordant.|620<br>negative.|2310<br>negative.|3586<br>negative.|815<br>negative.|1539<br>negative.|1031<br>negative.|3278<br>negative.|3636<br>negative.|3665<br>negative.|9<br>negative.|290<br>negative.|432<br>negative.|1223<br>negative.|2311<br>negative.|2895<br>negative.|1542<br>negative.|2574<br>negative.|1273<br>discordant.|760<br>negative.|49<br>negative.|925<br>negative.|1356<br>negative.|2444<br>negative.|519<br>negative.|259<br>negative.|17<br>negative.|18<br>negative.|1713<br>negative.|180<br>negative.|1<br>negative.|901<br>negative.|3347<br>negative.|2998<br>negative.|1324<br>negative.|1066<br>negative.|217<br>negative.|1498<br>negative.|3468<br>negative.|1685<br>negative.|945<br>negative.|3603<br>negative.|1362<br>negative.|1335<br>negative.|1044<br>negative.|1001<br>negative.|3746<br>negative.|910<br>negative.|1470<br>negative.|2697<br>negative.|955<br>negative.|2371<br>negative.|2254<br>negative.|788<br>negative.|159<br>negative.|3519<br>negative.|1089<br>negative.|3380<br>negative.|1241<br>negative.|2997<br>negative.|2306<br>negative.|2857<br>negative.|2388<br>negative.|3172<br>negative.|228<br>negative.|13<br>negative.|843<br>negative.|3767<br>negative.|1989<br>negative.|1462<br>negative.|1613<br>negative.|3633<br>negative.|2029<br>negative.|400<br>discordant.|545<br>negative.|2503<br>discordant.|2148<br>negative.|848<br>negative.|3174<br>negative.|2719<br>negative.|19<br>negative.|366<br>negative.|2804<br>negative.|388<br>negative.|2808<br>negative.|543<br>negative.|3055<br>negative.|3475<br>negative.|1929<br>negative.|2569<br>negative.|2572<br>negative.|2612<br>negative.|2802<br>negative.|247<br>negative.|2600<br>negative.|434<br>negative.|444<br>negative.|1396<br>negative.|3511<br>negative.|674<br>negative.|3427<br>negative.|2331<br>negative.|623<br>negative.|3052<br>negative.|2661<br>negative.|442<br>negative.|3465<br>negative.|604<br>negative.|1459<br>negative.|2776<br>negative.|2410<br>negative.|2743<br>negative.|2143<br>negative.|3145<br>negative.|190<br>negative.|1716<br>negative.|602<br>negative.|2407<br>negative.|718<br>negative.|2007<br>discordant.|2889<br>negative.|2424<br>negative.|1617<br>negative.|2876<br>negative.|1846<br>negative.|443<br>negative.|2594<br>negative.|3204<br>negative.|53<br>negative.|1413<br>negative.|1852<br>negative.|833<br>negative.|3629<br>negative.|2639<br>negative.|1620<br>negative.|918<br>negative.|711<br>negative.|2170<br>negative.|2105<br>negative.|3031<br>negative.|722<br>negative.|1623<br>negative.|1316<br>negative.|3395<br>negative.|1773<br>negative.|943<br>negative.|1310<br>negative.|2279<br>negative.|281<br>negative.|450<br>negative.|3755<br>negative.|1664<br>negative.|1119<br>negative.|1289<br>negative.|101<br>negative.|2106<br>negative.|1303<br>negative.|1226<br>negative.|1633<br>negative.|609<br>negative.|1307<br>negative.|1317<br>negative.|1206<br>negative.|1331<br>negative.|1645<br>negative.|47<br>negative.|1640<br>negative.|1418<br>negative.|3241<br>negative.|3<br>negative.|2238<br>negative.|1275<br>negative.|1862<br>negative.|94<br>negative.|578<br>negative.|1618<br>negative.|2637<br>negative.|2067<br>negative.|3212<br>negative.|742<br>negative.|1622<br>negative.|2596<br>negative.|1894<br>negative.|3761<br>negative.|3251<br>negative.|408<br>negative.|1308<br>negative.|3582<br>negative.|2966<br>negative.|2994<br>negative.|3601<br>negative.|2422<br>negative.|3034<br>negative.|732<br>negative.|1417<br>negative.|3280<br>negative.|772<br>negative.|1823<br>negative.|2704<br>negative.|3460<br>negative.|3211<br>negative.|2720<br>negative.|926<br>negative.|2716<br>negative.|2412<br>negative.|826<br>negative.|1733<br>negative.|1175<br>negative.|3374<br>negative.|1312<br>negative.|3472<br>negative.|3099<br>negative.|2823<br>negative.|1860<br>negative.|1189<br>negative.|2915<br>negative.|3122<br>negative.|41<br>negative.|1910<br>negative.|537<br>negative.|1139<br>negative.|1800<br>negative.|2980<br>negative.|607<br>negative.|1246<br>negative.|3234<br>negative.|3723<br>negative.|1994<br>negative.|1024<br>negative.|1501<br>negative.|3244<br>negative.|538<br>negative.|2986<br>negative.|1954<br>negative.|3482<br>negative.|2667<br>negative.|206<br>negative.|1655<br>negative.|1095<br>negative.|812<br>negative.|242<br>negative.|3162<br>negative.|170<br>negative.|610<br>negative.|2337<br>negative.|3560<br>negative.|1160<br>negative.|59<br>negative.|1912<br>negative.|1535<br>negative.|1762<br>negative.|529<br>negative.|3655<br>negative.|748<br>negative.|1715<br>negative.|1184<br>negative.|1006<br>negative.|2457<br>negative.|2894<br>negative.|2676<br>negative.|2175<br>negative.|3376<br>negative.|729<br>negative.|2996<br>negative.|2575<br>negative.|2456<br>negative.|1576<br>negative.|3203<br>negative.|1562<br>negative.|1065<br>negative.|2313<br>negative.|438<br>negative.|2089<br>negative.|1290<br>negative.|1942<br>negative.|3087<br>negative.|890<br>negative.|771<br>negative.|2693<br>negative.|1374<br>negative.|1106<br>negative.|2754<br>negative.|87<br>negative.|3487<br>negative.|503<br>negative.|2217<br>negative.|518<br>negative.|2241<br>negative.|863<br>negative.|1256<br>negative.|3436<br>negative.|964<br>negative.|3194<br>negative.|312<br>negative.|1379<br>negative.|2874<br>negative.|1779<br>negative.|1914<br>negative.|870<br>negative.|2769<br>negative.|1497<br>negative.|1782<br>negative.|361<br>negative.|2696<br>negative.|1259<br>negative.|2053<br>negative.|2092<br>discordant.|978<br>negative.|2369<br>negative.|792<br>negative.|48<br>negative.|2462<br>negative.|129<br>negative.|1191<br>negative.|2116<br>negative.|2582<br>negative.|1641<br>negative.|3119<br>negative.|3140<br>negative.|84<br>negative.|577<br>negative.|774<br>negative.|530<br>negative.|34<br>negative.|3753<br>negative.|1473<br>negative.|3621<br>negative.|3316<br>negative.|2738<br>negative.|2961<br>negative.|3030<br>negative.|2910<br>negative.|410<br>negative.|2083<br>negative.|3065<br>negative.|3650<br>negative.|2706<br>negative.|1521<br>negative.|1850<br>negative.|1488<br>negative.|2847<br>negative.|3113<br>negative.|364<br>negative.|2448<br>negative.|2023<br>negative.|2322<br>negative.|1088<br>negative.|3737<br>discordant.|2476<br>negative.|1017<br>negative.|157<br>negative.|1983<br>negative.|2608<br>negative.|98<br>negative.|2441<br>negative.|2301<br>negative.|2645<br>negative.|229<br>negative.|1049<br>negative.|2829<br>negative.|3271<br>negative.|203<br>negative.|353<br>negative.|1759<br>negative.|1841<br>negative.|629<br>negative.|2147<br>negative.|1683<br>negative.|2467<br>negative.|3183<br>negative.|3359<br>negative.|1126<br>negative.|3125<br>negative.|424<br>negative.|3004<br>negative.|1730<br>negative.|1447<br>negative.|481<br>negative.|2112<br>negative.|2506<br>negative.|1901<br>negative.|2819<br>negative.|1692<br>negative.|267<br>negative.|3718<br>negative.|3611<br>negative.|2077<br>negative.|3766<br>negative.|1532<br>negative.|461<br>negative.|810<br>negative.|2898<br>negative.|3604<br>negative.|963<br>negative.|3771<br>negative.|3356<br>negative.|3121<br>negative.|1847<br>negative.|3049<br>negative.|2777<br>negative.|3480<br>negative.|968<br>negative.|2177<br>negative.|2365<br>negative.|1608<br>negative.|1878<br>negative.|477<br>negative.|2602<br>negative.|2138<br>negative.|2635<br>negative.|1311<br>negative.|3263<br>negative.|2084<br>negative.|460<br>negative.|92<br>negative.|1728<br>negative.|524<br>negative.|939<br>negative.|1918<br>negative.|1534<br>negative.|1538<br>negative.|1304<br>negative.|2384<br>negative.|1155<br>negative.|3748<br>negative.|929<br>negative.|1810<br>negative.|814<br>negative.|548<br>negative.|3632<br>negative.|15<br>negative.|2213<br>negative.|2890<br>negative.|580<br>negative.|1930<br>negative.|2465<br>negative.|1857<br>negative.|1883<br>negative.|2140<br>negative.|2762<br>negative.|736<br>negative.|3557<br>negative.|118<br>negative.|593<br>negative.|95<br>negative.|2181<br>negative.|2761<br>negative.|2209<br>negative.|2541<br>negative.|286<br>negative.|1503<br>negative.|2536<br>negative.|2277<br>negative.|789<br>negative.|3032<br>negative.|3201<br>negative.|1519<br>discordant.|1412<br>negative.|2307<br>negative.|1200<br>negative.|2872<br>negative.|1125<br>negative.|1797<br>negative.|2060<br>negative.|2054<br>negative.|2780<br>negative.|2019<br>negative.|3069<br>negative.|1007<br>negative.|3397<br>negative.|1520<br>negative.|1678<br>negative.|1789<br>negative.|930<br>negative.|379<br>negative.|2<br>negative.|2123<br>negative.|2842<br>negative.|1659<br>negative.|148<br>negative.|1546<br>negative.|2050<br>negative.|1609<br>negative.|1905<br>negative.|3697<br>negative.|551<br>negative.|3485<br>negative.|2075<br>negative.|67<br>negative.|2166<br>negative.|2195<br>negative.|3043<br>negative.|1700<br>negative.|2840<br>negative.|2028<br>negative.|933<br>negative.|1752<br>negative.|1908<br>negative.|3226<br>negative.|1570<br>negative.|1076<br>negative.|1561<br>negative.|2820<br>negative.|302<br>negative.|559<br>negative.|898<br>negative.|1714<br>negative.|1042<br>negative.|3255<br>negative.|1637<br>negative.|171<br>negative.|2726<br>negative.|1130<br>negative.|3274<br>negative.|1543<br>negative.|805<br>negative.|184<br>negative.|3228<br>negative.|1005<br>negative.|2830<br>negative.|3168<br>negative.|324<br>negative.|1135<br>negative.|582<br>negative.|1157<br>negative.|2472<br>negative.|1243<br>negative.|1120<br>negative.|2897<br>negative.|2814<br>negative.|77<br>negative.|2080<br>negative.|635<br>negative.|2559<br>negative.|3664<br>negative.|1811<br>negative.|1819<br>negative.|1675<br>negative.|3026<br>negative.|2415<br>negative.|2658<br>negative.|3552<br>negative.|3405<br>negative.|2445<br>negative.|485<br>negative.|370<br>negative.|1177<br>negative.|2450<br>negative.|552<br>negative.|3294<br>negative.|1506<br>negative.|2284<br>negative.|2678<br>negative.|2921<br>discordant.|1338<br>negative.|2328<br>negative.|464<br>negative.|1606<br>negative.|3419<br>negative.|3537<br>negative.|3006<br>negative.|2287<br>negative.|35<br>negative.|597<br>negative.|1373<br>negative.|2877<br>negative.|882<br>negative.|2494<br>negative.|3008<br>negative.|1864<br>negative.|2447<br>negative.|3593<br>negative.|3180<br>negative.|365<br>negative.|1780<br>negative.|3406<br>negative.|2282<br>discordant.|1030<br>negative.|1213<br>negative.|3517<br>negative.|105<br>negative.|985<br>negative.|2557<br>negative.|3115<br>negative.|313<br>negative.|3360<br>negative.|1235<br>negative.|2124<br>negative.|167<br>negative.|550<br>negative.|2094<br>negative.|1955<br>negative.|1144<br>negative.|392<br>negative.|565<br>negative.|1295<br>negative.|2299<br>negative.|1544<br>negative.|1525<br>negative.|1167<br>negative.|566<br>negative.|1046<br>negative.|2109<br>negative.|1572<br>negative.|2198<br>negative.|954<br>negative.|638<br>negative.|406<br>negative.|130<br>negative.|1086<br>negative.|1282<br>negative.|3056<br>negative.|1650<br>negative.|639<br>negative.|1099<br>negative.|2722<br>negative.|2070<br>negative.|1087<br>negative.|1584<br>negative.|2603<br>negative.|398<br>negative.|2151<br>negative.|3696<br>negative.|3108<br>negative.|154<br>negative.|375<br>negative.|1265<br>negative.|1320<br>negative.|1974<br>negative.|468<br>negative.|330<br>negative.|1946<br>negative.|547<br>negative.|14<br>negative.|2359<br>negative.|1390<br>negative.|99<br>negative.|3091<br>negative.|1103<br>negative.|1765<br>negative.|2372<br>negative.|1266<br>negative.|1563<br>negative.|2262<br>negative.|3508<br>negative.|1654<br>negative.|509<br>negative.|1187<br>negative.|2821<br>negative.|3151<br>negative.|3762<br>negative.|161<br>negative.|2249<br>negative.|194<br>negative.|3025<br>negative.|3565<br>negative.|1522<br>negative.|2037<br>negative.|3612<br>negative.|650<br>negative.|3235<br>negative.|1893<br>negative.|2079<br>negative.|76<br>negative.|2517<br>negative.|3661<br>negative.|2114<br>negative.|2952<br>negative.|3734<br>negative.|3050<br>negative.|3653<br>negative.|340<br>negative.|2199<br>negative.|3450<br>negative.|2793<br>negative.|3494<br>negative.|1115<br>negative.|3249<br>negative.|1673<br>negative.|3283<br>negative.|758<br>negative.|1591<br>negative.|2005<br>negative.|2708<br>negative.|3411<br>negative.|3190<br>negative.|2013<br>negative.|937<br>negative.|2539<br>negative.|687<br>negative.|1171<br>negative.|144<br>negative.|288<br>negative.|2647<br>negative.|1822<br>negative.|3256<br>negative.|2057<br>negative.|2469<br>negative.|2834<br>negative.|261<br>negative.|109<br>negative.|1464<br>negative.|69<br>negative.|2900<br>negative.|482<br>negative.|3176<br>negative.|423<br>negative.|3210<br>negative.|3364<br>negative.|1008<br>negative.|300<br>negative.|3058<br>negative.|1387<br>negative.|2011<br>discordant.|3760<br>negative.|165<br>negative.|88<br>negative.|431<br>negative.|1484<br>negative.|3446<br>negative.|1877<br>negative.|186<br>negative.|2269<br>discordant.|2593<br>negative.|511<br>negative.|2133<br>negative.|2455<br>negative.|2695<br>negative.|1170<br>negative.|456<br>negative.|1987<br>negative.|1461<br>negative.|2671<br>negative.|20<br>negative.|1197<br>negative.|2725<br>negative.|2102<br>negative.|2115<br>negative.|1281<br>negative.|1988<br>negative.|3097<br>negative.|3503<br>negative.|120<br>negative.|3250<br>discordant.|2604<br>negative.|1892<br>negative.|419<br>negative.|2022<br>negative.|1807<br>negative.|1093<br>negative.|1705<br>negative.|308<br>negative.|2659<br>negative.|1378<br>negative.|102<br>negative.|2899<br>negative.|908<br>negative.|3281<br>negative.|1425<br>negative.|273<br>negative.|3763<br>negative.|1313<br>negative.|386<br>negative.|915<br>negative.|3019<br>negative.|168<br>negative.|581<br>negative.|2346<br>negative.|2066<br>negative.|1268<br>discordant.|3690<br>negative.|43<br>negative.|1600<br>negative.|1772<br>negative.|275<br>negative.|1849<br>negative.|1111<br>negative.|402<br>negative.|969<br>negative.|317<br>negative.|3577<br>negative.|2884<br>negative.|1481<br>negative.|2244<br>negative.|3127<br>negative.|2253<br>negative.|946<br>negative.|3105<br>negative.|3258<br>negative.|3147<br>negative.|1792<br>negative.|208<br>negative.|3418<br>negative.|3525<br>negative.|1635<br>negative.|1744<br>negative.|3575<br>negative.|1188<br>negative.|2288<br>negative.|1551<br>negative.|3188<br>negative.|1756<br>negative.|2610<br>negative.|2225<br>negative.|1445<br>negative.|224<br>negative.|1110<br>negative.|783<br>negative.|2118<br>negative.|2063<br>negative.|2815<br>negative.|2531<br>negative.|1165<br>negative.|3550<br>negative.|2003<br>negative.|415<br>negative.|1661<br>negative.|3047<br>negative.|2787<br>negative.|991<br>negative.|3702<br>negative.|932<br>negative.|2825<br>negative.|691<br>negative.|2971<br>negative.|454<br>negative.|3681<br>negative.|1691<br>negative.|2985<br>negative.|66<br>negative.|182<br>negative.|2431<br>negative.|3214<br>negative.|2979<br>negative.|451<br>negative.|60<br>negative.|3622<br>negative.|2383<br>negative.|1084<br>negative.|2245<br>negative.|3689<br>negative.|3652<br>negative.|1287<br>negative.|3496<br>negative.|724<br>replacement therapy.|806<br>underreplacement.|3724<br>negative.|303<br>negative.|2739<br>replacement therapy.|2390<br>negative.|356<br>underreplacement.|2363<br>negative.|1916<br>replacement therapy.|248<br>underreplacement.|1557<br>negative.|3409<br>replacement therapy.|3330<br>negative.|1116<br>negative.|2589<br>negative.|680<br>underreplacement.|448<br>underreplacement.|3435<br>underreplacement.|1274<br>negative.|2533<br>negative.|3700<br>negative.|1658<br>negative.|1565<br>negative.|542<br>replacement therapy.|2396<br>replacement therapy.|3027<br>overreplacement.|784<br>overreplacement.|2760<br>underreplacement.|1261<br>underreplacement.|3562<br>negative.|2091<br>overreplacement.|3314<br>overreplacement.|490<br>underreplacement.|2514<br>replacement therapy.|3257<br>overreplacement.|331<br>negative.|2086<br>overreplacement.|2543<br>underreplacement.|1132<br>underreplacement.|1004<br>replacement therapy.|3358<br>negative.|3196<br>replacement therapy.|1016<br>negative.|2546<br>underreplacement.|839<br>replacement therapy.|3325<br>negative.|3698<br>underreplacement.|3329<br>negative.|2516<br>underreplacement.|1592<br>underreplacement.|1323<br>negative.|2298<br>replacement therapy.|3738<br>underreplacement.|3218<br>overreplacement.|124<br>overreplacement.|2525<br>overreplacement.|2812<br>negative.|198<br>underreplacement.|3573<br>replacement therapy.|1777<br>replacement therapy.|1722<br>replacement therapy.|2794<br>underreplacement.|1423<br>overreplacement.|1524<br>negative.|2845<br>underreplacement.|1550<br>negative.|68<br>overreplacement.|1895<br>replacement therapy.|1889<br>negative.|469<br>negative.|2955<br>underreplacement.|1599<br>underreplacement.|785<br>replacement therapy.|3685<br>underreplacement.|3090<br>replacement therapy.|3086<br>overreplacement.|3596<br>overreplacement.|3553<br>negative.|3486<br>negative.|1475<br>overreplacement.|1589<br>underreplacement.|1395<br>underreplacement.|3373<br>replacement therapy.|1668<br>negative.|510<br>overreplacement.|1803<br>replacement therapy.|135<br>replacement therapy.|3225<br>negative.|2886<br>overreplacement.|2312<br>underreplacement.|1181<br>negative.|207<br>negative.|2883<br>underreplacement.|2803<br>overreplacement.|1495<br>negative.|620<br>negative.|760<br>underreplacement.|1241<br>negative.|545<br>negative.|2148<br>underreplacement.|19<br>replacement therapy.|247<br>negative.|2889<br>replacement therapy.|1640<br>underreplacement.|1800<br>replacement therapy.|3560<br>underreplacement.|2676<br>negative.|978<br>overreplacement.|3030<br>negative.|2476<br>replacement therapy.|3271<br>underreplacement.|2112<br>replacement therapy.|2209<br>negative.|1412<br>overreplacement.|1789<br>negative.|1338<br>replacement therapy.|1864<br>replacement therapy.|3180<br>negative.|1030<br>underreplacement.|1525<br>overreplacement.|1087<br>underreplacement.|3696<br>replacement therapy.|1893<br>underreplacement.|3190<br>overreplacement.|482<br>replacement therapy.|423<br>negative.|3760<br>negative.|2593<br>negative.|2604<br>overreplacement.|1705<br>negative.|3690<br>overreplacement.|1600<br>underreplacement.|2610<br>hyperthyroid.|3445<br>hyperthyroid.|1873<br>hyperthyroid.|962<br>T3 toxic.|2378<br>hyperthyroid.|1826<br>hyperthyroid.|2504<br>hyperthyroid.|3098<br>goitre.|3523<br>hyperthyroid.|676<br>T3 toxic.|1648<br>hyperthyroid.|1677<br>hyperthyroid.|913<br>hyperthyroid.|3559<br>T3 toxic.|875<br>goitre.|3616<br>hyperthyroid.|2417<br>hyperthyroid.|3351<br>hyperthyroid.|1143<br>hyperthyroid.|871<br>hyperthyroid.|3684<br>hyperthyroid.|1982<br>hyperthyroid.|1152<br>hyperthyroid.|1190<br>hyperthyroid.|1432<br>hyperthyroid.|2692<br>hyperthyroid.|108<br>hyperthyroid.|3605<br>hyperthyroid.|764<br>hyperthyroid.|2402<br>hyperthyroid.|1997<br>hyperthyroid.|359<br>hyperthyroid.|39<br>hyperthyroid.|1405<br>hyperthyroid.|1831<br>hyperthyroid.|752<br>hyperthyroid.|3571<br>hyperthyroid.|1944<br>hyperthyroid.|2585<br>hyperthyroid.|3354<br>hyperthyroid.|2949<br>T3 toxic.|3600<br>hyperthyroid.|3046<br>hyperthyroid.|1827<br>goitre.|2064<br>hyperthyroid.|2665<br>hyperthyroid.|201<br>hyperthyroid.|79<br>hyperthyroid.|3178<br>hyperthyroid.|2430<br>hyperthyroid.|3001<br>hyperthyroid.|888<br>hyperthyroid.|49<br>hyperthyroid.|3511<br>hyperthyroid.|1846<br>goitre.|59<br>hyperthyroid.|3376<br>goitre.|629<br>goitre.|2467<br>hyperthyroid.|3125<br>T3 toxic.|1304<br>hyperthyroid.|3069<br>T3 toxic.|1659<br>hyperthyroid.|1609<br>hyperthyroid.|1506<br>hyperthyroid.|130<br>hyperthyroid.|1086<br>T3 toxic.|547<br>hyperthyroid.|1654<br>hyperthyroid.|3612<br>goitre.|2469<br>hyperthyroid.|88<br>hyperthyroid.|308<br>T3 toxic.|1313<br>hyperthyroid.|2531<br>hyperthyroid.|2003<br>hyperthyroid.|415<br>hyperthyroid.|2431<br>sick.|1367<br>sick.|936<br>sick.|1428<br>sick.|1873<br>sick.|2235<br>sick.|2296<br>sick.|962<br>sick.|336<br>sick.|987<br>sick.|2363<br>sick.|2355<br>sick.|227<br>sick.|1502<br>sick.|2464<br>sick.|3337<br>sick.|3634<br>sick.|1375<br>sick.|734<br>sick.|775<br>sick.|2131<br>sick.|613<br>sick.|941<br>sick.|2272<br>sick.|1528<br>sick.|3435<br>sick.|3640<br>sick.|740<br>sick.|2459<br>sick.|2144<br>sick.|1158<br>sick.|714<br>sick.|1814<br>sick.|2906<br>sick.|1677<br>sick.|2283<br>sick.|913<br>sick.|3110<br>sick.|2443<br>sick.|2099<br>sick.|1742<br>sick.|3227<br>sick.|2679<br>sick.|119<br>sick.|721<br>sick.|3639<br>sick.|956<br>sick.|137<br>sick.|1143<br>sick.|627<br>sick.|1195<br>sick.|2323<br>sick.|3536<br>sick.|2685<br>sick.|1152<br>sick.|3372<br>sick.|1245<br>sick.|3510<br>sick.|2946<br>sick.|1251<br>sick.|3077<br>sick.|2554<br>sick.|773<br>sick.|2692<br>sick.|108<br>sick.|1527<br>sick.|1398<br>sick.|1240<br>sick.|1558<br>sick.|1884<br>sick.|1886<br>sick.|764<br>sick.|301<br>sick.|616<br>sick.|1026<br>sick.|1244<br>sick.|2207<br>sick.|39<br>sick.|2273<br>sick.|1272<br>sick.|1771<br>sick.|3607<br>sick.|2650<br>sick.|1710<br>sick.|1114<br>sick.|1288<br>sick.|931<br>sick.|3571<br>sick.|1043<br>sick.|2585<br>sick.|1882<br>sick.|2308<br>sick.|2122<br>sick.|367<br>sick.|787<br>sick.|1364<br>sick.|3293<br>sick.|2302<br>sick.|421<br>sick.|1465<br>sick.|1053<br>sick.|11<br>sick.|1995<br>sick.|989<br>sick.|2197<br>sick.|1276<br>sick.|1063<br>sick.|1221<br>sick.|3324<br>sick.|2471<br>sick.|1341<br>sick.|3592<br>sick.|201<br>sick.|3678<br>sick.|965<br>sick.|505<br>sick.|2264<br>sick.|40<br>sick.|2192<br>sick.|3461<br>sick.|1384<br>sick.|2270<br>sick.|2016<br>sick.|3001<br>sick.|815<br>sick.|1273<br>sick.|1362<br>sick.|1001<br>sick.|2572<br>sick.|434<br>sick.|3427<br>sick.|2424<br>sick.|1289<br>sick.|1862<br>sick.|3460<br>sick.|926<br>sick.|2575<br>sick.|1379<br>sick.|361<br>sick.|3753<br>sick.|2738<br>sick.|2301<br>sick.|3183<br>sick.|3766<br>sick.|810<br>sick.|2365<br>sick.|95<br>sick.|2060<br>sick.|551<br>sick.|933<br>sick.|1714<br>sick.|2472<br>sick.|2897<br>sick.|1177<br>sick.|566<br>sick.|954<br>sick.|1650<br>sick.|2070<br>sick.|3696<br>sick.|3494<br>sick.|2539<br>sick.|3364<br>sick.|1008<br>sick.|1197<br>sick.|102<br>sick.|386<br>sick.|2787<br>sick.|991<br>sick.|932<br>sick.|1691<br>sick.|2431<br>sick.|3652<br>compensated hypothyroid.|3169<br>primary hypothyroid.|2427<br>compensated hypothyroid.|251<br>compensated hypothyroid.|2691<br>compensated hypothyroid.|822<br>compensated hypothyroid.|2741<br>primary hypothyroid.|2274<br>compensated hypothyroid.|1711<br>compensated hypothyroid.|1267<br>primary hypothyroid.|2373<br>compensated hypothyroid.|3614<br>compensated hypothyroid.|2515<br>compensated hypothyroid.|3064<br>compensated hypothyroid.|3337<br>compensated hypothyroid.|210<br>primary hypothyroid.|2956<br>compensated hypothyroid.|979<br>compensated hypothyroid.|846<br>primary hypothyroid.|1192<br>compensated hypothyroid.|2030<br>compensated hypothyroid.|3103<br>compensated hypothyroid.|568<br>primary hypothyroid.|111<br>primary hypothyroid.|2426<br>compensated hypothyroid.|617<br>primary hypothyroid.|2827<br>primary hypothyroid.|1628<br>compensated hypothyroid.|1365<br>compensated hypothyroid.|3640<br>compensated hypothyroid.|2144<br>compensated hypothyroid.|2260<br>compensated hypothyroid.|2451<br>primary hypothyroid.|714<br>primary hypothyroid.|1547<br>compensated hypothyroid.|2929<br>compensated hypothyroid.|1814<br>primary hypothyroid.|3539<br>compensated hypothyroid.|2906<br>compensated hypothyroid.|349<br>compensated hypothyroid.|1360<br>compensated hypothyroid.|1679<br>compensated hypothyroid.|2537<br>compensated hypothyroid.|1327<br>compensated hypothyroid.|1935<br>primary hypothyroid.|3464<br>compensated hypothyroid.|3341<br>primary hypothyroid.|3768<br>compensated hypothyroid.|802<br>compensated hypothyroid.|1214<br>primary hypothyroid.|1881<br>compensated hypothyroid.|1804<br>compensated hypothyroid.|3129<br>compensated hypothyroid.|3306<br>compensated hypothyroid.|3749<br>compensated hypothyroid.|3221<br>primary hypothyroid.|1264<br>compensated hypothyroid.|3570<br>compensated hypothyroid.|1667<br>primary hypothyroid.|2974<br>compensated hypothyroid.|2750<br>primary hypothyroid.|2387<br>primary hypothyroid.|3297<br>compensated hypothyroid.|2385<br>primary hypothyroid.|2218<br>compensated hypothyroid.|81<br>compensated hypothyroid.|1269<br>compensated hypothyroid.|1023<br>compensated hypothyroid.|845<br>compensated hypothyroid.|2240<br>compensated hypothyroid.|3372<br>primary hypothyroid.|3590<br>primary hypothyroid.|3239<br>compensated hypothyroid.|3747<br>compensated hypothyroid.|1283<br>primary hypothyroid.|1790<br>compensated hypothyroid.|3510<br>compensated hypothyroid.|2727<br>compensated hypothyroid.|1173<br>compensated hypothyroid.|3111<br>compensated hypothyroid.|528<br>primary hypothyroid.|1343<br>compensated hypothyroid.|3077<br>compensated hypothyroid.|3719<br>primary hypothyroid.|1060<br>compensated hypothyroid.|1422<br>compensated hypothyroid.|2672<br>compensated hypothyroid.|2510<br>compensated hypothyroid.|2999<br>primary hypothyroid.|3269<br>compensated hypothyroid.|1398<br>compensated hypothyroid.|3322<br>compensated hypothyroid.|2036<br>compensated hypothyroid.|1489<br>compensated hypothyroid.|3382<br>compensated hypothyroid.|2795<br>primary hypothyroid.|378<br>primary hypothyroid.|3505<br>primary hypothyroid.|2204<br>compensated hypothyroid.|2677<br>compensated hypothyroid.|2616<br>primary hypothyroid.|3375<br>compensated hypothyroid.|1553<br>compensated hypothyroid.|3336<br>compensated hypothyroid.|1325<br>compensated hypothyroid.|2662<br>compensated hypothyroid.|2128<br>primary hypothyroid.|2873<br>compensated hypothyroid.|334<br>compensated hypothyroid.|2909<br>compensated hypothyroid.|3107<br>primary hypothyroid.|1927<br>compensated hypothyroid.|1381<br>compensated hypothyroid.|3497<br>primary hypothyroid.|2351<br>compensated hypothyroid.|3607<br>primary hypothyroid.|2492<br>compensated hypothyroid.|2358<br>compensated hypothyroid.|2034<br>compensated hypothyroid.|1985<br>primary hypothyroid.|500<br>compensated hypothyroid.|2583<br>compensated hypothyroid.|1020<br>compensated hypothyroid.|1424<br>primary hypothyroid.|3402<br>compensated hypothyroid.|2033<br>compensated hypothyroid.|1686<br>compensated hypothyroid.|1293<br>primary hypothyroid.|142<br>secondary hypothyroid.|2586<br>compensated hypothyroid.|3000<br>primary hypothyroid.|3522<br>compensated hypothyroid.|787<br>compensated hypothyroid.|2752<br>compensated hypothyroid.|2161<br>compensated hypothyroid.|1745<br>compensated hypothyroid.|2356<br>primary hypothyroid.|698<br>compensated hypothyroid.|1053<br>compensated hypothyroid.|1061<br>compensated hypothyroid.|2623<br>primary hypothyroid.|2654<br>compensated hypothyroid.|11<br>compensated hypothyroid.|2197<br>compensated hypothyroid.|1736<br>primary hypothyroid.|3033<br>primary hypothyroid.|700<br>compensated hypothyroid.|1276<br>compensated hypothyroid.|1460<br>compensated hypothyroid.|1972<br>primary hypothyroid.|2162<br>compensated hypothyroid.|2090<br>compensated hypothyroid.|765<br>primary hypothyroid.|397<br>compensated hypothyroid.|3720<br>primary hypothyroid.|1681<br>primary hypothyroid.|3547<br>compensated hypothyroid.|2264<br>primary hypothyroid.|3072<br>primary hypothyroid.|2943<br>compensated hypothyroid.|40<br>compensated hypothyroid.|3284<br>compensated hypothyroid.|2342<br>compensated hypothyroid.|1590<br>compensated hypothyroid.|2709<br>compensated hypothyroid.|3268<br>compensated hypothyroid.|1129<br>compensated hypothyroid.|2016<br>compensated hypothyroid.|553<br>compensated hypothyroid.|2895<br>compensated hypothyroid.|1542<br>compensated hypothyroid.|2802<br>compensated hypothyroid.|3427<br>primary hypothyroid.|623<br>compensated hypothyroid.|602<br>compensated hypothyroid.|2876<br>compensated hypothyroid.|443<br>compensated hypothyroid.|3204<br>primary hypothyroid.|281<br>compensated hypothyroid.|1633<br>compensated hypothyroid.|3099<br>compensated hypothyroid.|1189<br>compensated hypothyroid.|2667<br>primary hypothyroid.|2175<br>compensated hypothyroid.|2575<br>compensated hypothyroid.|1379<br>primary hypothyroid.|2874<br>compensated hypothyroid.|870<br>compensated hypothyroid.|2769<br>compensated hypothyroid.|1497<br>primary hypothyroid.|203<br>compensated hypothyroid.|1692<br>compensated hypothyroid.|3356<br>compensated hypothyroid.|1847<br>compensated hypothyroid.|968<br>compensated hypothyroid.|1155<br>compensated hypothyroid.|3632<br>compensated hypothyroid.|580<br>compensated hypothyroid.|1930<br>primary hypothyroid.|1125<br>primary hypothyroid.|1678<br>compensated hypothyroid.|3697<br>compensated hypothyroid.|2726<br>primary hypothyroid.|2678<br>compensated hypothyroid.|3406<br>primary hypothyroid.|2299<br>primary hypothyroid.|1765<br>compensated hypothyroid.|2262<br>compensated hypothyroid.|3151<br>compensated hypothyroid.|3762<br>compensated hypothyroid.|3734<br>compensated hypothyroid.|3210<br>compensated hypothyroid.|2011<br>primary hypothyroid.|456<br>primary hypothyroid.|20<br>primary hypothyroid.|1281<br>primary hypothyroid.|2022<br>primary hypothyroid.|3019<br>secondary hypothyroid.|3577<br>compensated hypothyroid.|1165<br>primary hypothyroid.|3047<br>increased binding protein.|185<br>increased binding protein.|942<br>increased binding protein.|3656<br>increased binding protein.|343<br>increased binding protein.|2668<br>increased binding protein.|3642<br>increased binding protein.|3035<br>increased binding protein.|2394<br>increased binding protein.|3207<br>increased binding protein.|855<br>increased binding protein.|2318<br>increased binding protein.|2026<br>increased binding protein.|3305<br>decreased binding protein.|2229<br>increased binding protein.|1183<br>increased binding protein.|338<br>increased binding protein.|2278<br>decreased binding protein.|613<br>increased binding protein.|3303<br>increased binding protein.|197<br>increased binding protein.|145<br>decreased binding protein.|1814<br>increased binding protein.|832<br>increased binding protein.|193<br>increased binding protein.|1237<br>increased binding protein.|447<br>increased binding protein.|1214<br>increased binding protein.|2597<br>increased binding protein.|684<br>increased binding protein.|3240<br>increased binding protein.|3570<br>increased binding protein.|3298<br>increased binding protein.|3581<br>increased binding protein.|3682<br>increased binding protein.|2276<br>increased binding protein.|2911<br>increased binding protein.|1915<br>increased binding protein.|780<br>increased binding protein.|2154<br>increased binding protein.|2189<br>increased binding protein.|2599<br>increased binding protein.|3489<br>increased binding protein.|2862<br>increased binding protein.|3617<br>increased binding protein.|1180<br>increased binding protein.|528<br>increased binding protein.|2488<br>increased binding protein.|619<br>increased binding protein.|594<br>increased binding protein.|798<br>increased binding protein.|2522<br>decreased binding protein.|1947<br>increased binding protein.|3040<br>increased binding protein.|3366<br>increased binding protein.|579<br>increased binding protein.|1253<br>increased binding protein.|2121<br>increased binding protein.|1018<br>increased binding protein.|1148<br>increased binding protein.|2398<br>increased binding protein.|3078<br>increased binding protein.|830<br>increased binding protein.|2527<br>increased binding protein.|2657<br>increased binding protein.|10<br>increased binding protein.|1334<br>increased binding protein.|876<br>increased binding protein.|2404<br>increased binding protein.|659<br>increased binding protein.|36<br>increased binding protein.|2806<br>increased binding protein.|1523<br>increased binding protein.|755<br>increased binding protein.|1599<br>increased binding protein.|3177<br>increased binding protein.|192<br>increased binding protein.|1866<br>increased binding protein.|1736<br>increased binding protein.|243<br>increased binding protein.|1394<br>increased binding protein.|249<br>increased binding protein.|1853<br>increased binding protein.|2176<br>increased binding protein.|1585<br>increased binding protein.|1438<br>increased binding protein.|2468<br>increased binding protein.|3401<br>increased binding protein.|520<br>increased binding protein.|1799<br>decreased binding protein.|3443<br>increased binding protein.|517<br>increased binding protein.|553<br>increased binding protein.|1539<br>increased binding protein.|519<br>increased binding protein.|945<br>increased binding protein.|910<br>increased binding protein.|1470<br>increased binding protein.|1613<br>increased binding protein.|400<br>increased binding protein.|1716<br>increased binding protein.|1633<br>increased binding protein.|1733<br>increased binding protein.|2915<br>increased binding protein.|538<br>decreased binding protein.|206<br>decreased binding protein.|812<br>increased binding protein.|1562<br>increased binding protein.|2092<br>increased binding protein.|3621<br>increased binding protein.|3316<br>decreased binding protein.|2083<br>increased binding protein.|3263<br>increased binding protein.|2384<br>increased binding protein.|2465<br>increased binding protein.|2<br>decreased binding protein.|2123<br>increased binding protein.|2830<br>increased binding protein.|1675<br>increased binding protein.|2287<br>increased binding protein.|882<br>increased binding protein.|313<br>increased binding protein.|1522<br>increased binding protein.|2079<br>increased binding protein.|2900<br>increased binding protein.|1877<br>increased binding protein.|2899<br>increased binding protein.|581<br>increased binding protein.|2346<br>increased binding protein.|1481<br>increased binding protein.|3418<br>increased binding protein.|1756<br>increased binding protein.|1445<br>increased binding protein.|2245</div>"
      ],
      "text/plain": [
       "<IPython.core.display.HTML object>"
      ]
     },
     "metadata": {},
     "output_type": "display_data"
    }
   ],
   "source": [
    "from IPython.display import display, HTML\n",
    "\n",
    "unique_classes = df['class'].unique().tolist()\n",
    "html = \"<div style='max-height: 500px; overflow-y: scroll;'>\" + \"<br>\".join(map(str, unique_classes)) + \"</div>\"\n",
    "display(HTML(html))"
   ]
  },
  {
   "cell_type": "markdown",
   "id": "081eb44c-17f6-494a-bf49-054a07ffbc1b",
   "metadata": {},
   "source": [
    "Examining missing values in data"
   ]
  },
  {
   "cell_type": "code",
   "execution_count": 639,
   "id": "61b4c213-4627-4fb4-84fd-f01790c30519",
   "metadata": {
    "tags": []
   },
   "outputs": [
    {
     "data": {
      "text/plain": [
       "age                          False\n",
       "sex                          False\n",
       "on_thyroxine                 False\n",
       "query_on_thyroxine           False\n",
       "on_antithyroid_medication    False\n",
       "sick                         False\n",
       "pregnant                     False\n",
       "thyroid_surgery              False\n",
       "I131_treatment               False\n",
       "query_hypothyroid            False\n",
       "query_hyperthyroid           False\n",
       "lithium                      False\n",
       "goitre                       False\n",
       "tumor                        False\n",
       "hypopituitary                False\n",
       "psych                        False\n",
       "TSH_measured                 False\n",
       "TSH                          False\n",
       "T3_measured                  False\n",
       "T3                           False\n",
       "TT4_measured                 False\n",
       "TT4                          False\n",
       "T4U_measured                 False\n",
       "T4U                          False\n",
       "FTI_measured                 False\n",
       "FTI                          False\n",
       "TBG_measured                 False\n",
       "TBG                          False\n",
       "referral_source              False\n",
       "class                        False\n",
       "dtype: bool"
      ]
     },
     "execution_count": 639,
     "metadata": {},
     "output_type": "execute_result"
    }
   ],
   "source": [
    "df.isna().any()"
   ]
  },
  {
   "cell_type": "markdown",
   "id": "eb998ed0-a8cc-4407-8b52-5a5210e2aabb",
   "metadata": {},
   "source": [
    "None of the columns in the dataset have NA values, which is considered a good sign as I don't have to worry as much about if there is a value that is NaN which doesn't tell me what it means"
   ]
  },
  {
   "cell_type": "markdown",
   "id": "ed62553b-7883-4572-8e07-74c617db6329",
   "metadata": {
    "tags": []
   },
   "source": [
    "### Data Cleaning"
   ]
  },
  {
   "cell_type": "markdown",
   "id": "ac700d5a-886e-41ec-9cf7-aaf2c7e91304",
   "metadata": {},
   "source": [
    "The columns `TBG measured` and `TBG` have the same exact values across all 6 datasets, so it doesn't provide any value in terms of using those columns to predict the outcome variables"
   ]
  },
  {
   "cell_type": "code",
   "execution_count": 643,
   "id": "a86d9d73-17f2-4343-b8c4-cb17a0454a0f",
   "metadata": {
    "tags": []
   },
   "outputs": [
    {
     "data": {
      "text/html": [
       "<div>\n",
       "<style scoped>\n",
       "    .dataframe tbody tr th:only-of-type {\n",
       "        vertical-align: middle;\n",
       "    }\n",
       "\n",
       "    .dataframe tbody tr th {\n",
       "        vertical-align: top;\n",
       "    }\n",
       "\n",
       "    .dataframe thead th {\n",
       "        text-align: right;\n",
       "    }\n",
       "</style>\n",
       "<table border=\"1\" class=\"dataframe\">\n",
       "  <thead>\n",
       "    <tr style=\"text-align: right;\">\n",
       "      <th></th>\n",
       "      <th>age</th>\n",
       "      <th>sex</th>\n",
       "      <th>on_thyroxine</th>\n",
       "      <th>query_on_thyroxine</th>\n",
       "      <th>on_antithyroid_medication</th>\n",
       "      <th>sick</th>\n",
       "      <th>pregnant</th>\n",
       "      <th>thyroid_surgery</th>\n",
       "      <th>I131_treatment</th>\n",
       "      <th>query_hypothyroid</th>\n",
       "      <th>...</th>\n",
       "      <th>T3_measured</th>\n",
       "      <th>T3</th>\n",
       "      <th>TT4_measured</th>\n",
       "      <th>TT4</th>\n",
       "      <th>T4U_measured</th>\n",
       "      <th>T4U</th>\n",
       "      <th>FTI_measured</th>\n",
       "      <th>FTI</th>\n",
       "      <th>referral_source</th>\n",
       "      <th>class</th>\n",
       "    </tr>\n",
       "  </thead>\n",
       "  <tbody>\n",
       "    <tr>\n",
       "      <th>0</th>\n",
       "      <td>41</td>\n",
       "      <td>F</td>\n",
       "      <td>f</td>\n",
       "      <td>f</td>\n",
       "      <td>f</td>\n",
       "      <td>f</td>\n",
       "      <td>f</td>\n",
       "      <td>f</td>\n",
       "      <td>f</td>\n",
       "      <td>f</td>\n",
       "      <td>...</td>\n",
       "      <td>t</td>\n",
       "      <td>2.5</td>\n",
       "      <td>t</td>\n",
       "      <td>125</td>\n",
       "      <td>t</td>\n",
       "      <td>1.14</td>\n",
       "      <td>t</td>\n",
       "      <td>109</td>\n",
       "      <td>SVHC</td>\n",
       "      <td>negative.|3733</td>\n",
       "    </tr>\n",
       "    <tr>\n",
       "      <th>1</th>\n",
       "      <td>23</td>\n",
       "      <td>F</td>\n",
       "      <td>f</td>\n",
       "      <td>f</td>\n",
       "      <td>f</td>\n",
       "      <td>f</td>\n",
       "      <td>f</td>\n",
       "      <td>f</td>\n",
       "      <td>f</td>\n",
       "      <td>f</td>\n",
       "      <td>...</td>\n",
       "      <td>t</td>\n",
       "      <td>2</td>\n",
       "      <td>t</td>\n",
       "      <td>102</td>\n",
       "      <td>f</td>\n",
       "      <td>?</td>\n",
       "      <td>f</td>\n",
       "      <td>?</td>\n",
       "      <td>other</td>\n",
       "      <td>negative.|1442</td>\n",
       "    </tr>\n",
       "    <tr>\n",
       "      <th>2</th>\n",
       "      <td>46</td>\n",
       "      <td>M</td>\n",
       "      <td>f</td>\n",
       "      <td>f</td>\n",
       "      <td>f</td>\n",
       "      <td>f</td>\n",
       "      <td>f</td>\n",
       "      <td>f</td>\n",
       "      <td>f</td>\n",
       "      <td>f</td>\n",
       "      <td>...</td>\n",
       "      <td>f</td>\n",
       "      <td>?</td>\n",
       "      <td>t</td>\n",
       "      <td>109</td>\n",
       "      <td>t</td>\n",
       "      <td>0.91</td>\n",
       "      <td>t</td>\n",
       "      <td>120</td>\n",
       "      <td>other</td>\n",
       "      <td>negative.|2965</td>\n",
       "    </tr>\n",
       "    <tr>\n",
       "      <th>3</th>\n",
       "      <td>70</td>\n",
       "      <td>F</td>\n",
       "      <td>t</td>\n",
       "      <td>f</td>\n",
       "      <td>f</td>\n",
       "      <td>f</td>\n",
       "      <td>f</td>\n",
       "      <td>f</td>\n",
       "      <td>f</td>\n",
       "      <td>f</td>\n",
       "      <td>...</td>\n",
       "      <td>t</td>\n",
       "      <td>1.9</td>\n",
       "      <td>t</td>\n",
       "      <td>175</td>\n",
       "      <td>f</td>\n",
       "      <td>?</td>\n",
       "      <td>f</td>\n",
       "      <td>?</td>\n",
       "      <td>other</td>\n",
       "      <td>negative.|806</td>\n",
       "    </tr>\n",
       "    <tr>\n",
       "      <th>4</th>\n",
       "      <td>70</td>\n",
       "      <td>F</td>\n",
       "      <td>f</td>\n",
       "      <td>f</td>\n",
       "      <td>f</td>\n",
       "      <td>f</td>\n",
       "      <td>f</td>\n",
       "      <td>f</td>\n",
       "      <td>f</td>\n",
       "      <td>f</td>\n",
       "      <td>...</td>\n",
       "      <td>t</td>\n",
       "      <td>1.2</td>\n",
       "      <td>t</td>\n",
       "      <td>61</td>\n",
       "      <td>t</td>\n",
       "      <td>0.87</td>\n",
       "      <td>t</td>\n",
       "      <td>70</td>\n",
       "      <td>SVI</td>\n",
       "      <td>negative.|2807</td>\n",
       "    </tr>\n",
       "    <tr>\n",
       "      <th>...</th>\n",
       "      <td>...</td>\n",
       "      <td>...</td>\n",
       "      <td>...</td>\n",
       "      <td>...</td>\n",
       "      <td>...</td>\n",
       "      <td>...</td>\n",
       "      <td>...</td>\n",
       "      <td>...</td>\n",
       "      <td>...</td>\n",
       "      <td>...</td>\n",
       "      <td>...</td>\n",
       "      <td>...</td>\n",
       "      <td>...</td>\n",
       "      <td>...</td>\n",
       "      <td>...</td>\n",
       "      <td>...</td>\n",
       "      <td>...</td>\n",
       "      <td>...</td>\n",
       "      <td>...</td>\n",
       "      <td>...</td>\n",
       "      <td>...</td>\n",
       "    </tr>\n",
       "    <tr>\n",
       "      <th>16795</th>\n",
       "      <td>70</td>\n",
       "      <td>M</td>\n",
       "      <td>f</td>\n",
       "      <td>f</td>\n",
       "      <td>f</td>\n",
       "      <td>f</td>\n",
       "      <td>f</td>\n",
       "      <td>f</td>\n",
       "      <td>f</td>\n",
       "      <td>f</td>\n",
       "      <td>...</td>\n",
       "      <td>f</td>\n",
       "      <td>?</td>\n",
       "      <td>t</td>\n",
       "      <td>155</td>\n",
       "      <td>t</td>\n",
       "      <td>1.05</td>\n",
       "      <td>t</td>\n",
       "      <td>148</td>\n",
       "      <td>SVI</td>\n",
       "      <td>negative.|3689</td>\n",
       "    </tr>\n",
       "    <tr>\n",
       "      <th>16796</th>\n",
       "      <td>73</td>\n",
       "      <td>M</td>\n",
       "      <td>f</td>\n",
       "      <td>t</td>\n",
       "      <td>f</td>\n",
       "      <td>f</td>\n",
       "      <td>f</td>\n",
       "      <td>f</td>\n",
       "      <td>f</td>\n",
       "      <td>f</td>\n",
       "      <td>...</td>\n",
       "      <td>t</td>\n",
       "      <td>0.7</td>\n",
       "      <td>t</td>\n",
       "      <td>63</td>\n",
       "      <td>t</td>\n",
       "      <td>0.88</td>\n",
       "      <td>t</td>\n",
       "      <td>72</td>\n",
       "      <td>other</td>\n",
       "      <td>negative.|3652</td>\n",
       "    </tr>\n",
       "    <tr>\n",
       "      <th>16797</th>\n",
       "      <td>75</td>\n",
       "      <td>M</td>\n",
       "      <td>f</td>\n",
       "      <td>f</td>\n",
       "      <td>f</td>\n",
       "      <td>f</td>\n",
       "      <td>f</td>\n",
       "      <td>f</td>\n",
       "      <td>f</td>\n",
       "      <td>f</td>\n",
       "      <td>...</td>\n",
       "      <td>f</td>\n",
       "      <td>?</td>\n",
       "      <td>t</td>\n",
       "      <td>147</td>\n",
       "      <td>t</td>\n",
       "      <td>0.8</td>\n",
       "      <td>t</td>\n",
       "      <td>183</td>\n",
       "      <td>other</td>\n",
       "      <td>negative.|1287</td>\n",
       "    </tr>\n",
       "    <tr>\n",
       "      <th>16798</th>\n",
       "      <td>60</td>\n",
       "      <td>F</td>\n",
       "      <td>f</td>\n",
       "      <td>f</td>\n",
       "      <td>f</td>\n",
       "      <td>f</td>\n",
       "      <td>f</td>\n",
       "      <td>f</td>\n",
       "      <td>f</td>\n",
       "      <td>f</td>\n",
       "      <td>...</td>\n",
       "      <td>f</td>\n",
       "      <td>?</td>\n",
       "      <td>t</td>\n",
       "      <td>100</td>\n",
       "      <td>t</td>\n",
       "      <td>0.83</td>\n",
       "      <td>t</td>\n",
       "      <td>121</td>\n",
       "      <td>other</td>\n",
       "      <td>negative.|3496</td>\n",
       "    </tr>\n",
       "    <tr>\n",
       "      <th>16799</th>\n",
       "      <td>81</td>\n",
       "      <td>F</td>\n",
       "      <td>f</td>\n",
       "      <td>f</td>\n",
       "      <td>f</td>\n",
       "      <td>f</td>\n",
       "      <td>f</td>\n",
       "      <td>f</td>\n",
       "      <td>f</td>\n",
       "      <td>f</td>\n",
       "      <td>...</td>\n",
       "      <td>t</td>\n",
       "      <td>1.5</td>\n",
       "      <td>t</td>\n",
       "      <td>114</td>\n",
       "      <td>t</td>\n",
       "      <td>0.99</td>\n",
       "      <td>t</td>\n",
       "      <td>115</td>\n",
       "      <td>SVI</td>\n",
       "      <td>negative.|724</td>\n",
       "    </tr>\n",
       "  </tbody>\n",
       "</table>\n",
       "<p>16800 rows × 28 columns</p>\n",
       "</div>"
      ],
      "text/plain": [
       "      age sex on_thyroxine query_on_thyroxine on_antithyroid_medication sick  \\\n",
       "0      41   F            f                  f                         f    f   \n",
       "1      23   F            f                  f                         f    f   \n",
       "2      46   M            f                  f                         f    f   \n",
       "3      70   F            t                  f                         f    f   \n",
       "4      70   F            f                  f                         f    f   \n",
       "...    ..  ..          ...                ...                       ...  ...   \n",
       "16795  70   M            f                  f                         f    f   \n",
       "16796  73   M            f                  t                         f    f   \n",
       "16797  75   M            f                  f                         f    f   \n",
       "16798  60   F            f                  f                         f    f   \n",
       "16799  81   F            f                  f                         f    f   \n",
       "\n",
       "      pregnant thyroid_surgery I131_treatment query_hypothyroid  ...  \\\n",
       "0            f               f              f                 f  ...   \n",
       "1            f               f              f                 f  ...   \n",
       "2            f               f              f                 f  ...   \n",
       "3            f               f              f                 f  ...   \n",
       "4            f               f              f                 f  ...   \n",
       "...        ...             ...            ...               ...  ...   \n",
       "16795        f               f              f                 f  ...   \n",
       "16796        f               f              f                 f  ...   \n",
       "16797        f               f              f                 f  ...   \n",
       "16798        f               f              f                 f  ...   \n",
       "16799        f               f              f                 f  ...   \n",
       "\n",
       "      T3_measured   T3 TT4_measured  TT4 T4U_measured   T4U FTI_measured  FTI  \\\n",
       "0               t  2.5            t  125            t  1.14            t  109   \n",
       "1               t    2            t  102            f     ?            f    ?   \n",
       "2               f    ?            t  109            t  0.91            t  120   \n",
       "3               t  1.9            t  175            f     ?            f    ?   \n",
       "4               t  1.2            t   61            t  0.87            t   70   \n",
       "...           ...  ...          ...  ...          ...   ...          ...  ...   \n",
       "16795           f    ?            t  155            t  1.05            t  148   \n",
       "16796           t  0.7            t   63            t  0.88            t   72   \n",
       "16797           f    ?            t  147            t   0.8            t  183   \n",
       "16798           f    ?            t  100            t  0.83            t  121   \n",
       "16799           t  1.5            t  114            t  0.99            t  115   \n",
       "\n",
       "      referral_source           class  \n",
       "0                SVHC  negative.|3733  \n",
       "1               other  negative.|1442  \n",
       "2               other  negative.|2965  \n",
       "3               other   negative.|806  \n",
       "4                 SVI  negative.|2807  \n",
       "...               ...             ...  \n",
       "16795             SVI  negative.|3689  \n",
       "16796           other  negative.|3652  \n",
       "16797           other  negative.|1287  \n",
       "16798           other  negative.|3496  \n",
       "16799             SVI   negative.|724  \n",
       "\n",
       "[16800 rows x 28 columns]"
      ]
     },
     "execution_count": 643,
     "metadata": {},
     "output_type": "execute_result"
    }
   ],
   "source": [
    "df.drop(columns=['TBG_measured', 'TBG'], axis=1, inplace=True)\n",
    "df"
   ]
  },
  {
   "cell_type": "markdown",
   "id": "7220b404-50f0-4a67-a21c-b9708f8a6c6c",
   "metadata": {},
   "source": [
    "Sanity check column removed"
   ]
  },
  {
   "cell_type": "code",
   "execution_count": 645,
   "id": "22ab6dc1-7f0a-41a1-ad0c-20f77f354cce",
   "metadata": {
    "tags": []
   },
   "outputs": [],
   "source": [
    "assert all([dropped_column not in df.columns for dropped_column in ['TBG_measured', 'TBG']])"
   ]
  },
  {
   "cell_type": "code",
   "execution_count": 646,
   "id": "a1626313-fdc1-444f-bbbc-a2539b8a1046",
   "metadata": {
    "tags": []
   },
   "outputs": [],
   "source": [
    "assert df.shape[1] == num_attribute - 2"
   ]
  },
  {
   "cell_type": "markdown",
   "id": "bd37adda-0f2c-4dec-8d02-b40723a5f382",
   "metadata": {},
   "source": [
    "Cleanup the class column to only have the class value, and each class value is 1 word without spacing"
   ]
  },
  {
   "cell_type": "code",
   "execution_count": 648,
   "id": "5ea6619f-2181-4eb7-9bd2-97a13415f874",
   "metadata": {
    "tags": []
   },
   "outputs": [],
   "source": [
    "df['class'] = df['class'].apply(lambda x: x[:x.index('.')])\n",
    "df['class'] = df['class'].apply(lambda x: x.replace(' ', '_'))"
   ]
  },
  {
   "cell_type": "code",
   "execution_count": 649,
   "id": "e3d7cd02-4188-48b7-a086-9b6a75d2d975",
   "metadata": {
    "tags": []
   },
   "outputs": [
    {
     "name": "stdout",
     "output_type": "stream",
     "text": [
      "0    negative\n",
      "1    negative\n",
      "2    negative\n",
      "3    negative\n",
      "4    negative\n",
      "Name: class, dtype: object\n",
      "['negative' 'discordant' 'replacement_therapy' 'underreplacement'\n",
      " 'overreplacement' 'hyperthyroid' 'T3_toxic' 'goitre' 'sick'\n",
      " 'compensated_hypothyroid' 'primary_hypothyroid' 'secondary_hypothyroid'\n",
      " 'increased_binding_protein' 'decreased_binding_protein']\n"
     ]
    }
   ],
   "source": [
    "print(df['class'].head())\n",
    "print(df['class'].unique())"
   ]
  },
  {
   "cell_type": "markdown",
   "id": "cc94c126-0463-4503-a587-c8b07441a2fb",
   "metadata": {},
   "source": [
    "Cleanup the columns with `t` and `f` to be `True` and `False`"
   ]
  },
  {
   "cell_type": "code",
   "execution_count": 651,
   "id": "2e547e1b-dc3b-4a9a-bbd7-f1eee1c5dcdb",
   "metadata": {
    "tags": []
   },
   "outputs": [],
   "source": [
    "columns_with_t_f = [col_name for col_name in df.columns \n",
    "                    if list(df[col_name].unique()) == ['f', 't'] \n",
    "                    or list(df[col_name].unique()) == ['t', 'f']]\n",
    "for column_with_t_f in columns_with_t_f:\n",
    "    df[column_with_t_f] = df[column_with_t_f].apply(lambda x: False if x == 'f' else True)\n",
    "    # df[column_with_t_f] = df[column_with_t_f].apply(lambda x: 0 if x == 'f' else 1)"
   ]
  },
  {
   "cell_type": "code",
   "execution_count": 652,
   "id": "f4adc95a-ca5f-455a-bd94-d4d43a99b4e6",
   "metadata": {
    "tags": []
   },
   "outputs": [
    {
     "name": "stdout",
     "output_type": "stream",
     "text": [
      "  age sex  on_thyroxine  query_on_thyroxine  on_antithyroid_medication   sick  \\\n",
      "0  41   F         False               False                      False  False   \n",
      "1  23   F         False               False                      False  False   \n",
      "2  46   M         False               False                      False  False   \n",
      "3  70   F          True               False                      False  False   \n",
      "4  70   F         False               False                      False  False   \n",
      "\n",
      "   pregnant  thyroid_surgery  I131_treatment  query_hypothyroid  ...  \\\n",
      "0     False            False           False              False  ...   \n",
      "1     False            False           False              False  ...   \n",
      "2     False            False           False              False  ...   \n",
      "3     False            False           False              False  ...   \n",
      "4     False            False           False              False  ...   \n",
      "\n",
      "   T3_measured   T3  TT4_measured  TT4  T4U_measured   T4U  FTI_measured  FTI  \\\n",
      "0         True  2.5          True  125          True  1.14          True  109   \n",
      "1         True    2          True  102         False     ?         False    ?   \n",
      "2        False    ?          True  109          True  0.91          True  120   \n",
      "3         True  1.9          True  175         False     ?         False    ?   \n",
      "4         True  1.2          True   61          True  0.87          True   70   \n",
      "\n",
      "   referral_source     class  \n",
      "0             SVHC  negative  \n",
      "1            other  negative  \n",
      "2            other  negative  \n",
      "3            other  negative  \n",
      "4              SVI  negative  \n",
      "\n",
      "[5 rows x 28 columns]\n",
      "<class 'pandas.core.series.Series'>\n",
      "RangeIndex: 16800 entries, 0 to 16799\n",
      "Series name: on_thyroxine\n",
      "Non-Null Count  Dtype\n",
      "--------------  -----\n",
      "16800 non-null  bool \n",
      "dtypes: bool(1)\n",
      "memory usage: 16.5 KB\n",
      "None\n"
     ]
    }
   ],
   "source": [
    "print(df.head())\n",
    "print(df['on_thyroxine'].info())"
   ]
  },
  {
   "cell_type": "markdown",
   "id": "7f42e7a0-7cd4-48a8-9010-045e8188655a",
   "metadata": {},
   "source": [
    "Identify the columns where there is `?` value"
   ]
  },
  {
   "cell_type": "code",
   "execution_count": 654,
   "id": "c9427f5a-9c74-4db1-b9ed-9de5656e1482",
   "metadata": {
    "tags": []
   },
   "outputs": [
    {
     "data": {
      "text/plain": [
       "Index(['age', 'sex', 'TSH', 'T3', 'TT4', 'T4U', 'FTI'], dtype='object')"
      ]
     },
     "execution_count": 654,
     "metadata": {},
     "output_type": "execute_result"
    }
   ],
   "source": [
    "columns_with_missing_val = df.columns[df.isin(['?']).any()]\n",
    "columns_with_missing_val"
   ]
  },
  {
   "cell_type": "markdown",
   "id": "575d7eb9-da1a-484e-bd39-11d8f0b5ddf9",
   "metadata": {},
   "source": [
    "Convert the values where there is `?` value to string value of -1"
   ]
  },
  {
   "cell_type": "code",
   "execution_count": 656,
   "id": "b292245c-e668-43b4-b331-0e63ec5b0919",
   "metadata": {
    "tags": []
   },
   "outputs": [],
   "source": [
    "for column_with_missing_val in columns_with_missing_val:\n",
    "    df[column_with_missing_val] = df[column_with_missing_val].apply(lambda x: '-1' if x == '?' else x)"
   ]
  },
  {
   "cell_type": "markdown",
   "id": "449ede50-54dc-4689-947f-3c4f8ff3bef7",
   "metadata": {},
   "source": [
    "Sanity check `?` is converted to a string value of -1"
   ]
  },
  {
   "cell_type": "code",
   "execution_count": 658,
   "id": "9b7f113e-b113-437d-af80-9b4ed4630ec0",
   "metadata": {
    "tags": []
   },
   "outputs": [],
   "source": [
    "assert all(['?' not in df[column] for column in df.columns])"
   ]
  },
  {
   "cell_type": "markdown",
   "id": "05b89e31-92fe-4c46-85fb-1c6d521d6fde",
   "metadata": {},
   "source": [
    "Identify the columns where values are supposed to be continuous"
   ]
  },
  {
   "cell_type": "code",
   "execution_count": 660,
   "id": "c6e7f816-b49c-48cb-b190-22c6b4cdee37",
   "metadata": {
    "tags": []
   },
   "outputs": [
    {
     "data": {
      "text/plain": [
       "['age', 'TSH', 'T3', 'TT4', 'T4U', 'FTI']"
      ]
     },
     "execution_count": 660,
     "metadata": {},
     "output_type": "execute_result"
    }
   ],
   "source": [
    "columns_with_continuous = [key for key in data_dictionary.keys() if data_dictionary[key] == ['continuous']]\n",
    "columns_with_continuous.remove('TBG')\n",
    "columns_with_continuous"
   ]
  },
  {
   "cell_type": "markdown",
   "id": "490d7f90-af74-4829-aef3-45090abbf2a1",
   "metadata": {},
   "source": [
    "Convert columns where continuous value is expected"
   ]
  },
  {
   "cell_type": "code",
   "execution_count": 662,
   "id": "cc74f48e-3280-4a84-ac67-bfe2336129da",
   "metadata": {
    "tags": []
   },
   "outputs": [],
   "source": [
    "for column_with_continuous in columns_with_continuous:\n",
    "    df[column_with_continuous] = df[column_with_continuous].apply(lambda x: float(x) if '.' in x else int(x))"
   ]
  },
  {
   "cell_type": "markdown",
   "id": "7bd7c501-7e3f-4e1f-bf87-73f0c82ed744",
   "metadata": {},
   "source": [
    "Sanity check the cleaning resulted in a table that has numeric and boolean values"
   ]
  },
  {
   "cell_type": "code",
   "execution_count": 664,
   "id": "99f8779a-1e54-45b3-9834-2e239f666088",
   "metadata": {
    "tags": []
   },
   "outputs": [
    {
     "name": "stdout",
     "output_type": "stream",
     "text": [
      "<class 'pandas.core.frame.DataFrame'>\n",
      "RangeIndex: 16800 entries, 0 to 16799\n",
      "Data columns (total 28 columns):\n",
      " #   Column                     Non-Null Count  Dtype  \n",
      "---  ------                     --------------  -----  \n",
      " 0   age                        16800 non-null  int64  \n",
      " 1   sex                        16800 non-null  object \n",
      " 2   on_thyroxine               16800 non-null  bool   \n",
      " 3   query_on_thyroxine         16800 non-null  bool   \n",
      " 4   on_antithyroid_medication  16800 non-null  bool   \n",
      " 5   sick                       16800 non-null  bool   \n",
      " 6   pregnant                   16800 non-null  bool   \n",
      " 7   thyroid_surgery            16800 non-null  bool   \n",
      " 8   I131_treatment             16800 non-null  bool   \n",
      " 9   query_hypothyroid          16800 non-null  bool   \n",
      " 10  query_hyperthyroid         16800 non-null  bool   \n",
      " 11  lithium                    16800 non-null  bool   \n",
      " 12  goitre                     16800 non-null  bool   \n",
      " 13  tumor                      16800 non-null  bool   \n",
      " 14  hypopituitary              16800 non-null  bool   \n",
      " 15  psych                      16800 non-null  bool   \n",
      " 16  TSH_measured               16800 non-null  bool   \n",
      " 17  TSH                        16800 non-null  float64\n",
      " 18  T3_measured                16800 non-null  bool   \n",
      " 19  T3                         16800 non-null  float64\n",
      " 20  TT4_measured               16800 non-null  bool   \n",
      " 21  TT4                        16800 non-null  float64\n",
      " 22  T4U_measured               16800 non-null  bool   \n",
      " 23  T4U                        16800 non-null  float64\n",
      " 24  FTI_measured               16800 non-null  bool   \n",
      " 25  FTI                        16800 non-null  float64\n",
      " 26  referral_source            16800 non-null  object \n",
      " 27  class                      16800 non-null  object \n",
      "dtypes: bool(19), float64(5), int64(1), object(3)\n",
      "memory usage: 1.5+ MB\n"
     ]
    }
   ],
   "source": [
    "df.info()"
   ]
  },
  {
   "cell_type": "markdown",
   "id": "8c9e7e4f-5d0e-4481-8e19-dbaf1b01a097",
   "metadata": {},
   "source": [
    "Examine the dataset after cleaning"
   ]
  },
  {
   "cell_type": "code",
   "execution_count": 666,
   "id": "c14bd9f7-f34a-4f34-b575-4e6115a0c7b1",
   "metadata": {
    "tags": []
   },
   "outputs": [
    {
     "data": {
      "text/html": [
       "<div>\n",
       "<style scoped>\n",
       "    .dataframe tbody tr th:only-of-type {\n",
       "        vertical-align: middle;\n",
       "    }\n",
       "\n",
       "    .dataframe tbody tr th {\n",
       "        vertical-align: top;\n",
       "    }\n",
       "\n",
       "    .dataframe thead th {\n",
       "        text-align: right;\n",
       "    }\n",
       "</style>\n",
       "<table border=\"1\" class=\"dataframe\">\n",
       "  <thead>\n",
       "    <tr style=\"text-align: right;\">\n",
       "      <th></th>\n",
       "      <th>age</th>\n",
       "      <th>sex</th>\n",
       "      <th>on_thyroxine</th>\n",
       "      <th>query_on_thyroxine</th>\n",
       "      <th>on_antithyroid_medication</th>\n",
       "      <th>sick</th>\n",
       "      <th>pregnant</th>\n",
       "      <th>thyroid_surgery</th>\n",
       "      <th>I131_treatment</th>\n",
       "      <th>query_hypothyroid</th>\n",
       "      <th>...</th>\n",
       "      <th>T3_measured</th>\n",
       "      <th>T3</th>\n",
       "      <th>TT4_measured</th>\n",
       "      <th>TT4</th>\n",
       "      <th>T4U_measured</th>\n",
       "      <th>T4U</th>\n",
       "      <th>FTI_measured</th>\n",
       "      <th>FTI</th>\n",
       "      <th>referral_source</th>\n",
       "      <th>class</th>\n",
       "    </tr>\n",
       "  </thead>\n",
       "  <tbody>\n",
       "    <tr>\n",
       "      <th>count</th>\n",
       "      <td>16800.000000</td>\n",
       "      <td>16800</td>\n",
       "      <td>16800</td>\n",
       "      <td>16800</td>\n",
       "      <td>16800</td>\n",
       "      <td>16800</td>\n",
       "      <td>16800</td>\n",
       "      <td>16800</td>\n",
       "      <td>16800</td>\n",
       "      <td>16800</td>\n",
       "      <td>...</td>\n",
       "      <td>16800</td>\n",
       "      <td>16800.000000</td>\n",
       "      <td>16800</td>\n",
       "      <td>16800.000000</td>\n",
       "      <td>16800</td>\n",
       "      <td>16800.000000</td>\n",
       "      <td>16800</td>\n",
       "      <td>16800.000000</td>\n",
       "      <td>16800</td>\n",
       "      <td>16800</td>\n",
       "    </tr>\n",
       "    <tr>\n",
       "      <th>unique</th>\n",
       "      <td>NaN</td>\n",
       "      <td>3</td>\n",
       "      <td>2</td>\n",
       "      <td>2</td>\n",
       "      <td>2</td>\n",
       "      <td>2</td>\n",
       "      <td>2</td>\n",
       "      <td>2</td>\n",
       "      <td>2</td>\n",
       "      <td>2</td>\n",
       "      <td>...</td>\n",
       "      <td>2</td>\n",
       "      <td>NaN</td>\n",
       "      <td>2</td>\n",
       "      <td>NaN</td>\n",
       "      <td>2</td>\n",
       "      <td>NaN</td>\n",
       "      <td>2</td>\n",
       "      <td>NaN</td>\n",
       "      <td>5</td>\n",
       "      <td>14</td>\n",
       "    </tr>\n",
       "    <tr>\n",
       "      <th>top</th>\n",
       "      <td>NaN</td>\n",
       "      <td>F</td>\n",
       "      <td>False</td>\n",
       "      <td>False</td>\n",
       "      <td>False</td>\n",
       "      <td>False</td>\n",
       "      <td>False</td>\n",
       "      <td>False</td>\n",
       "      <td>False</td>\n",
       "      <td>False</td>\n",
       "      <td>...</td>\n",
       "      <td>True</td>\n",
       "      <td>NaN</td>\n",
       "      <td>True</td>\n",
       "      <td>NaN</td>\n",
       "      <td>True</td>\n",
       "      <td>NaN</td>\n",
       "      <td>True</td>\n",
       "      <td>NaN</td>\n",
       "      <td>other</td>\n",
       "      <td>negative</td>\n",
       "    </tr>\n",
       "    <tr>\n",
       "      <th>freq</th>\n",
       "      <td>NaN</td>\n",
       "      <td>10980</td>\n",
       "      <td>14820</td>\n",
       "      <td>16560</td>\n",
       "      <td>16596</td>\n",
       "      <td>16140</td>\n",
       "      <td>16554</td>\n",
       "      <td>16566</td>\n",
       "      <td>16512</td>\n",
       "      <td>15822</td>\n",
       "      <td>...</td>\n",
       "      <td>13290</td>\n",
       "      <td>NaN</td>\n",
       "      <td>15696</td>\n",
       "      <td>NaN</td>\n",
       "      <td>15018</td>\n",
       "      <td>NaN</td>\n",
       "      <td>15030</td>\n",
       "      <td>NaN</td>\n",
       "      <td>9792</td>\n",
       "      <td>16067</td>\n",
       "    </tr>\n",
       "    <tr>\n",
       "      <th>mean</th>\n",
       "      <td>51.825357</td>\n",
       "      <td>NaN</td>\n",
       "      <td>NaN</td>\n",
       "      <td>NaN</td>\n",
       "      <td>NaN</td>\n",
       "      <td>NaN</td>\n",
       "      <td>NaN</td>\n",
       "      <td>NaN</td>\n",
       "      <td>NaN</td>\n",
       "      <td>NaN</td>\n",
       "      <td>...</td>\n",
       "      <td>NaN</td>\n",
       "      <td>1.392964</td>\n",
       "      <td>NaN</td>\n",
       "      <td>101.839071</td>\n",
       "      <td>NaN</td>\n",
       "      <td>0.785991</td>\n",
       "      <td>NaN</td>\n",
       "      <td>99.010321</td>\n",
       "      <td>NaN</td>\n",
       "      <td>NaN</td>\n",
       "    </tr>\n",
       "    <tr>\n",
       "      <th>std</th>\n",
       "      <td>20.478817</td>\n",
       "      <td>NaN</td>\n",
       "      <td>NaN</td>\n",
       "      <td>NaN</td>\n",
       "      <td>NaN</td>\n",
       "      <td>NaN</td>\n",
       "      <td>NaN</td>\n",
       "      <td>NaN</td>\n",
       "      <td>NaN</td>\n",
       "      <td>NaN</td>\n",
       "      <td>...</td>\n",
       "      <td>NaN</td>\n",
       "      <td>1.431831</td>\n",
       "      <td>NaN</td>\n",
       "      <td>43.747515</td>\n",
       "      <td>NaN</td>\n",
       "      <td>0.642090</td>\n",
       "      <td>NaN</td>\n",
       "      <td>46.314762</td>\n",
       "      <td>NaN</td>\n",
       "      <td>NaN</td>\n",
       "    </tr>\n",
       "    <tr>\n",
       "      <th>min</th>\n",
       "      <td>-1.000000</td>\n",
       "      <td>NaN</td>\n",
       "      <td>NaN</td>\n",
       "      <td>NaN</td>\n",
       "      <td>NaN</td>\n",
       "      <td>NaN</td>\n",
       "      <td>NaN</td>\n",
       "      <td>NaN</td>\n",
       "      <td>NaN</td>\n",
       "      <td>NaN</td>\n",
       "      <td>...</td>\n",
       "      <td>NaN</td>\n",
       "      <td>-1.000000</td>\n",
       "      <td>NaN</td>\n",
       "      <td>-1.000000</td>\n",
       "      <td>NaN</td>\n",
       "      <td>-1.000000</td>\n",
       "      <td>NaN</td>\n",
       "      <td>-1.000000</td>\n",
       "      <td>NaN</td>\n",
       "      <td>NaN</td>\n",
       "    </tr>\n",
       "    <tr>\n",
       "      <th>25%</th>\n",
       "      <td>36.000000</td>\n",
       "      <td>NaN</td>\n",
       "      <td>NaN</td>\n",
       "      <td>NaN</td>\n",
       "      <td>NaN</td>\n",
       "      <td>NaN</td>\n",
       "      <td>NaN</td>\n",
       "      <td>NaN</td>\n",
       "      <td>NaN</td>\n",
       "      <td>NaN</td>\n",
       "      <td>...</td>\n",
       "      <td>NaN</td>\n",
       "      <td>0.800000</td>\n",
       "      <td>NaN</td>\n",
       "      <td>84.000000</td>\n",
       "      <td>NaN</td>\n",
       "      <td>0.830000</td>\n",
       "      <td>NaN</td>\n",
       "      <td>86.750000</td>\n",
       "      <td>NaN</td>\n",
       "      <td>NaN</td>\n",
       "    </tr>\n",
       "    <tr>\n",
       "      <th>50%</th>\n",
       "      <td>54.000000</td>\n",
       "      <td>NaN</td>\n",
       "      <td>NaN</td>\n",
       "      <td>NaN</td>\n",
       "      <td>NaN</td>\n",
       "      <td>NaN</td>\n",
       "      <td>NaN</td>\n",
       "      <td>NaN</td>\n",
       "      <td>NaN</td>\n",
       "      <td>NaN</td>\n",
       "      <td>...</td>\n",
       "      <td>NaN</td>\n",
       "      <td>1.800000</td>\n",
       "      <td>NaN</td>\n",
       "      <td>102.000000</td>\n",
       "      <td>NaN</td>\n",
       "      <td>0.955000</td>\n",
       "      <td>NaN</td>\n",
       "      <td>104.000000</td>\n",
       "      <td>NaN</td>\n",
       "      <td>NaN</td>\n",
       "    </tr>\n",
       "    <tr>\n",
       "      <th>75%</th>\n",
       "      <td>67.000000</td>\n",
       "      <td>NaN</td>\n",
       "      <td>NaN</td>\n",
       "      <td>NaN</td>\n",
       "      <td>NaN</td>\n",
       "      <td>NaN</td>\n",
       "      <td>NaN</td>\n",
       "      <td>NaN</td>\n",
       "      <td>NaN</td>\n",
       "      <td>NaN</td>\n",
       "      <td>...</td>\n",
       "      <td>NaN</td>\n",
       "      <td>2.300000</td>\n",
       "      <td>NaN</td>\n",
       "      <td>123.000000</td>\n",
       "      <td>NaN</td>\n",
       "      <td>1.070000</td>\n",
       "      <td>NaN</td>\n",
       "      <td>122.000000</td>\n",
       "      <td>NaN</td>\n",
       "      <td>NaN</td>\n",
       "    </tr>\n",
       "    <tr>\n",
       "      <th>max</th>\n",
       "      <td>455.000000</td>\n",
       "      <td>NaN</td>\n",
       "      <td>NaN</td>\n",
       "      <td>NaN</td>\n",
       "      <td>NaN</td>\n",
       "      <td>NaN</td>\n",
       "      <td>NaN</td>\n",
       "      <td>NaN</td>\n",
       "      <td>NaN</td>\n",
       "      <td>NaN</td>\n",
       "      <td>...</td>\n",
       "      <td>NaN</td>\n",
       "      <td>10.600000</td>\n",
       "      <td>NaN</td>\n",
       "      <td>430.000000</td>\n",
       "      <td>NaN</td>\n",
       "      <td>2.120000</td>\n",
       "      <td>NaN</td>\n",
       "      <td>395.000000</td>\n",
       "      <td>NaN</td>\n",
       "      <td>NaN</td>\n",
       "    </tr>\n",
       "  </tbody>\n",
       "</table>\n",
       "<p>11 rows × 28 columns</p>\n",
       "</div>"
      ],
      "text/plain": [
       "                 age    sex on_thyroxine query_on_thyroxine  \\\n",
       "count   16800.000000  16800        16800              16800   \n",
       "unique           NaN      3            2                  2   \n",
       "top              NaN      F        False              False   \n",
       "freq             NaN  10980        14820              16560   \n",
       "mean       51.825357    NaN          NaN                NaN   \n",
       "std        20.478817    NaN          NaN                NaN   \n",
       "min        -1.000000    NaN          NaN                NaN   \n",
       "25%        36.000000    NaN          NaN                NaN   \n",
       "50%        54.000000    NaN          NaN                NaN   \n",
       "75%        67.000000    NaN          NaN                NaN   \n",
       "max       455.000000    NaN          NaN                NaN   \n",
       "\n",
       "       on_antithyroid_medication   sick pregnant thyroid_surgery  \\\n",
       "count                      16800  16800    16800           16800   \n",
       "unique                         2      2        2               2   \n",
       "top                        False  False    False           False   \n",
       "freq                       16596  16140    16554           16566   \n",
       "mean                         NaN    NaN      NaN             NaN   \n",
       "std                          NaN    NaN      NaN             NaN   \n",
       "min                          NaN    NaN      NaN             NaN   \n",
       "25%                          NaN    NaN      NaN             NaN   \n",
       "50%                          NaN    NaN      NaN             NaN   \n",
       "75%                          NaN    NaN      NaN             NaN   \n",
       "max                          NaN    NaN      NaN             NaN   \n",
       "\n",
       "       I131_treatment query_hypothyroid  ... T3_measured            T3  \\\n",
       "count           16800             16800  ...       16800  16800.000000   \n",
       "unique              2                 2  ...           2           NaN   \n",
       "top             False             False  ...        True           NaN   \n",
       "freq            16512             15822  ...       13290           NaN   \n",
       "mean              NaN               NaN  ...         NaN      1.392964   \n",
       "std               NaN               NaN  ...         NaN      1.431831   \n",
       "min               NaN               NaN  ...         NaN     -1.000000   \n",
       "25%               NaN               NaN  ...         NaN      0.800000   \n",
       "50%               NaN               NaN  ...         NaN      1.800000   \n",
       "75%               NaN               NaN  ...         NaN      2.300000   \n",
       "max               NaN               NaN  ...         NaN     10.600000   \n",
       "\n",
       "       TT4_measured           TT4 T4U_measured           T4U FTI_measured  \\\n",
       "count         16800  16800.000000        16800  16800.000000        16800   \n",
       "unique            2           NaN            2           NaN            2   \n",
       "top            True           NaN         True           NaN         True   \n",
       "freq          15696           NaN        15018           NaN        15030   \n",
       "mean            NaN    101.839071          NaN      0.785991          NaN   \n",
       "std             NaN     43.747515          NaN      0.642090          NaN   \n",
       "min             NaN     -1.000000          NaN     -1.000000          NaN   \n",
       "25%             NaN     84.000000          NaN      0.830000          NaN   \n",
       "50%             NaN    102.000000          NaN      0.955000          NaN   \n",
       "75%             NaN    123.000000          NaN      1.070000          NaN   \n",
       "max             NaN    430.000000          NaN      2.120000          NaN   \n",
       "\n",
       "                 FTI referral_source     class  \n",
       "count   16800.000000           16800     16800  \n",
       "unique           NaN               5        14  \n",
       "top              NaN           other  negative  \n",
       "freq             NaN            9792     16067  \n",
       "mean       99.010321             NaN       NaN  \n",
       "std        46.314762             NaN       NaN  \n",
       "min        -1.000000             NaN       NaN  \n",
       "25%        86.750000             NaN       NaN  \n",
       "50%       104.000000             NaN       NaN  \n",
       "75%       122.000000             NaN       NaN  \n",
       "max       395.000000             NaN       NaN  \n",
       "\n",
       "[11 rows x 28 columns]"
      ]
     },
     "execution_count": 666,
     "metadata": {},
     "output_type": "execute_result"
    }
   ],
   "source": [
    "df.describe(include='all')"
   ]
  },
  {
   "cell_type": "markdown",
   "id": "c68355d6-bf0c-4378-9609-764f3c2d3ffb",
   "metadata": {},
   "source": [
    "Examine which columns the initial `?` values are at"
   ]
  },
  {
   "cell_type": "code",
   "execution_count": 668,
   "id": "e60cad0c-e22b-429c-97b1-64a824d710d5",
   "metadata": {
    "tags": []
   },
   "outputs": [
    {
     "name": "stdout",
     "output_type": "stream",
     "text": [
      "Index(['age', 'TSH', 'T3', 'TT4', 'T4U', 'FTI'], dtype='object')\n"
     ]
    }
   ],
   "source": [
    "print(df.columns[(df == -1).any()])"
   ]
  },
  {
   "cell_type": "markdown",
   "id": "a6863146-5e94-4bb2-8d7e-16e4587ed7b5",
   "metadata": {},
   "source": [
    "Examine other columns where initial `?` values are at. Reason why couldn't convert this value directly is because other values are character `M` and `F`"
   ]
  },
  {
   "cell_type": "code",
   "execution_count": 670,
   "id": "5577d375-1adc-40c5-a274-21cc0fc38dad",
   "metadata": {
    "tags": []
   },
   "outputs": [
    {
     "name": "stdout",
     "output_type": "stream",
     "text": [
      "Index(['sex'], dtype='object')\n"
     ]
    }
   ],
   "source": [
    "print(df.columns[(df == '-1').any()])"
   ]
  },
  {
   "cell_type": "markdown",
   "id": "eb5c661f-03ca-4551-847d-2f45cc767ab5",
   "metadata": {},
   "source": [
    "Procedure to determine if the data '?' is missing at random:\n",
    "- Split dataset into 2 set which have a missing value in a particular column vs not missing\n",
    "- Create another new response variable indicating in the missing dataset\n",
    "- Combine the dataset\n",
    "- Do a logistic regression model to predict the categories that each row belong in\n",
    "- If the data is missing at random, then the logistic regression model should perform very bad (having low accuracy)"
   ]
  },
  {
   "cell_type": "code",
   "execution_count": 672,
   "id": "b2eece57-0648-4cb4-bb74-6b64b21e013d",
   "metadata": {
    "tags": []
   },
   "outputs": [],
   "source": [
    "# df_adding_missing_column = df.copy()\n",
    "# df_adding_missing_column['missing'] = [1 if val == -1 else 0 for val in df_adding_missing_column['age']]\n",
    "# from sklearn.linear_model import LogisticRegression\n",
    "# from sklearn import metrics\n",
    "# X = df_adding_missing_column.drop(columns='missing', axis=1)\n",
    "# y = df_adding_missing_column['missing']\n",
    "# X_train, X_test, y_train, y_test = train_test_split(X, y, test_size=0.3, random_state=0)\n",
    "# logreg = LogisticRegression()\n",
    "# logreg.fit(X_train, y_train)\n",
    "# y_pred = logreg.predict(X_test)\n",
    "# print('Accuracy of logistic regression classifier on test set: {:.2f}'.format(logreg.score(X_test, y_test)))"
   ]
  },
  {
   "cell_type": "markdown",
   "id": "f3b91dfe-d0da-46b9-bd6c-bed0fdf94b8d",
   "metadata": {},
   "source": [
    "### Visualization"
   ]
  },
  {
   "cell_type": "code",
   "execution_count": 674,
   "id": "b83fd342-4b2d-4bc6-bdf5-ab22a3919dc0",
   "metadata": {
    "tags": []
   },
   "outputs": [
    {
     "data": {
      "image/png": "[encoded data removed]",
      "text/plain": [
       "<Figure size 1000x2000 with 6 Axes>"
      ]
     },
     "metadata": {},
     "output_type": "display_data"
    }
   ],
   "source": [
    "fig, axes = plt.subplots(len(columns_with_continuous), 1, figsize = [10, 20])\n",
    "count = 0\n",
    "for column_with_continuous in columns_with_continuous:\n",
    "    df.hist(column = column_with_continuous, ax=axes[count])\n",
    "    count += 1\n",
    "plt.show()"
   ]
  },
  {
   "cell_type": "markdown",
   "id": "308ef17f-043a-4a5f-b611-cbe250d268b2",
   "metadata": {},
   "source": [
    "Break down the visualization based on class value instead of looking at overall"
   ]
  },
  {
   "cell_type": "code",
   "execution_count": 676,
   "id": "f578b4a0-18c8-42df-9663-545a9d0fad6b",
   "metadata": {
    "tags": []
   },
   "outputs": [
    {
     "ename": "KeyError",
     "evalue": "'underreplacement'",
     "output_type": "error",
     "traceback": [
      "\u001b[0;31m---------------------------------------------------------------------------\u001b[0m",
      "\u001b[0;31mKeyError\u001b[0m                                  Traceback (most recent call last)",
      "Cell \u001b[0;32mIn[676], line 42\u001b[0m\n\u001b[1;32m     37\u001b[0m \u001b[38;5;66;03m# Right subplot: abnormal classes\u001b[39;00m\n\u001b[1;32m     38\u001b[0m \u001b[38;5;28;01mfor\u001b[39;00m abnormal_class \u001b[38;5;129;01min\u001b[39;00m abnormal_classes:\n\u001b[1;32m     39\u001b[0m     df[df[\u001b[38;5;124m'\u001b[39m\u001b[38;5;124mclass\u001b[39m\u001b[38;5;124m'\u001b[39m] \u001b[38;5;241m==\u001b[39m abnormal_class]\u001b[38;5;241m.\u001b[39mhist(\n\u001b[1;32m     40\u001b[0m         column\u001b[38;5;241m=\u001b[39mcolumn_with_continuous,\n\u001b[1;32m     41\u001b[0m         ax\u001b[38;5;241m=\u001b[39maxes[count][\u001b[38;5;241m1\u001b[39m],\n\u001b[0;32m---> 42\u001b[0m         color\u001b[38;5;241m=\u001b[39mdict_of_key_class_value_color[abnormal_class],\n\u001b[1;32m     43\u001b[0m         alpha\u001b[38;5;241m=\u001b[39m\u001b[38;5;241m0.4\u001b[39m\n\u001b[1;32m     44\u001b[0m     )\n\u001b[1;32m     45\u001b[0m axes[count][\u001b[38;5;241m1\u001b[39m]\u001b[38;5;241m.\u001b[39mset_title(\u001b[38;5;124mf\u001b[39m\u001b[38;5;124m\"\u001b[39m\u001b[38;5;124mAbnormal Classes: \u001b[39m\u001b[38;5;132;01m{\u001b[39;00mcolumn_with_continuous\u001b[38;5;132;01m}\u001b[39;00m\u001b[38;5;124m\"\u001b[39m)\n\u001b[1;32m     46\u001b[0m axes[count][\u001b[38;5;241m1\u001b[39m]\u001b[38;5;241m.\u001b[39mset_xlabel(column_with_continuous)\n",
      "\u001b[0;31mKeyError\u001b[0m: 'underreplacement'"
     ]
    },
    {
     "data": {
      "image/png": "[encoded data removed]",
      "text/plain": [
       "<Figure size 1000x2500 with 12 Axes>"
      ]
     },
     "metadata": {},
     "output_type": "display_data"
    }
   ],
   "source": [
    "# To create a plot with common big title across columns\n",
    "# Reference: https://stackoverflow.com/questions/40936729/matplotlib-title-spanning-two-or-any-number-of-subplot-columns\n",
    "\n",
    "# Instantiate the canvas that host the plot\n",
    "fig, axes = plt.subplots(\n",
    "    nrows=len(columns_with_continuous), \n",
    "    ncols=2, \n",
    "    figsize=[10, 25]\n",
    ")\n",
    "\n",
    "# Add suptitle\n",
    "fig.suptitle(\"Side by side comparison of each variable in normal vs abnormal classes\", \n",
    "             fontsize='x-large', \n",
    "             y=0.96)\n",
    "\n",
    "# Separate class between negative and others\n",
    "# where I think negative are the data points that are not having disease, \n",
    "# versus others are those data points having issues\n",
    "abnormal_classes = list(df['class'].unique())\n",
    "abnormal_classes.remove('negative')\n",
    "# Define a color scheme for the graph per each class\n",
    "dict_of_key_class_value_color = dict(zip(abnormal_classes, ['r', 'b']))\n",
    "\n",
    "# Plot each row with separate x-axis but shared x within the row\n",
    "for count, column_with_continuous in enumerate(columns_with_continuous):\n",
    "    # Left subplot: negative class\n",
    "    df[df['class'] == 'negative'].hist(\n",
    "        column=column_with_continuous, \n",
    "        ax=axes[count][0], \n",
    "        color='g', \n",
    "        alpha=0.4\n",
    "    )\n",
    "    axes[count][0].set_title(f\"Negative Class: {column_with_continuous}\")\n",
    "    axes[count][0].set_xlabel(column_with_continuous)\n",
    "    axes[count][0].legend([\"negative\"])\n",
    "\n",
    "    # Right subplot: abnormal classes\n",
    "    for abnormal_class in abnormal_classes:\n",
    "        df[df['class'] == abnormal_class].hist(\n",
    "            column=column_with_continuous,\n",
    "            ax=axes[count][1],\n",
    "            color=dict_of_key_class_value_color[abnormal_class],\n",
    "            alpha=0.4\n",
    "        )\n",
    "    axes[count][1].set_title(f\"Abnormal Classes: {column_with_continuous}\")\n",
    "    axes[count][1].set_xlabel(column_with_continuous)\n",
    "    axes[count][1].legend(abnormal_classes)\n",
    "\n",
    "    # Ensure both subplots in the row share the same x-axis\n",
    "    axes[count][1].sharex(axes[count][0])  # Only sharing within the row\n",
    "\n",
    "# Adjust layout\n",
    "plt.tight_layout(rect=[0, 0, 1, 0.96])\n",
    "plt.show()"
   ]
  },
  {
   "cell_type": "markdown",
   "id": "a6ba4a4e-4879-41cf-8a08-405cab80be79",
   "metadata": {},
   "source": [
    "Notice that the `TSH` variable is quite left skewed so it may be a good idea to apply transformation to make the variable look more normal"
   ]
  },
  {
   "cell_type": "markdown",
   "id": "a35b2cb1-4bc0-47a7-bf66-1d25ea958641",
   "metadata": {},
   "source": [
    "Examine the log transformed `TSH` variable"
   ]
  },
  {
   "cell_type": "code",
   "execution_count": 677,
   "id": "164a3286-5f65-41a7-94d1-82b57b1860ff",
   "metadata": {},
   "outputs": [
    {
     "data": {
      "image/png": "[encoded data removed]",
      "text/plain": [
       "<Figure size 640x480 with 1 Axes>"
      ]
     },
     "metadata": {},
     "output_type": "display_data"
    }
   ],
   "source": [
    "np.log(df['TSH']).hist()\n",
    "plt.title(\"Log Transformed TSH variable across all classes\")\n",
    "plt.xlabel(\"Log Transformed TSH value\")\n",
    "plt.show()"
   ]
  },
  {
   "cell_type": "markdown",
   "id": "51a80848-489b-4ef6-b0e1-7ca3f1179dbc",
   "metadata": {},
   "source": [
    "Examine the log transformed `TSH` variable based on each class status"
   ]
  },
  {
   "cell_type": "code",
   "execution_count": 679,
   "id": "9822c51b-2fad-4ee3-b29b-6a30fbfecaa9",
   "metadata": {
    "tags": []
   },
   "outputs": [
    {
     "ename": "KeyError",
     "evalue": "'underreplacement'",
     "output_type": "error",
     "traceback": [
      "\u001b[0;31m---------------------------------------------------------------------------\u001b[0m",
      "\u001b[0;31mKeyError\u001b[0m                                  Traceback (most recent call last)",
      "Cell \u001b[0;32mIn[679], line 27\u001b[0m\n\u001b[1;32m     23\u001b[0m \u001b[38;5;66;03m# Right subplot: abnormal classes\u001b[39;00m\n\u001b[1;32m     24\u001b[0m \u001b[38;5;28;01mfor\u001b[39;00m abnormal_class \u001b[38;5;129;01min\u001b[39;00m abnormal_classes:\n\u001b[1;32m     25\u001b[0m     np\u001b[38;5;241m.\u001b[39mlog(df[df[\u001b[38;5;124m'\u001b[39m\u001b[38;5;124mclass\u001b[39m\u001b[38;5;124m'\u001b[39m] \u001b[38;5;241m==\u001b[39m abnormal_class][\u001b[38;5;124m'\u001b[39m\u001b[38;5;124mTSH\u001b[39m\u001b[38;5;124m'\u001b[39m])\u001b[38;5;241m.\u001b[39mhist(\n\u001b[1;32m     26\u001b[0m         ax\u001b[38;5;241m=\u001b[39maxes[\u001b[38;5;241m1\u001b[39m],\n\u001b[0;32m---> 27\u001b[0m         color\u001b[38;5;241m=\u001b[39mdict_of_key_class_value_color[abnormal_class],\n\u001b[1;32m     28\u001b[0m         alpha\u001b[38;5;241m=\u001b[39m\u001b[38;5;241m0.4\u001b[39m\n\u001b[1;32m     29\u001b[0m     )\n\u001b[1;32m     30\u001b[0m axes[\u001b[38;5;241m1\u001b[39m]\u001b[38;5;241m.\u001b[39mset_title(\u001b[38;5;124m\"\u001b[39m\u001b[38;5;124mAbnormal Classes: Log Transformed TSH\u001b[39m\u001b[38;5;124m\"\u001b[39m)\n\u001b[1;32m     31\u001b[0m axes[\u001b[38;5;241m1\u001b[39m]\u001b[38;5;241m.\u001b[39mset_xlabel(\u001b[38;5;124m'\u001b[39m\u001b[38;5;124mLog Transformed TSH value\u001b[39m\u001b[38;5;124m'\u001b[39m)\n",
      "\u001b[0;31mKeyError\u001b[0m: 'underreplacement'"
     ]
    },
    {
     "data": {
      "image/png": "[encoded data removed]",
      "text/plain": [
       "<Figure size 1000x500 with 2 Axes>"
      ]
     },
     "metadata": {},
     "output_type": "display_data"
    }
   ],
   "source": [
    "fig, axes = plt.subplots(\n",
    "    nrows=1, \n",
    "    ncols=2, \n",
    "    figsize=[10, 5]\n",
    ")\n",
    "\n",
    "# Add suptitle\n",
    "fig.suptitle(\"Side by side comparison of log transformed TSH in normal vs abnormal classes\", \n",
    "             fontsize='x-large', \n",
    "             y=0.96)\n",
    "\n",
    "\n",
    "# Left subplot: negative class\n",
    "np.log(df[df['class'] == 'negative']['TSH']).hist(\n",
    "    ax=axes[0], \n",
    "    color='g', \n",
    "    alpha=0.4\n",
    ")\n",
    "axes[0].set_title(\"Negative Class: Log Transformed TSH\")\n",
    "axes[0].set_xlabel('Log Transformed TSH value')\n",
    "axes[0].legend([\"negative\"])\n",
    "\n",
    "# Right subplot: abnormal classes\n",
    "for abnormal_class in abnormal_classes:\n",
    "    np.log(df[df['class'] == abnormal_class]['TSH']).hist(\n",
    "        ax=axes[1],\n",
    "        color=dict_of_key_class_value_color[abnormal_class],\n",
    "        alpha=0.4\n",
    "    )\n",
    "axes[1].set_title(\"Abnormal Classes: Log Transformed TSH\")\n",
    "axes[1].set_xlabel('Log Transformed TSH value')\n",
    "axes[1].legend(abnormal_classes)\n",
    "\n",
    "# Ensure both subplots in the row share the same x-axis\n",
    "axes[1].sharex(axes[0])  # Only sharing within the row\n",
    "\n",
    "# Adjust layout\n",
    "plt.tight_layout(rect=[0, 0, 1, 0.96])\n",
    "plt.show"
   ]
  },
  {
   "cell_type": "markdown",
   "id": "c07f7361-3329-4b99-9bb8-55a2460f10e6",
   "metadata": {},
   "source": [
    "Examine the missingness of the columns and see if it is due to corresponding *_measured having 0"
   ]
  },
  {
   "cell_type": "code",
   "execution_count": null,
   "id": "f1e106d6-9e30-405d-85f6-275b0a9396f2",
   "metadata": {
    "tags": []
   },
   "outputs": [],
   "source": [
    "columns_with_question_mark_values = df.columns[(df == -1).any()].to_list()\n",
    "columns_with_question_mark_values.remove('age')\n",
    "\n",
    "fig, axes = plt.subplots(\n",
    "    nrows=len(columns_with_question_mark_values), \n",
    "    ncols=1, \n",
    "    figsize=[10, 15]\n",
    ")\n",
    "\n",
    "# Flatten the 2D array of axes for easy iteration\n",
    "axes = axes.flatten()\n",
    "\n",
    "\n",
    "for count, (ax, column_with_question_mark_values) in enumerate(zip(axes, columns_with_question_mark_values)):\n",
    "    ax.scatter(x = df[f'{column_with_question_mark_values}_measured'],\n",
    "                y = df[column_with_question_mark_values],\n",
    "               )\n",
    "    ax.set_xlabel(f\"{column_with_question_mark_values}_measured values \")\n",
    "    ax.set_ylabel(f\"{column_with_question_mark_values} values\")\n",
    "    \n",
    "plt.tight_layout()\n",
    "plt.show()"
   ]
  },
  {
   "cell_type": "markdown",
   "id": "5b11f004-31e5-4e42-b12b-912964e72e1b",
   "metadata": {},
   "source": [
    "Notice that for some of the graph, the value -1 is not showing up clearly for *_measured to have a value of 0. So explore further what is going on"
   ]
  },
  {
   "cell_type": "code",
   "execution_count": null,
   "id": "daf918d5-a6e5-44a3-9f05-44831acac095",
   "metadata": {
    "tags": []
   },
   "outputs": [],
   "source": [
    "df['TSH'].describe()"
   ]
  },
  {
   "cell_type": "code",
   "execution_count": null,
   "id": "8bc6d844-8ffa-40f0-8900-afeb43d07fb6",
   "metadata": {},
   "outputs": [],
   "source": [
    "plt.scatter(df['TSH_measured'], df['TSH'])\n",
    "plt.xlabel('TSH_measured')\n",
    "plt.ylabel('TSH')\n",
    "plt.show()"
   ]
  },
  {
   "cell_type": "markdown",
   "id": "1904303f-3108-43a9-935a-126547876664",
   "metadata": {},
   "source": [
    "Explore alternative ways to show that rows with `TSH_measured` == 0 has `TSH` = -1"
   ]
  },
  {
   "cell_type": "code",
   "execution_count": null,
   "id": "b1744747-7e86-46f7-ba6c-6c0425f3e971",
   "metadata": {
    "tags": []
   },
   "outputs": [],
   "source": [
    "from mpl_toolkits.axes_grid1.inset_locator import inset_axes\n",
    "\n",
    "# Scatter plot\n",
    "fig, ax = plt.subplots()\n",
    "ax.scatter(df['TSH_measured'], df['TSH'])\n",
    "\n",
    "# Add zoom-in inset\n",
    "axins = inset_axes(ax, width=\"30%\", height=\"30%\", loc='upper left')\n",
    "axins.scatter(df['TSH_measured'], df['TSH'], color='purple')\n",
    "axins.set_xlim(-0.5, 1.5)  # Zoom-in region for x\n",
    "axins.set_ylim(-10, 50)    # Zoom-in region for y\n",
    "axins.set_title('Zoomed In')\n",
    "\n",
    "plt.xlabel('x')\n",
    "plt.ylabel('y')\n",
    "plt.title('Scatter Plot with Inset Zoom')\n",
    "plt.grid(True)\n",
    "plt.show()"
   ]
  },
  {
   "cell_type": "code",
   "execution_count": null,
   "id": "6285572b-95da-413c-8154-3c2c439532d6",
   "metadata": {
    "tags": []
   },
   "outputs": [],
   "source": [
    "# Highlight the points where TSH_measured == 0\n",
    "special_points = df[df['TSH_measured'] == 0]\n",
    "\n",
    "plt.scatter(df['TSH_measured'], df['TSH'], label='All Points')\n",
    "plt.scatter(special_points['TSH_measured'], special_points['TSH'], color='red', label='(0, -1)')\n",
    "\n",
    "# Add labels and legend\n",
    "plt.xlabel('TSH_measured')\n",
    "plt.ylabel('TSH')\n",
    "plt.legend()\n",
    "plt.show()"
   ]
  },
  {
   "cell_type": "code",
   "execution_count": null,
   "id": "ebe13957-becd-459a-a322-e75c2844572f",
   "metadata": {
    "tags": []
   },
   "outputs": [],
   "source": [
    "all(df[df['TSH_measured'] == 0]['TSH'] == -1)"
   ]
  },
  {
   "cell_type": "markdown",
   "id": "2f01d106-a0cd-4c16-8e73-11f5c63a4209",
   "metadata": {},
   "source": [
    "### Data Exploration After Visualization"
   ]
  },
  {
   "cell_type": "markdown",
   "id": "a62f63f7-55d8-44c2-ba86-dcf782f42693",
   "metadata": {},
   "source": [
    "Notice that there are values that are quite different from majority of the curve so examine further to see if there are any issues. Note: the -1 values are due to converting the `?` value to -1 so that I can separately identify the values"
   ]
  },
  {
   "cell_type": "code",
   "execution_count": 681,
   "id": "e9430cd1-766e-409c-bef1-20be1a35f254",
   "metadata": {
    "tags": []
   },
   "outputs": [
    {
     "data": {
      "text/html": [
       "<div>\n",
       "<style scoped>\n",
       "    .dataframe tbody tr th:only-of-type {\n",
       "        vertical-align: middle;\n",
       "    }\n",
       "\n",
       "    .dataframe tbody tr th {\n",
       "        vertical-align: top;\n",
       "    }\n",
       "\n",
       "    .dataframe thead th {\n",
       "        text-align: right;\n",
       "    }\n",
       "</style>\n",
       "<table border=\"1\" class=\"dataframe\">\n",
       "  <thead>\n",
       "    <tr style=\"text-align: right;\">\n",
       "      <th></th>\n",
       "      <th>age</th>\n",
       "      <th>sex</th>\n",
       "      <th>on_thyroxine</th>\n",
       "      <th>query_on_thyroxine</th>\n",
       "      <th>on_antithyroid_medication</th>\n",
       "      <th>sick</th>\n",
       "      <th>pregnant</th>\n",
       "      <th>thyroid_surgery</th>\n",
       "      <th>I131_treatment</th>\n",
       "      <th>query_hypothyroid</th>\n",
       "      <th>...</th>\n",
       "      <th>T3_measured</th>\n",
       "      <th>T3</th>\n",
       "      <th>TT4_measured</th>\n",
       "      <th>TT4</th>\n",
       "      <th>T4U_measured</th>\n",
       "      <th>T4U</th>\n",
       "      <th>FTI_measured</th>\n",
       "      <th>FTI</th>\n",
       "      <th>referral_source</th>\n",
       "      <th>class</th>\n",
       "    </tr>\n",
       "  </thead>\n",
       "  <tbody>\n",
       "    <tr>\n",
       "      <th>1364</th>\n",
       "      <td>455</td>\n",
       "      <td>F</td>\n",
       "      <td>False</td>\n",
       "      <td>False</td>\n",
       "      <td>False</td>\n",
       "      <td>False</td>\n",
       "      <td>False</td>\n",
       "      <td>False</td>\n",
       "      <td>False</td>\n",
       "      <td>False</td>\n",
       "      <td>...</td>\n",
       "      <td>True</td>\n",
       "      <td>2.0</td>\n",
       "      <td>True</td>\n",
       "      <td>118.0</td>\n",
       "      <td>True</td>\n",
       "      <td>1.13</td>\n",
       "      <td>True</td>\n",
       "      <td>104.0</td>\n",
       "      <td>SVI</td>\n",
       "      <td>negative</td>\n",
       "    </tr>\n",
       "    <tr>\n",
       "      <th>4164</th>\n",
       "      <td>455</td>\n",
       "      <td>F</td>\n",
       "      <td>False</td>\n",
       "      <td>False</td>\n",
       "      <td>False</td>\n",
       "      <td>False</td>\n",
       "      <td>False</td>\n",
       "      <td>False</td>\n",
       "      <td>False</td>\n",
       "      <td>False</td>\n",
       "      <td>...</td>\n",
       "      <td>True</td>\n",
       "      <td>2.0</td>\n",
       "      <td>True</td>\n",
       "      <td>118.0</td>\n",
       "      <td>True</td>\n",
       "      <td>1.13</td>\n",
       "      <td>True</td>\n",
       "      <td>104.0</td>\n",
       "      <td>SVI</td>\n",
       "      <td>negative</td>\n",
       "    </tr>\n",
       "    <tr>\n",
       "      <th>6964</th>\n",
       "      <td>455</td>\n",
       "      <td>F</td>\n",
       "      <td>False</td>\n",
       "      <td>False</td>\n",
       "      <td>False</td>\n",
       "      <td>False</td>\n",
       "      <td>False</td>\n",
       "      <td>False</td>\n",
       "      <td>False</td>\n",
       "      <td>False</td>\n",
       "      <td>...</td>\n",
       "      <td>True</td>\n",
       "      <td>2.0</td>\n",
       "      <td>True</td>\n",
       "      <td>118.0</td>\n",
       "      <td>True</td>\n",
       "      <td>1.13</td>\n",
       "      <td>True</td>\n",
       "      <td>104.0</td>\n",
       "      <td>SVI</td>\n",
       "      <td>negative</td>\n",
       "    </tr>\n",
       "    <tr>\n",
       "      <th>9764</th>\n",
       "      <td>455</td>\n",
       "      <td>F</td>\n",
       "      <td>False</td>\n",
       "      <td>False</td>\n",
       "      <td>False</td>\n",
       "      <td>False</td>\n",
       "      <td>False</td>\n",
       "      <td>False</td>\n",
       "      <td>False</td>\n",
       "      <td>False</td>\n",
       "      <td>...</td>\n",
       "      <td>True</td>\n",
       "      <td>2.0</td>\n",
       "      <td>True</td>\n",
       "      <td>118.0</td>\n",
       "      <td>True</td>\n",
       "      <td>1.13</td>\n",
       "      <td>True</td>\n",
       "      <td>104.0</td>\n",
       "      <td>SVI</td>\n",
       "      <td>negative</td>\n",
       "    </tr>\n",
       "    <tr>\n",
       "      <th>12564</th>\n",
       "      <td>455</td>\n",
       "      <td>F</td>\n",
       "      <td>False</td>\n",
       "      <td>False</td>\n",
       "      <td>False</td>\n",
       "      <td>False</td>\n",
       "      <td>False</td>\n",
       "      <td>False</td>\n",
       "      <td>False</td>\n",
       "      <td>False</td>\n",
       "      <td>...</td>\n",
       "      <td>True</td>\n",
       "      <td>2.0</td>\n",
       "      <td>True</td>\n",
       "      <td>118.0</td>\n",
       "      <td>True</td>\n",
       "      <td>1.13</td>\n",
       "      <td>True</td>\n",
       "      <td>104.0</td>\n",
       "      <td>SVI</td>\n",
       "      <td>negative</td>\n",
       "    </tr>\n",
       "    <tr>\n",
       "      <th>15364</th>\n",
       "      <td>455</td>\n",
       "      <td>F</td>\n",
       "      <td>False</td>\n",
       "      <td>False</td>\n",
       "      <td>False</td>\n",
       "      <td>False</td>\n",
       "      <td>False</td>\n",
       "      <td>False</td>\n",
       "      <td>False</td>\n",
       "      <td>False</td>\n",
       "      <td>...</td>\n",
       "      <td>True</td>\n",
       "      <td>2.0</td>\n",
       "      <td>True</td>\n",
       "      <td>118.0</td>\n",
       "      <td>True</td>\n",
       "      <td>1.13</td>\n",
       "      <td>True</td>\n",
       "      <td>104.0</td>\n",
       "      <td>SVI</td>\n",
       "      <td>negative</td>\n",
       "    </tr>\n",
       "  </tbody>\n",
       "</table>\n",
       "<p>6 rows × 28 columns</p>\n",
       "</div>"
      ],
      "text/plain": [
       "       age sex  on_thyroxine  query_on_thyroxine  on_antithyroid_medication  \\\n",
       "1364   455   F         False               False                      False   \n",
       "4164   455   F         False               False                      False   \n",
       "6964   455   F         False               False                      False   \n",
       "9764   455   F         False               False                      False   \n",
       "12564  455   F         False               False                      False   \n",
       "15364  455   F         False               False                      False   \n",
       "\n",
       "        sick  pregnant  thyroid_surgery  I131_treatment  query_hypothyroid  \\\n",
       "1364   False     False            False           False              False   \n",
       "4164   False     False            False           False              False   \n",
       "6964   False     False            False           False              False   \n",
       "9764   False     False            False           False              False   \n",
       "12564  False     False            False           False              False   \n",
       "15364  False     False            False           False              False   \n",
       "\n",
       "       ...  T3_measured   T3  TT4_measured    TT4  T4U_measured   T4U  \\\n",
       "1364   ...         True  2.0          True  118.0          True  1.13   \n",
       "4164   ...         True  2.0          True  118.0          True  1.13   \n",
       "6964   ...         True  2.0          True  118.0          True  1.13   \n",
       "9764   ...         True  2.0          True  118.0          True  1.13   \n",
       "12564  ...         True  2.0          True  118.0          True  1.13   \n",
       "15364  ...         True  2.0          True  118.0          True  1.13   \n",
       "\n",
       "       FTI_measured    FTI  referral_source     class  \n",
       "1364           True  104.0              SVI  negative  \n",
       "4164           True  104.0              SVI  negative  \n",
       "6964           True  104.0              SVI  negative  \n",
       "9764           True  104.0              SVI  negative  \n",
       "12564          True  104.0              SVI  negative  \n",
       "15364          True  104.0              SVI  negative  \n",
       "\n",
       "[6 rows x 28 columns]"
      ]
     },
     "execution_count": 681,
     "metadata": {},
     "output_type": "execute_result"
    }
   ],
   "source": [
    "df[df['age'] >= 100]"
   ]
  },
  {
   "cell_type": "markdown",
   "id": "786b77e0-55b4-4073-9672-19d495dc94b9",
   "metadata": {},
   "source": [
    "It is impossible for any individual to have an age of over 110 (based on https://en.wikipedia.org/wiki/List_of_the_verified_oldest_people), so these data entries likely was due to an entry mistake. So I decide to drop this row from my analysis"
   ]
  },
  {
   "cell_type": "code",
   "execution_count": null,
   "id": "8d90d14c-2551-4c78-b48e-345f21167d9f",
   "metadata": {
    "tags": []
   },
   "outputs": [],
   "source": [
    "df.drop(labels=1364, axis=0, inplace=True)\n",
    "df"
   ]
  },
  {
   "cell_type": "markdown",
   "id": "3027966d-a429-425c-ae7f-cedf5aeda48a",
   "metadata": {},
   "source": [
    "Sanity check row dropped was performed"
   ]
  },
  {
   "cell_type": "code",
   "execution_count": null,
   "id": "56a89547-0e60-46b2-beb8-e02c36b81b97",
   "metadata": {},
   "outputs": [],
   "source": [
    "assert df.shape[0] == num_observation - 1"
   ]
  },
  {
   "cell_type": "markdown",
   "id": "99e4bfa7-bced-44c8-9398-9c2d3b628ce1",
   "metadata": {},
   "source": [
    "Reset index of the rows after row drop is performed to ensure index consistency"
   ]
  },
  {
   "cell_type": "code",
   "execution_count": null,
   "id": "9f31c3aa-3f16-43f1-95e3-d52659784107",
   "metadata": {
    "tags": []
   },
   "outputs": [],
   "source": [
    "df.reset_index(drop=True, inplace=True)\n",
    "df"
   ]
  },
  {
   "cell_type": "markdown",
   "id": "4e0e947e-8de8-4aff-bd39-bcd4d335c9b0",
   "metadata": {},
   "source": [
    "Examine how many rows of data would be dropped if I ignore all the missing values"
   ]
  },
  {
   "cell_type": "code",
   "execution_count": 684,
   "id": "047ef3f1-edc5-4bc2-9827-64bc23605292",
   "metadata": {
    "tags": []
   },
   "outputs": [
    {
     "name": "stdout",
     "output_type": "stream",
     "text": [
      "4626\n"
     ]
    }
   ],
   "source": [
    "index_where_missing_value = []\n",
    "for column_with_question_mark_values in columns_with_question_mark_values:\n",
    "    series_of_column_with_missing_value = df[column_with_question_mark_values] == -1\n",
    "    index_where_missing_value.extend(\n",
    "        (series_of_column_with_missing_value)[series_of_column_with_missing_value].index.tolist())\n",
    "print(len(pd.Series(index_where_missing_value).unique()))"
   ]
  },
  {
   "cell_type": "markdown",
   "id": "4d32ee18-adfb-434f-be6d-b44a13d3f0de",
   "metadata": {},
   "source": [
    "Too many rows of data is going to be dropped if I proceed with this (771/2999 $\\approx$ 0.25). So I need to be cautious and strategic about what dimensions do I care about and is relevant to the analysis. "
   ]
  },
  {
   "cell_type": "code",
   "execution_count": null,
   "id": "a62ad3ad-5edc-43b7-9d2f-755d5f5e4e90",
   "metadata": {
    "tags": []
   },
   "outputs": [],
   "source": [
    "columns_with_question_mark_values"
   ]
  },
  {
   "cell_type": "code",
   "execution_count": null,
   "id": "d16d464e-85eb-40cc-892e-08fe7b1d9fca",
   "metadata": {
    "tags": []
   },
   "outputs": [],
   "source": [
    "for result in df['class'].unique():\n",
    "    print(f'class = {result}')\n",
    "    print(f\"contain any missing value = {any(df[df['class'] == result]['TSH'] == -1)}\")"
   ]
  },
  {
   "cell_type": "code",
   "execution_count": null,
   "id": "3c2b0956-b1a0-4f6b-bb79-1dd01ceaac8e",
   "metadata": {
    "tags": []
   },
   "outputs": [],
   "source": [
    "print((df[df['class'] == 'increased_binding_protein']['TSH'] == -1)[(df[df['class'] == 'increased_binding_protein']['TSH'] == -1)].index)"
   ]
  },
  {
   "cell_type": "code",
   "execution_count": null,
   "id": "1f0fbe79-d451-4454-bcd9-79a263fe8253",
   "metadata": {
    "tags": []
   },
   "outputs": [],
   "source": [
    "df.iloc[423]"
   ]
  },
  {
   "cell_type": "markdown",
   "id": "7a785644-f886-4459-a93e-22dfaae3341e",
   "metadata": {
    "tags": []
   },
   "source": [
    "### Feature Engineering"
   ]
  },
  {
   "cell_type": "markdown",
   "id": "ed2827e4-e336-488a-b804-e174f38461e2",
   "metadata": {},
   "source": [
    "### One Hot Encoding"
   ]
  },
  {
   "cell_type": "markdown",
   "id": "efc91b96-265f-4c43-b096-e5aeae26fd5c",
   "metadata": {},
   "source": [
    "Converting referral_source andd sex columns into encoded values"
   ]
  },
  {
   "cell_type": "code",
   "execution_count": 686,
   "id": "f2f0605e-48d4-44f9-aa3a-f1973af3ceb8",
   "metadata": {},
   "outputs": [],
   "source": [
    "column_names_using_one_hot = ['sex', 'referral_source']\n",
    "\n",
    "one_hot_encoder = OneHotEncoder(sparse_output=False)\n",
    "# Iterate through columns to create one-hot encoded values for categorical columns\n",
    "for column_name_using_one_hot in column_names_using_one_hot:\n",
    "    # Transform categorical columns into one-hot\n",
    "    one_hot_encoded = one_hot_encoder.fit_transform(df[[column_name_using_one_hot]])\n",
    "    # Retreive back the column name\n",
    "    column_name = one_hot_encoder.get_feature_names_out([column_name_using_one_hot])\n",
    "    # Create a dataFrame that stores the one-hot-encoded value\n",
    "    one_hot_df = pd.DataFrame(one_hot_encoded, columns=column_name)\n",
    "    # Add one-hot-encoded columns to the original dataframe\n",
    "    df = pd.concat([df, one_hot_df], axis=1)\n",
    "    \n",
    "\n",
    "# Drop original columns in the dataframe\n",
    "df.drop(labels=column_names_using_one_hot, axis=1, inplace=True)"
   ]
  },
  {
   "cell_type": "markdown",
   "id": "4b6fab50-6062-4a34-81b9-c95ef887066e",
   "metadata": {},
   "source": [
    "Add a variable named `log_TSH` into the dataset based on prior discovery"
   ]
  },
  {
   "cell_type": "code",
   "execution_count": 688,
   "id": "a03e314a-2878-491e-aebf-a862de806434",
   "metadata": {
    "tags": []
   },
   "outputs": [
    {
     "data": {
      "text/html": [
       "<div>\n",
       "<style scoped>\n",
       "    .dataframe tbody tr th:only-of-type {\n",
       "        vertical-align: middle;\n",
       "    }\n",
       "\n",
       "    .dataframe tbody tr th {\n",
       "        vertical-align: top;\n",
       "    }\n",
       "\n",
       "    .dataframe thead th {\n",
       "        text-align: right;\n",
       "    }\n",
       "</style>\n",
       "<table border=\"1\" class=\"dataframe\">\n",
       "  <thead>\n",
       "    <tr style=\"text-align: right;\">\n",
       "      <th></th>\n",
       "      <th>age</th>\n",
       "      <th>on_thyroxine</th>\n",
       "      <th>query_on_thyroxine</th>\n",
       "      <th>on_antithyroid_medication</th>\n",
       "      <th>sick</th>\n",
       "      <th>pregnant</th>\n",
       "      <th>thyroid_surgery</th>\n",
       "      <th>I131_treatment</th>\n",
       "      <th>query_hypothyroid</th>\n",
       "      <th>query_hyperthyroid</th>\n",
       "      <th>...</th>\n",
       "      <th>class</th>\n",
       "      <th>sex_-1</th>\n",
       "      <th>sex_F</th>\n",
       "      <th>sex_M</th>\n",
       "      <th>referral_source_STMW</th>\n",
       "      <th>referral_source_SVHC</th>\n",
       "      <th>referral_source_SVHD</th>\n",
       "      <th>referral_source_SVI</th>\n",
       "      <th>referral_source_other</th>\n",
       "      <th>log_TSH</th>\n",
       "    </tr>\n",
       "  </thead>\n",
       "  <tbody>\n",
       "    <tr>\n",
       "      <th>0</th>\n",
       "      <td>41</td>\n",
       "      <td>False</td>\n",
       "      <td>False</td>\n",
       "      <td>False</td>\n",
       "      <td>False</td>\n",
       "      <td>False</td>\n",
       "      <td>False</td>\n",
       "      <td>False</td>\n",
       "      <td>False</td>\n",
       "      <td>False</td>\n",
       "      <td>...</td>\n",
       "      <td>negative</td>\n",
       "      <td>0.0</td>\n",
       "      <td>1.0</td>\n",
       "      <td>0.0</td>\n",
       "      <td>0.0</td>\n",
       "      <td>1.0</td>\n",
       "      <td>0.0</td>\n",
       "      <td>0.0</td>\n",
       "      <td>0.0</td>\n",
       "      <td>0.262364</td>\n",
       "    </tr>\n",
       "    <tr>\n",
       "      <th>1</th>\n",
       "      <td>23</td>\n",
       "      <td>False</td>\n",
       "      <td>False</td>\n",
       "      <td>False</td>\n",
       "      <td>False</td>\n",
       "      <td>False</td>\n",
       "      <td>False</td>\n",
       "      <td>False</td>\n",
       "      <td>False</td>\n",
       "      <td>False</td>\n",
       "      <td>...</td>\n",
       "      <td>negative</td>\n",
       "      <td>0.0</td>\n",
       "      <td>1.0</td>\n",
       "      <td>0.0</td>\n",
       "      <td>0.0</td>\n",
       "      <td>0.0</td>\n",
       "      <td>0.0</td>\n",
       "      <td>0.0</td>\n",
       "      <td>1.0</td>\n",
       "      <td>1.410987</td>\n",
       "    </tr>\n",
       "    <tr>\n",
       "      <th>2</th>\n",
       "      <td>46</td>\n",
       "      <td>False</td>\n",
       "      <td>False</td>\n",
       "      <td>False</td>\n",
       "      <td>False</td>\n",
       "      <td>False</td>\n",
       "      <td>False</td>\n",
       "      <td>False</td>\n",
       "      <td>False</td>\n",
       "      <td>False</td>\n",
       "      <td>...</td>\n",
       "      <td>negative</td>\n",
       "      <td>0.0</td>\n",
       "      <td>0.0</td>\n",
       "      <td>1.0</td>\n",
       "      <td>0.0</td>\n",
       "      <td>0.0</td>\n",
       "      <td>0.0</td>\n",
       "      <td>0.0</td>\n",
       "      <td>1.0</td>\n",
       "      <td>-0.020203</td>\n",
       "    </tr>\n",
       "    <tr>\n",
       "      <th>3</th>\n",
       "      <td>70</td>\n",
       "      <td>True</td>\n",
       "      <td>False</td>\n",
       "      <td>False</td>\n",
       "      <td>False</td>\n",
       "      <td>False</td>\n",
       "      <td>False</td>\n",
       "      <td>False</td>\n",
       "      <td>False</td>\n",
       "      <td>False</td>\n",
       "      <td>...</td>\n",
       "      <td>negative</td>\n",
       "      <td>0.0</td>\n",
       "      <td>1.0</td>\n",
       "      <td>0.0</td>\n",
       "      <td>0.0</td>\n",
       "      <td>0.0</td>\n",
       "      <td>0.0</td>\n",
       "      <td>0.0</td>\n",
       "      <td>1.0</td>\n",
       "      <td>-1.832581</td>\n",
       "    </tr>\n",
       "    <tr>\n",
       "      <th>4</th>\n",
       "      <td>70</td>\n",
       "      <td>False</td>\n",
       "      <td>False</td>\n",
       "      <td>False</td>\n",
       "      <td>False</td>\n",
       "      <td>False</td>\n",
       "      <td>False</td>\n",
       "      <td>False</td>\n",
       "      <td>False</td>\n",
       "      <td>False</td>\n",
       "      <td>...</td>\n",
       "      <td>negative</td>\n",
       "      <td>0.0</td>\n",
       "      <td>1.0</td>\n",
       "      <td>0.0</td>\n",
       "      <td>0.0</td>\n",
       "      <td>0.0</td>\n",
       "      <td>0.0</td>\n",
       "      <td>1.0</td>\n",
       "      <td>0.0</td>\n",
       "      <td>-0.328504</td>\n",
       "    </tr>\n",
       "    <tr>\n",
       "      <th>...</th>\n",
       "      <td>...</td>\n",
       "      <td>...</td>\n",
       "      <td>...</td>\n",
       "      <td>...</td>\n",
       "      <td>...</td>\n",
       "      <td>...</td>\n",
       "      <td>...</td>\n",
       "      <td>...</td>\n",
       "      <td>...</td>\n",
       "      <td>...</td>\n",
       "      <td>...</td>\n",
       "      <td>...</td>\n",
       "      <td>...</td>\n",
       "      <td>...</td>\n",
       "      <td>...</td>\n",
       "      <td>...</td>\n",
       "      <td>...</td>\n",
       "      <td>...</td>\n",
       "      <td>...</td>\n",
       "      <td>...</td>\n",
       "      <td>...</td>\n",
       "    </tr>\n",
       "    <tr>\n",
       "      <th>16795</th>\n",
       "      <td>70</td>\n",
       "      <td>False</td>\n",
       "      <td>False</td>\n",
       "      <td>False</td>\n",
       "      <td>False</td>\n",
       "      <td>False</td>\n",
       "      <td>False</td>\n",
       "      <td>False</td>\n",
       "      <td>False</td>\n",
       "      <td>False</td>\n",
       "      <td>...</td>\n",
       "      <td>negative</td>\n",
       "      <td>0.0</td>\n",
       "      <td>0.0</td>\n",
       "      <td>1.0</td>\n",
       "      <td>0.0</td>\n",
       "      <td>0.0</td>\n",
       "      <td>0.0</td>\n",
       "      <td>1.0</td>\n",
       "      <td>0.0</td>\n",
       "      <td>0.993252</td>\n",
       "    </tr>\n",
       "    <tr>\n",
       "      <th>16796</th>\n",
       "      <td>73</td>\n",
       "      <td>False</td>\n",
       "      <td>True</td>\n",
       "      <td>False</td>\n",
       "      <td>False</td>\n",
       "      <td>False</td>\n",
       "      <td>False</td>\n",
       "      <td>False</td>\n",
       "      <td>False</td>\n",
       "      <td>False</td>\n",
       "      <td>...</td>\n",
       "      <td>negative</td>\n",
       "      <td>0.0</td>\n",
       "      <td>0.0</td>\n",
       "      <td>1.0</td>\n",
       "      <td>0.0</td>\n",
       "      <td>0.0</td>\n",
       "      <td>0.0</td>\n",
       "      <td>0.0</td>\n",
       "      <td>1.0</td>\n",
       "      <td>NaN</td>\n",
       "    </tr>\n",
       "    <tr>\n",
       "      <th>16797</th>\n",
       "      <td>75</td>\n",
       "      <td>False</td>\n",
       "      <td>False</td>\n",
       "      <td>False</td>\n",
       "      <td>False</td>\n",
       "      <td>False</td>\n",
       "      <td>False</td>\n",
       "      <td>False</td>\n",
       "      <td>False</td>\n",
       "      <td>True</td>\n",
       "      <td>...</td>\n",
       "      <td>negative</td>\n",
       "      <td>0.0</td>\n",
       "      <td>0.0</td>\n",
       "      <td>1.0</td>\n",
       "      <td>0.0</td>\n",
       "      <td>0.0</td>\n",
       "      <td>0.0</td>\n",
       "      <td>0.0</td>\n",
       "      <td>1.0</td>\n",
       "      <td>NaN</td>\n",
       "    </tr>\n",
       "    <tr>\n",
       "      <th>16798</th>\n",
       "      <td>60</td>\n",
       "      <td>False</td>\n",
       "      <td>False</td>\n",
       "      <td>False</td>\n",
       "      <td>False</td>\n",
       "      <td>False</td>\n",
       "      <td>False</td>\n",
       "      <td>False</td>\n",
       "      <td>False</td>\n",
       "      <td>False</td>\n",
       "      <td>...</td>\n",
       "      <td>negative</td>\n",
       "      <td>0.0</td>\n",
       "      <td>1.0</td>\n",
       "      <td>0.0</td>\n",
       "      <td>0.0</td>\n",
       "      <td>0.0</td>\n",
       "      <td>0.0</td>\n",
       "      <td>0.0</td>\n",
       "      <td>1.0</td>\n",
       "      <td>0.336472</td>\n",
       "    </tr>\n",
       "    <tr>\n",
       "      <th>16799</th>\n",
       "      <td>81</td>\n",
       "      <td>False</td>\n",
       "      <td>False</td>\n",
       "      <td>False</td>\n",
       "      <td>False</td>\n",
       "      <td>False</td>\n",
       "      <td>False</td>\n",
       "      <td>False</td>\n",
       "      <td>False</td>\n",
       "      <td>False</td>\n",
       "      <td>...</td>\n",
       "      <td>negative</td>\n",
       "      <td>0.0</td>\n",
       "      <td>1.0</td>\n",
       "      <td>0.0</td>\n",
       "      <td>0.0</td>\n",
       "      <td>0.0</td>\n",
       "      <td>0.0</td>\n",
       "      <td>1.0</td>\n",
       "      <td>0.0</td>\n",
       "      <td>0.182322</td>\n",
       "    </tr>\n",
       "  </tbody>\n",
       "</table>\n",
       "<p>16800 rows × 35 columns</p>\n",
       "</div>"
      ],
      "text/plain": [
       "       age  on_thyroxine  query_on_thyroxine  on_antithyroid_medication  \\\n",
       "0       41         False               False                      False   \n",
       "1       23         False               False                      False   \n",
       "2       46         False               False                      False   \n",
       "3       70          True               False                      False   \n",
       "4       70         False               False                      False   \n",
       "...    ...           ...                 ...                        ...   \n",
       "16795   70         False               False                      False   \n",
       "16796   73         False                True                      False   \n",
       "16797   75         False               False                      False   \n",
       "16798   60         False               False                      False   \n",
       "16799   81         False               False                      False   \n",
       "\n",
       "        sick  pregnant  thyroid_surgery  I131_treatment  query_hypothyroid  \\\n",
       "0      False     False            False           False              False   \n",
       "1      False     False            False           False              False   \n",
       "2      False     False            False           False              False   \n",
       "3      False     False            False           False              False   \n",
       "4      False     False            False           False              False   \n",
       "...      ...       ...              ...             ...                ...   \n",
       "16795  False     False            False           False              False   \n",
       "16796  False     False            False           False              False   \n",
       "16797  False     False            False           False              False   \n",
       "16798  False     False            False           False              False   \n",
       "16799  False     False            False           False              False   \n",
       "\n",
       "       query_hyperthyroid  ...     class  sex_-1  sex_F  sex_M  \\\n",
       "0                   False  ...  negative     0.0    1.0    0.0   \n",
       "1                   False  ...  negative     0.0    1.0    0.0   \n",
       "2                   False  ...  negative     0.0    0.0    1.0   \n",
       "3                   False  ...  negative     0.0    1.0    0.0   \n",
       "4                   False  ...  negative     0.0    1.0    0.0   \n",
       "...                   ...  ...       ...     ...    ...    ...   \n",
       "16795               False  ...  negative     0.0    0.0    1.0   \n",
       "16796               False  ...  negative     0.0    0.0    1.0   \n",
       "16797                True  ...  negative     0.0    0.0    1.0   \n",
       "16798               False  ...  negative     0.0    1.0    0.0   \n",
       "16799               False  ...  negative     0.0    1.0    0.0   \n",
       "\n",
       "       referral_source_STMW  referral_source_SVHC  referral_source_SVHD  \\\n",
       "0                       0.0                   1.0                   0.0   \n",
       "1                       0.0                   0.0                   0.0   \n",
       "2                       0.0                   0.0                   0.0   \n",
       "3                       0.0                   0.0                   0.0   \n",
       "4                       0.0                   0.0                   0.0   \n",
       "...                     ...                   ...                   ...   \n",
       "16795                   0.0                   0.0                   0.0   \n",
       "16796                   0.0                   0.0                   0.0   \n",
       "16797                   0.0                   0.0                   0.0   \n",
       "16798                   0.0                   0.0                   0.0   \n",
       "16799                   0.0                   0.0                   0.0   \n",
       "\n",
       "       referral_source_SVI  referral_source_other   log_TSH  \n",
       "0                      0.0                    0.0  0.262364  \n",
       "1                      0.0                    1.0  1.410987  \n",
       "2                      0.0                    1.0 -0.020203  \n",
       "3                      0.0                    1.0 -1.832581  \n",
       "4                      1.0                    0.0 -0.328504  \n",
       "...                    ...                    ...       ...  \n",
       "16795                  1.0                    0.0  0.993252  \n",
       "16796                  0.0                    1.0       NaN  \n",
       "16797                  0.0                    1.0       NaN  \n",
       "16798                  0.0                    1.0  0.336472  \n",
       "16799                  1.0                    0.0  0.182322  \n",
       "\n",
       "[16800 rows x 35 columns]"
      ]
     },
     "execution_count": 688,
     "metadata": {},
     "output_type": "execute_result"
    }
   ],
   "source": [
    "df['log_TSH'] = np.log(df['TSH'])\n",
    "df"
   ]
  },
  {
   "cell_type": "markdown",
   "id": "1f4be2d3-5b56-4fc4-a718-94979b6a79bc",
   "metadata": {},
   "source": [
    "## Modeling"
   ]
  },
  {
   "cell_type": "markdown",
   "id": "4f7150b8-68c6-4118-ada4-0144b3c0ad54",
   "metadata": {
    "tags": []
   },
   "source": [
    "## Evaluation"
   ]
  },
  {
   "cell_type": "markdown",
   "id": "9226e35e-15d3-4471-a3c3-3887ab07dd0f",
   "metadata": {
    "tags": []
   },
   "source": [
    "### Load in the testing dataset"
   ]
  },
  {
   "cell_type": "markdown",
   "id": "aea5a04c-46be-4184-ba8d-98239cde11af",
   "metadata": {},
   "source": [
    "Identify the testing files in the folder structure"
   ]
  },
  {
   "cell_type": "code",
   "execution_count": 413,
   "id": "b9617324-5365-4a20-8363-f9fa8e030cb0",
   "metadata": {},
   "outputs": [
    {
     "name": "stdout",
     "output_type": "stream",
     "text": [
      "./data/thyroid+disease//dis.data\n",
      "./data/thyroid+disease//allrep.data\n",
      "./data/thyroid+disease//allhyper.data\n",
      "./data/thyroid+disease//sick.data\n",
      "./data/thyroid+disease//allhypo.data\n",
      "./data/thyroid+disease//allbp.data\n",
      "['./data/thyroid+disease//allbp.test', './data/thyroid+disease//allhypo.test', './data/thyroid+disease//allhyper.test', './data/thyroid+disease//allrep.test', './data/thyroid+disease//dis.test', './data/thyroid+disease//sick.test']\n"
     ]
    }
   ],
   "source": [
    "testing_files = IdentifyTestingFiles()"
   ]
  },
  {
   "cell_type": "markdown",
   "id": "0460b8f6-2983-4ddc-af18-723a23a17e9f",
   "metadata": {},
   "source": [
    "Populate the master test set and assign the column name to the test set"
   ]
  },
  {
   "cell_type": "code",
   "execution_count": 530,
   "id": "bc9f3157-c7d2-4d1a-989b-1f188d022a2b",
   "metadata": {
    "tags": []
   },
   "outputs": [
    {
     "data": {
      "text/html": [
       "<div>\n",
       "<style scoped>\n",
       "    .dataframe tbody tr th:only-of-type {\n",
       "        vertical-align: middle;\n",
       "    }\n",
       "\n",
       "    .dataframe tbody tr th {\n",
       "        vertical-align: top;\n",
       "    }\n",
       "\n",
       "    .dataframe thead th {\n",
       "        text-align: right;\n",
       "    }\n",
       "</style>\n",
       "<table border=\"1\" class=\"dataframe\">\n",
       "  <thead>\n",
       "    <tr style=\"text-align: right;\">\n",
       "      <th></th>\n",
       "      <th>age</th>\n",
       "      <th>sex</th>\n",
       "      <th>on_thyroxine</th>\n",
       "      <th>query_on_thyroxine</th>\n",
       "      <th>on_antithyroid_medication</th>\n",
       "      <th>sick</th>\n",
       "      <th>pregnant</th>\n",
       "      <th>thyroid_surgery</th>\n",
       "      <th>I131_treatment</th>\n",
       "      <th>query_hypothyroid</th>\n",
       "      <th>...</th>\n",
       "      <th>TT4_measured</th>\n",
       "      <th>TT4</th>\n",
       "      <th>T4U_measured</th>\n",
       "      <th>T4U</th>\n",
       "      <th>FTI_measured</th>\n",
       "      <th>FTI</th>\n",
       "      <th>TBG_measured</th>\n",
       "      <th>TBG</th>\n",
       "      <th>referral_source</th>\n",
       "      <th>class</th>\n",
       "    </tr>\n",
       "  </thead>\n",
       "  <tbody>\n",
       "    <tr>\n",
       "      <th>0</th>\n",
       "      <td>35</td>\n",
       "      <td>F</td>\n",
       "      <td>f</td>\n",
       "      <td>f</td>\n",
       "      <td>f</td>\n",
       "      <td>f</td>\n",
       "      <td>f</td>\n",
       "      <td>f</td>\n",
       "      <td>f</td>\n",
       "      <td>f</td>\n",
       "      <td>...</td>\n",
       "      <td>f</td>\n",
       "      <td>?</td>\n",
       "      <td>f</td>\n",
       "      <td>?</td>\n",
       "      <td>f</td>\n",
       "      <td>?</td>\n",
       "      <td>f</td>\n",
       "      <td>?</td>\n",
       "      <td>other</td>\n",
       "      <td>negative.|219</td>\n",
       "    </tr>\n",
       "    <tr>\n",
       "      <th>1</th>\n",
       "      <td>63</td>\n",
       "      <td>M</td>\n",
       "      <td>f</td>\n",
       "      <td>f</td>\n",
       "      <td>f</td>\n",
       "      <td>f</td>\n",
       "      <td>f</td>\n",
       "      <td>f</td>\n",
       "      <td>f</td>\n",
       "      <td>f</td>\n",
       "      <td>...</td>\n",
       "      <td>t</td>\n",
       "      <td>108</td>\n",
       "      <td>t</td>\n",
       "      <td>0.96</td>\n",
       "      <td>t</td>\n",
       "      <td>113</td>\n",
       "      <td>f</td>\n",
       "      <td>?</td>\n",
       "      <td>SVI</td>\n",
       "      <td>negative.|2059</td>\n",
       "    </tr>\n",
       "    <tr>\n",
       "      <th>2</th>\n",
       "      <td>25</td>\n",
       "      <td>F</td>\n",
       "      <td>f</td>\n",
       "      <td>f</td>\n",
       "      <td>f</td>\n",
       "      <td>f</td>\n",
       "      <td>f</td>\n",
       "      <td>f</td>\n",
       "      <td>f</td>\n",
       "      <td>f</td>\n",
       "      <td>...</td>\n",
       "      <td>t</td>\n",
       "      <td>61</td>\n",
       "      <td>t</td>\n",
       "      <td>0.82</td>\n",
       "      <td>t</td>\n",
       "      <td>75</td>\n",
       "      <td>f</td>\n",
       "      <td>?</td>\n",
       "      <td>SVHD</td>\n",
       "      <td>negative.|399</td>\n",
       "    </tr>\n",
       "    <tr>\n",
       "      <th>3</th>\n",
       "      <td>53</td>\n",
       "      <td>F</td>\n",
       "      <td>f</td>\n",
       "      <td>f</td>\n",
       "      <td>f</td>\n",
       "      <td>f</td>\n",
       "      <td>f</td>\n",
       "      <td>f</td>\n",
       "      <td>f</td>\n",
       "      <td>t</td>\n",
       "      <td>...</td>\n",
       "      <td>t</td>\n",
       "      <td>145</td>\n",
       "      <td>t</td>\n",
       "      <td>1.03</td>\n",
       "      <td>t</td>\n",
       "      <td>141</td>\n",
       "      <td>f</td>\n",
       "      <td>?</td>\n",
       "      <td>other</td>\n",
       "      <td>negative.|1911</td>\n",
       "    </tr>\n",
       "    <tr>\n",
       "      <th>4</th>\n",
       "      <td>92</td>\n",
       "      <td>F</td>\n",
       "      <td>f</td>\n",
       "      <td>f</td>\n",
       "      <td>f</td>\n",
       "      <td>f</td>\n",
       "      <td>f</td>\n",
       "      <td>f</td>\n",
       "      <td>f</td>\n",
       "      <td>f</td>\n",
       "      <td>...</td>\n",
       "      <td>t</td>\n",
       "      <td>120</td>\n",
       "      <td>t</td>\n",
       "      <td>0.84</td>\n",
       "      <td>t</td>\n",
       "      <td>143</td>\n",
       "      <td>f</td>\n",
       "      <td>?</td>\n",
       "      <td>SVI</td>\n",
       "      <td>negative.|487</td>\n",
       "    </tr>\n",
       "  </tbody>\n",
       "</table>\n",
       "<p>5 rows × 30 columns</p>\n",
       "</div>"
      ],
      "text/plain": [
       "   age sex on_thyroxine query_on_thyroxine on_antithyroid_medication sick  \\\n",
       "0   35   F            f                  f                         f    f   \n",
       "1   63   M            f                  f                         f    f   \n",
       "2   25   F            f                  f                         f    f   \n",
       "3   53   F            f                  f                         f    f   \n",
       "4   92   F            f                  f                         f    f   \n",
       "\n",
       "  pregnant thyroid_surgery I131_treatment query_hypothyroid  ... TT4_measured  \\\n",
       "0        f               f              f                 f  ...            f   \n",
       "1        f               f              f                 f  ...            t   \n",
       "2        f               f              f                 f  ...            t   \n",
       "3        f               f              f                 t  ...            t   \n",
       "4        f               f              f                 f  ...            t   \n",
       "\n",
       "   TT4 T4U_measured   T4U FTI_measured  FTI TBG_measured TBG referral_source  \\\n",
       "0    ?            f     ?            f    ?            f   ?           other   \n",
       "1  108            t  0.96            t  113            f   ?             SVI   \n",
       "2   61            t  0.82            t   75            f   ?            SVHD   \n",
       "3  145            t  1.03            t  141            f   ?           other   \n",
       "4  120            t  0.84            t  143            f   ?             SVI   \n",
       "\n",
       "            class  \n",
       "0   negative.|219  \n",
       "1  negative.|2059  \n",
       "2   negative.|399  \n",
       "3  negative.|1911  \n",
       "4   negative.|487  \n",
       "\n",
       "[5 rows x 30 columns]"
      ]
     },
     "execution_count": 530,
     "metadata": {},
     "output_type": "execute_result"
    }
   ],
   "source": [
    "df_testing = PopulateMasterTestSet(testing_files)\n",
    "df_testing.columns = col_names\n",
    "df_testing.head()"
   ]
  },
  {
   "cell_type": "markdown",
   "id": "291e884e-1630-4e04-93e5-8428444d506b",
   "metadata": {
    "tags": []
   },
   "source": [
    "### Perform exact transformation to the testing dataset"
   ]
  },
  {
   "cell_type": "markdown",
   "id": "7065e077-eecd-468b-bc18-ac71956c0db9",
   "metadata": {},
   "source": [
    "Examine the test dataset to see if the same columns have only 1 value"
   ]
  },
  {
   "cell_type": "code",
   "execution_count": 488,
   "id": "bce42e35-ca00-4d55-aca5-345dee5b5b01",
   "metadata": {
    "tags": []
   },
   "outputs": [
    {
     "data": {
      "text/plain": [
       "array(['?'], dtype=object)"
      ]
     },
     "execution_count": 488,
     "metadata": {},
     "output_type": "execute_result"
    }
   ],
   "source": [
    "df_testing.TBG.unique()"
   ]
  },
  {
   "cell_type": "code",
   "execution_count": 490,
   "id": "8d7da6ce-2fac-45d3-a2a6-f6f495583890",
   "metadata": {
    "tags": []
   },
   "outputs": [
    {
     "data": {
      "text/plain": [
       "array(['f'], dtype=object)"
      ]
     },
     "execution_count": 490,
     "metadata": {},
     "output_type": "execute_result"
    }
   ],
   "source": [
    "df_testing.TBG_measured.unique()"
   ]
  },
  {
   "cell_type": "markdown",
   "id": "d9bcd6a6-2a4d-427a-be43-40e58fcc2342",
   "metadata": {},
   "source": [
    "The columns `TBG measured` and `TBG` have the same exact values across all 6 datasets, so it doesn't provide any value in terms of using those columns to predict the outcome variables"
   ]
  },
  {
   "cell_type": "code",
   "execution_count": 536,
   "id": "dff4f6af-75bb-48cd-ad20-6f480d4679a6",
   "metadata": {
    "tags": []
   },
   "outputs": [
    {
     "data": {
      "text/html": [
       "<div>\n",
       "<style scoped>\n",
       "    .dataframe tbody tr th:only-of-type {\n",
       "        vertical-align: middle;\n",
       "    }\n",
       "\n",
       "    .dataframe tbody tr th {\n",
       "        vertical-align: top;\n",
       "    }\n",
       "\n",
       "    .dataframe thead th {\n",
       "        text-align: right;\n",
       "    }\n",
       "</style>\n",
       "<table border=\"1\" class=\"dataframe\">\n",
       "  <thead>\n",
       "    <tr style=\"text-align: right;\">\n",
       "      <th></th>\n",
       "      <th>age</th>\n",
       "      <th>sex</th>\n",
       "      <th>on_thyroxine</th>\n",
       "      <th>query_on_thyroxine</th>\n",
       "      <th>on_antithyroid_medication</th>\n",
       "      <th>sick</th>\n",
       "      <th>pregnant</th>\n",
       "      <th>thyroid_surgery</th>\n",
       "      <th>I131_treatment</th>\n",
       "      <th>query_hypothyroid</th>\n",
       "      <th>...</th>\n",
       "      <th>T3_measured</th>\n",
       "      <th>T3</th>\n",
       "      <th>TT4_measured</th>\n",
       "      <th>TT4</th>\n",
       "      <th>T4U_measured</th>\n",
       "      <th>T4U</th>\n",
       "      <th>FTI_measured</th>\n",
       "      <th>FTI</th>\n",
       "      <th>referral_source</th>\n",
       "      <th>class</th>\n",
       "    </tr>\n",
       "  </thead>\n",
       "  <tbody>\n",
       "    <tr>\n",
       "      <th>0</th>\n",
       "      <td>35</td>\n",
       "      <td>F</td>\n",
       "      <td>f</td>\n",
       "      <td>f</td>\n",
       "      <td>f</td>\n",
       "      <td>f</td>\n",
       "      <td>f</td>\n",
       "      <td>f</td>\n",
       "      <td>f</td>\n",
       "      <td>f</td>\n",
       "      <td>...</td>\n",
       "      <td>f</td>\n",
       "      <td>?</td>\n",
       "      <td>f</td>\n",
       "      <td>?</td>\n",
       "      <td>f</td>\n",
       "      <td>?</td>\n",
       "      <td>f</td>\n",
       "      <td>?</td>\n",
       "      <td>other</td>\n",
       "      <td>negative.|219</td>\n",
       "    </tr>\n",
       "    <tr>\n",
       "      <th>1</th>\n",
       "      <td>63</td>\n",
       "      <td>M</td>\n",
       "      <td>f</td>\n",
       "      <td>f</td>\n",
       "      <td>f</td>\n",
       "      <td>f</td>\n",
       "      <td>f</td>\n",
       "      <td>f</td>\n",
       "      <td>f</td>\n",
       "      <td>f</td>\n",
       "      <td>...</td>\n",
       "      <td>t</td>\n",
       "      <td>2.5</td>\n",
       "      <td>t</td>\n",
       "      <td>108</td>\n",
       "      <td>t</td>\n",
       "      <td>0.96</td>\n",
       "      <td>t</td>\n",
       "      <td>113</td>\n",
       "      <td>SVI</td>\n",
       "      <td>negative.|2059</td>\n",
       "    </tr>\n",
       "    <tr>\n",
       "      <th>2</th>\n",
       "      <td>25</td>\n",
       "      <td>F</td>\n",
       "      <td>f</td>\n",
       "      <td>f</td>\n",
       "      <td>f</td>\n",
       "      <td>f</td>\n",
       "      <td>f</td>\n",
       "      <td>f</td>\n",
       "      <td>f</td>\n",
       "      <td>f</td>\n",
       "      <td>...</td>\n",
       "      <td>t</td>\n",
       "      <td>2.4</td>\n",
       "      <td>t</td>\n",
       "      <td>61</td>\n",
       "      <td>t</td>\n",
       "      <td>0.82</td>\n",
       "      <td>t</td>\n",
       "      <td>75</td>\n",
       "      <td>SVHD</td>\n",
       "      <td>negative.|399</td>\n",
       "    </tr>\n",
       "    <tr>\n",
       "      <th>3</th>\n",
       "      <td>53</td>\n",
       "      <td>F</td>\n",
       "      <td>f</td>\n",
       "      <td>f</td>\n",
       "      <td>f</td>\n",
       "      <td>f</td>\n",
       "      <td>f</td>\n",
       "      <td>f</td>\n",
       "      <td>f</td>\n",
       "      <td>t</td>\n",
       "      <td>...</td>\n",
       "      <td>t</td>\n",
       "      <td>2.1</td>\n",
       "      <td>t</td>\n",
       "      <td>145</td>\n",
       "      <td>t</td>\n",
       "      <td>1.03</td>\n",
       "      <td>t</td>\n",
       "      <td>141</td>\n",
       "      <td>other</td>\n",
       "      <td>negative.|1911</td>\n",
       "    </tr>\n",
       "    <tr>\n",
       "      <th>4</th>\n",
       "      <td>92</td>\n",
       "      <td>F</td>\n",
       "      <td>f</td>\n",
       "      <td>f</td>\n",
       "      <td>f</td>\n",
       "      <td>f</td>\n",
       "      <td>f</td>\n",
       "      <td>f</td>\n",
       "      <td>f</td>\n",
       "      <td>f</td>\n",
       "      <td>...</td>\n",
       "      <td>t</td>\n",
       "      <td>1.3</td>\n",
       "      <td>t</td>\n",
       "      <td>120</td>\n",
       "      <td>t</td>\n",
       "      <td>0.84</td>\n",
       "      <td>t</td>\n",
       "      <td>143</td>\n",
       "      <td>SVI</td>\n",
       "      <td>negative.|487</td>\n",
       "    </tr>\n",
       "    <tr>\n",
       "      <th>...</th>\n",
       "      <td>...</td>\n",
       "      <td>...</td>\n",
       "      <td>...</td>\n",
       "      <td>...</td>\n",
       "      <td>...</td>\n",
       "      <td>...</td>\n",
       "      <td>...</td>\n",
       "      <td>...</td>\n",
       "      <td>...</td>\n",
       "      <td>...</td>\n",
       "      <td>...</td>\n",
       "      <td>...</td>\n",
       "      <td>...</td>\n",
       "      <td>...</td>\n",
       "      <td>...</td>\n",
       "      <td>...</td>\n",
       "      <td>...</td>\n",
       "      <td>...</td>\n",
       "      <td>...</td>\n",
       "      <td>...</td>\n",
       "      <td>...</td>\n",
       "    </tr>\n",
       "    <tr>\n",
       "      <th>5827</th>\n",
       "      <td>30</td>\n",
       "      <td>F</td>\n",
       "      <td>f</td>\n",
       "      <td>f</td>\n",
       "      <td>f</td>\n",
       "      <td>f</td>\n",
       "      <td>f</td>\n",
       "      <td>f</td>\n",
       "      <td>f</td>\n",
       "      <td>f</td>\n",
       "      <td>...</td>\n",
       "      <td>f</td>\n",
       "      <td>?</td>\n",
       "      <td>f</td>\n",
       "      <td>?</td>\n",
       "      <td>f</td>\n",
       "      <td>?</td>\n",
       "      <td>f</td>\n",
       "      <td>?</td>\n",
       "      <td>other</td>\n",
       "      <td>negative.|2924</td>\n",
       "    </tr>\n",
       "    <tr>\n",
       "      <th>5828</th>\n",
       "      <td>68</td>\n",
       "      <td>F</td>\n",
       "      <td>f</td>\n",
       "      <td>f</td>\n",
       "      <td>f</td>\n",
       "      <td>f</td>\n",
       "      <td>f</td>\n",
       "      <td>f</td>\n",
       "      <td>f</td>\n",
       "      <td>f</td>\n",
       "      <td>...</td>\n",
       "      <td>t</td>\n",
       "      <td>2.1</td>\n",
       "      <td>t</td>\n",
       "      <td>124</td>\n",
       "      <td>t</td>\n",
       "      <td>1.08</td>\n",
       "      <td>t</td>\n",
       "      <td>114</td>\n",
       "      <td>SVI</td>\n",
       "      <td>negative.|974</td>\n",
       "    </tr>\n",
       "    <tr>\n",
       "      <th>5829</th>\n",
       "      <td>74</td>\n",
       "      <td>F</td>\n",
       "      <td>f</td>\n",
       "      <td>f</td>\n",
       "      <td>f</td>\n",
       "      <td>f</td>\n",
       "      <td>f</td>\n",
       "      <td>f</td>\n",
       "      <td>f</td>\n",
       "      <td>f</td>\n",
       "      <td>...</td>\n",
       "      <td>t</td>\n",
       "      <td>1.8</td>\n",
       "      <td>t</td>\n",
       "      <td>112</td>\n",
       "      <td>t</td>\n",
       "      <td>1.07</td>\n",
       "      <td>t</td>\n",
       "      <td>105</td>\n",
       "      <td>other</td>\n",
       "      <td>negative.|1493</td>\n",
       "    </tr>\n",
       "    <tr>\n",
       "      <th>5830</th>\n",
       "      <td>72</td>\n",
       "      <td>M</td>\n",
       "      <td>f</td>\n",
       "      <td>f</td>\n",
       "      <td>f</td>\n",
       "      <td>f</td>\n",
       "      <td>f</td>\n",
       "      <td>f</td>\n",
       "      <td>f</td>\n",
       "      <td>f</td>\n",
       "      <td>...</td>\n",
       "      <td>t</td>\n",
       "      <td>2</td>\n",
       "      <td>t</td>\n",
       "      <td>82</td>\n",
       "      <td>t</td>\n",
       "      <td>0.94</td>\n",
       "      <td>t</td>\n",
       "      <td>87</td>\n",
       "      <td>SVI</td>\n",
       "      <td>negative.|252</td>\n",
       "    </tr>\n",
       "    <tr>\n",
       "      <th>5831</th>\n",
       "      <td>64</td>\n",
       "      <td>F</td>\n",
       "      <td>f</td>\n",
       "      <td>f</td>\n",
       "      <td>f</td>\n",
       "      <td>f</td>\n",
       "      <td>f</td>\n",
       "      <td>f</td>\n",
       "      <td>f</td>\n",
       "      <td>f</td>\n",
       "      <td>...</td>\n",
       "      <td>t</td>\n",
       "      <td>2.2</td>\n",
       "      <td>t</td>\n",
       "      <td>99</td>\n",
       "      <td>t</td>\n",
       "      <td>1.07</td>\n",
       "      <td>t</td>\n",
       "      <td>92</td>\n",
       "      <td>other</td>\n",
       "      <td>negative.|2008</td>\n",
       "    </tr>\n",
       "  </tbody>\n",
       "</table>\n",
       "<p>5832 rows × 28 columns</p>\n",
       "</div>"
      ],
      "text/plain": [
       "      age sex on_thyroxine query_on_thyroxine on_antithyroid_medication sick  \\\n",
       "0      35   F            f                  f                         f    f   \n",
       "1      63   M            f                  f                         f    f   \n",
       "2      25   F            f                  f                         f    f   \n",
       "3      53   F            f                  f                         f    f   \n",
       "4      92   F            f                  f                         f    f   \n",
       "...   ...  ..          ...                ...                       ...  ...   \n",
       "5827   30   F            f                  f                         f    f   \n",
       "5828   68   F            f                  f                         f    f   \n",
       "5829   74   F            f                  f                         f    f   \n",
       "5830   72   M            f                  f                         f    f   \n",
       "5831   64   F            f                  f                         f    f   \n",
       "\n",
       "     pregnant thyroid_surgery I131_treatment query_hypothyroid  ...  \\\n",
       "0           f               f              f                 f  ...   \n",
       "1           f               f              f                 f  ...   \n",
       "2           f               f              f                 f  ...   \n",
       "3           f               f              f                 t  ...   \n",
       "4           f               f              f                 f  ...   \n",
       "...       ...             ...            ...               ...  ...   \n",
       "5827        f               f              f                 f  ...   \n",
       "5828        f               f              f                 f  ...   \n",
       "5829        f               f              f                 f  ...   \n",
       "5830        f               f              f                 f  ...   \n",
       "5831        f               f              f                 f  ...   \n",
       "\n",
       "     T3_measured   T3 TT4_measured  TT4 T4U_measured   T4U FTI_measured  FTI  \\\n",
       "0              f    ?            f    ?            f     ?            f    ?   \n",
       "1              t  2.5            t  108            t  0.96            t  113   \n",
       "2              t  2.4            t   61            t  0.82            t   75   \n",
       "3              t  2.1            t  145            t  1.03            t  141   \n",
       "4              t  1.3            t  120            t  0.84            t  143   \n",
       "...          ...  ...          ...  ...          ...   ...          ...  ...   \n",
       "5827           f    ?            f    ?            f     ?            f    ?   \n",
       "5828           t  2.1            t  124            t  1.08            t  114   \n",
       "5829           t  1.8            t  112            t  1.07            t  105   \n",
       "5830           t    2            t   82            t  0.94            t   87   \n",
       "5831           t  2.2            t   99            t  1.07            t   92   \n",
       "\n",
       "     referral_source           class  \n",
       "0              other   negative.|219  \n",
       "1                SVI  negative.|2059  \n",
       "2               SVHD   negative.|399  \n",
       "3              other  negative.|1911  \n",
       "4                SVI   negative.|487  \n",
       "...              ...             ...  \n",
       "5827           other  negative.|2924  \n",
       "5828             SVI   negative.|974  \n",
       "5829           other  negative.|1493  \n",
       "5830             SVI   negative.|252  \n",
       "5831           other  negative.|2008  \n",
       "\n",
       "[5832 rows x 28 columns]"
      ]
     },
     "execution_count": 536,
     "metadata": {},
     "output_type": "execute_result"
    }
   ],
   "source": [
    "df_testing.drop(columns=['TBG_measured', 'TBG'], axis=1, inplace=True)\n",
    "df_testing"
   ]
  },
  {
   "cell_type": "markdown",
   "id": "413afd71-e996-4fcf-a679-d469522af441",
   "metadata": {},
   "source": [
    "Sanity check column removed"
   ]
  },
  {
   "cell_type": "code",
   "execution_count": 538,
   "id": "3ceda81e-d737-4054-9c3a-7bcc40b4995a",
   "metadata": {
    "tags": []
   },
   "outputs": [],
   "source": [
    "assert all([dropped_column not in df_testing.columns for dropped_column in ['TBG_measured', 'TBG']])"
   ]
  },
  {
   "cell_type": "code",
   "execution_count": 540,
   "id": "a9af0a29-32da-452a-8f02-d880d135f354",
   "metadata": {
    "tags": []
   },
   "outputs": [],
   "source": [
    "assert df_testing.shape[1] == num_attribute - 2"
   ]
  },
  {
   "cell_type": "markdown",
   "id": "1e279c4e-cd47-4d64-9115-94fb2f102db6",
   "metadata": {},
   "source": [
    "Cleanup the class column to only have the class value, and each class value is 1 word without spacing"
   ]
  },
  {
   "cell_type": "code",
   "execution_count": 542,
   "id": "a7434f3e-02c7-4ad3-842e-8ff5f6693639",
   "metadata": {
    "tags": []
   },
   "outputs": [],
   "source": [
    "df_testing['class'] = df_testing['class'].apply(lambda x: x[:x.index('.')])\n",
    "df_testing['class'] = df_testing['class'].apply(lambda x: x.replace(' ', '_'))"
   ]
  },
  {
   "cell_type": "markdown",
   "id": "218bd390-1674-4c9f-a969-93c8ebe6f823",
   "metadata": {},
   "source": [
    "Cleanup the columns with `t` and `f` to be `True` and `False`"
   ]
  },
  {
   "cell_type": "code",
   "execution_count": 544,
   "id": "086cd9f3-e34b-4c3e-9013-bf71d26ae3a8",
   "metadata": {
    "tags": []
   },
   "outputs": [],
   "source": [
    "columns_with_t_f = [col_name for col_name in df_testing.columns \n",
    "                    if list(df[col_name].unique()) == ['f', 't'] \n",
    "                    or list(df[col_name].unique()) == ['t', 'f']]\n",
    "for column_with_t_f in columns_with_t_f:\n",
    "    df_testing[column_with_t_f] = df_testing[column_with_t_f].apply(lambda x: False if x == 'f' else True)\n",
    "    # df_testing[column_with_t_f] = df_testing[column_with_t_f].apply(lambda x: 0 if x == 'f' else 1)"
   ]
  },
  {
   "cell_type": "markdown",
   "id": "d7a7a752-1723-431b-baab-29abdff1be9c",
   "metadata": {},
   "source": [
    "Identify the columns where there is `?` value"
   ]
  },
  {
   "cell_type": "code",
   "execution_count": 550,
   "id": "1a4544b2-eacb-430c-adae-c3a953b3d69b",
   "metadata": {
    "tags": []
   },
   "outputs": [
    {
     "data": {
      "text/plain": [
       "Index(['sex', 'TSH', 'T3', 'TT4', 'T4U', 'FTI'], dtype='object')"
      ]
     },
     "execution_count": 550,
     "metadata": {},
     "output_type": "execute_result"
    }
   ],
   "source": [
    "columns_with_missing_val = df_testing.columns[df_testing.isin(['?']).any()]\n",
    "columns_with_missing_val"
   ]
  },
  {
   "cell_type": "markdown",
   "id": "07c707f9-2069-4c37-a98e-ba12e1a6aaf6",
   "metadata": {},
   "source": [
    "Convert the values where there is `?` value to string value of -1"
   ]
  },
  {
   "cell_type": "code",
   "execution_count": 552,
   "id": "7c14b8d9-432f-432f-9e0b-3c7da55fa681",
   "metadata": {
    "tags": []
   },
   "outputs": [],
   "source": [
    "for column_with_missing_val in columns_with_missing_val:\n",
    "    df_testing[column_with_missing_val] = df_testing[column_with_missing_val].apply(\n",
    "        lambda x: '-1' if x == '?' else x)"
   ]
  },
  {
   "cell_type": "markdown",
   "id": "81ea2b02-83b3-483b-9b92-aef884c27e9e",
   "metadata": {},
   "source": [
    "Sanity check `?` is converted to a string value of -1"
   ]
  },
  {
   "cell_type": "code",
   "execution_count": 556,
   "id": "47bd95a2-e444-474b-970a-9277b8eba449",
   "metadata": {
    "tags": []
   },
   "outputs": [],
   "source": [
    "assert all(['?' not in df_testing[column] for column in df_testing.columns])"
   ]
  },
  {
   "cell_type": "markdown",
   "id": "a7c9941b-dda0-43db-b969-79b5218cf250",
   "metadata": {},
   "source": [
    "Identify the columns where values are supposed to be continuous"
   ]
  },
  {
   "cell_type": "code",
   "execution_count": 558,
   "id": "09044f79-35e7-4c83-ab96-112af104094f",
   "metadata": {
    "tags": []
   },
   "outputs": [
    {
     "data": {
      "text/plain": [
       "['TSH', 'T3', 'TT4', 'T4U', 'FTI']"
      ]
     },
     "execution_count": 558,
     "metadata": {},
     "output_type": "execute_result"
    }
   ],
   "source": [
    "columns_with_continuous = [key for key in data_dictionary.keys() if data_dictionary[key] == ['continuous']]\n",
    "columns_with_continuous.remove('TBG')\n",
    "columns_with_continuous.remove('age') # Additional removal done because the age column is already a int64 type in the dataset\n",
    "columns_with_continuous"
   ]
  },
  {
   "cell_type": "markdown",
   "id": "e2f30a82-f0eb-4990-9d38-a35c669f376f",
   "metadata": {},
   "source": [
    "Convert columns where continuous value is expected"
   ]
  },
  {
   "cell_type": "code",
   "execution_count": 560,
   "id": "3a591e2e-ae1f-4032-bbdb-375cfd4edb3c",
   "metadata": {
    "tags": []
   },
   "outputs": [],
   "source": [
    "for column_with_continuous in columns_with_continuous:\n",
    "    df_testing[column_with_continuous] = df_testing[column_with_continuous].apply(lambda x: float(x) if '.' in x else int(x))"
   ]
  },
  {
   "cell_type": "markdown",
   "id": "e4765938-152f-4cf4-b09b-5bc2d009466c",
   "metadata": {},
   "source": [
    "Converting `referral_source` and `sex` columns into encoded values"
   ]
  },
  {
   "cell_type": "code",
   "execution_count": 564,
   "id": "4c33011e-3bba-491a-8e61-a6373e6ee17d",
   "metadata": {},
   "outputs": [],
   "source": [
    "column_names_using_one_hot = ['sex', 'referral_source']\n",
    "\n",
    "one_hot_encoder = OneHotEncoder(sparse_output=False)\n",
    "# Iterate through columns to create one-hot encoded values for categorical columns\n",
    "for column_name_using_one_hot in column_names_using_one_hot:\n",
    "    # Transform categorical columns into one-hot\n",
    "    one_hot_encoded = one_hot_encoder.fit_transform(df_testing[[column_name_using_one_hot]])\n",
    "    # Retreive back the column name\n",
    "    column_name = one_hot_encoder.get_feature_names_out([column_name_using_one_hot])\n",
    "    # Create a dataFrame that stores the one-hot-encoded value\n",
    "    one_hot_df = pd.DataFrame(one_hot_encoded, columns=column_name)\n",
    "    # Add one-hot-encoded columns to the original dataframe\n",
    "    df_testing = pd.concat([df_testing, one_hot_df], axis=1)\n",
    "    \n",
    "\n",
    "# Drop original columns in the dataframe\n",
    "df_testing.drop(labels=column_names_using_one_hot, axis=1, inplace=True)"
   ]
  },
  {
   "cell_type": "markdown",
   "id": "1cc52496-75d9-40de-940f-52263eb196dc",
   "metadata": {},
   "source": [
    "Add a variable named `log_TSH` into the dataset based on prior discovery"
   ]
  },
  {
   "cell_type": "code",
   "execution_count": 566,
   "id": "38302df3-5891-4370-8b7b-d9f31bab16e5",
   "metadata": {
    "tags": []
   },
   "outputs": [
    {
     "data": {
      "text/html": [
       "<div>\n",
       "<style scoped>\n",
       "    .dataframe tbody tr th:only-of-type {\n",
       "        vertical-align: middle;\n",
       "    }\n",
       "\n",
       "    .dataframe tbody tr th {\n",
       "        vertical-align: top;\n",
       "    }\n",
       "\n",
       "    .dataframe thead th {\n",
       "        text-align: right;\n",
       "    }\n",
       "</style>\n",
       "<table border=\"1\" class=\"dataframe\">\n",
       "  <thead>\n",
       "    <tr style=\"text-align: right;\">\n",
       "      <th></th>\n",
       "      <th>age</th>\n",
       "      <th>on_thyroxine</th>\n",
       "      <th>query_on_thyroxine</th>\n",
       "      <th>on_antithyroid_medication</th>\n",
       "      <th>sick</th>\n",
       "      <th>pregnant</th>\n",
       "      <th>thyroid_surgery</th>\n",
       "      <th>I131_treatment</th>\n",
       "      <th>query_hypothyroid</th>\n",
       "      <th>query_hyperthyroid</th>\n",
       "      <th>...</th>\n",
       "      <th>class</th>\n",
       "      <th>sex_-1</th>\n",
       "      <th>sex_F</th>\n",
       "      <th>sex_M</th>\n",
       "      <th>referral_source_STMW</th>\n",
       "      <th>referral_source_SVHC</th>\n",
       "      <th>referral_source_SVHD</th>\n",
       "      <th>referral_source_SVI</th>\n",
       "      <th>referral_source_other</th>\n",
       "      <th>log_TSH</th>\n",
       "    </tr>\n",
       "  </thead>\n",
       "  <tbody>\n",
       "    <tr>\n",
       "      <th>0</th>\n",
       "      <td>35</td>\n",
       "      <td>False</td>\n",
       "      <td>False</td>\n",
       "      <td>False</td>\n",
       "      <td>False</td>\n",
       "      <td>False</td>\n",
       "      <td>False</td>\n",
       "      <td>False</td>\n",
       "      <td>False</td>\n",
       "      <td>False</td>\n",
       "      <td>...</td>\n",
       "      <td>negative</td>\n",
       "      <td>0.0</td>\n",
       "      <td>1.0</td>\n",
       "      <td>0.0</td>\n",
       "      <td>0.0</td>\n",
       "      <td>0.0</td>\n",
       "      <td>0.0</td>\n",
       "      <td>0.0</td>\n",
       "      <td>1.0</td>\n",
       "      <td>NaN</td>\n",
       "    </tr>\n",
       "    <tr>\n",
       "      <th>1</th>\n",
       "      <td>63</td>\n",
       "      <td>False</td>\n",
       "      <td>False</td>\n",
       "      <td>False</td>\n",
       "      <td>False</td>\n",
       "      <td>False</td>\n",
       "      <td>False</td>\n",
       "      <td>False</td>\n",
       "      <td>False</td>\n",
       "      <td>False</td>\n",
       "      <td>...</td>\n",
       "      <td>negative</td>\n",
       "      <td>0.0</td>\n",
       "      <td>0.0</td>\n",
       "      <td>1.0</td>\n",
       "      <td>0.0</td>\n",
       "      <td>0.0</td>\n",
       "      <td>0.0</td>\n",
       "      <td>1.0</td>\n",
       "      <td>0.0</td>\n",
       "      <td>1.252763</td>\n",
       "    </tr>\n",
       "    <tr>\n",
       "      <th>2</th>\n",
       "      <td>25</td>\n",
       "      <td>False</td>\n",
       "      <td>False</td>\n",
       "      <td>False</td>\n",
       "      <td>False</td>\n",
       "      <td>False</td>\n",
       "      <td>False</td>\n",
       "      <td>False</td>\n",
       "      <td>False</td>\n",
       "      <td>False</td>\n",
       "      <td>...</td>\n",
       "      <td>negative</td>\n",
       "      <td>0.0</td>\n",
       "      <td>1.0</td>\n",
       "      <td>0.0</td>\n",
       "      <td>0.0</td>\n",
       "      <td>0.0</td>\n",
       "      <td>1.0</td>\n",
       "      <td>0.0</td>\n",
       "      <td>0.0</td>\n",
       "      <td>1.526056</td>\n",
       "    </tr>\n",
       "    <tr>\n",
       "      <th>3</th>\n",
       "      <td>53</td>\n",
       "      <td>False</td>\n",
       "      <td>False</td>\n",
       "      <td>False</td>\n",
       "      <td>False</td>\n",
       "      <td>False</td>\n",
       "      <td>False</td>\n",
       "      <td>False</td>\n",
       "      <td>True</td>\n",
       "      <td>False</td>\n",
       "      <td>...</td>\n",
       "      <td>negative</td>\n",
       "      <td>0.0</td>\n",
       "      <td>1.0</td>\n",
       "      <td>0.0</td>\n",
       "      <td>0.0</td>\n",
       "      <td>0.0</td>\n",
       "      <td>0.0</td>\n",
       "      <td>0.0</td>\n",
       "      <td>1.0</td>\n",
       "      <td>-1.386294</td>\n",
       "    </tr>\n",
       "    <tr>\n",
       "      <th>4</th>\n",
       "      <td>92</td>\n",
       "      <td>False</td>\n",
       "      <td>False</td>\n",
       "      <td>False</td>\n",
       "      <td>False</td>\n",
       "      <td>False</td>\n",
       "      <td>False</td>\n",
       "      <td>False</td>\n",
       "      <td>False</td>\n",
       "      <td>False</td>\n",
       "      <td>...</td>\n",
       "      <td>negative</td>\n",
       "      <td>0.0</td>\n",
       "      <td>1.0</td>\n",
       "      <td>0.0</td>\n",
       "      <td>0.0</td>\n",
       "      <td>0.0</td>\n",
       "      <td>0.0</td>\n",
       "      <td>1.0</td>\n",
       "      <td>0.0</td>\n",
       "      <td>-0.356675</td>\n",
       "    </tr>\n",
       "    <tr>\n",
       "      <th>...</th>\n",
       "      <td>...</td>\n",
       "      <td>...</td>\n",
       "      <td>...</td>\n",
       "      <td>...</td>\n",
       "      <td>...</td>\n",
       "      <td>...</td>\n",
       "      <td>...</td>\n",
       "      <td>...</td>\n",
       "      <td>...</td>\n",
       "      <td>...</td>\n",
       "      <td>...</td>\n",
       "      <td>...</td>\n",
       "      <td>...</td>\n",
       "      <td>...</td>\n",
       "      <td>...</td>\n",
       "      <td>...</td>\n",
       "      <td>...</td>\n",
       "      <td>...</td>\n",
       "      <td>...</td>\n",
       "      <td>...</td>\n",
       "      <td>...</td>\n",
       "    </tr>\n",
       "    <tr>\n",
       "      <th>5827</th>\n",
       "      <td>30</td>\n",
       "      <td>False</td>\n",
       "      <td>False</td>\n",
       "      <td>False</td>\n",
       "      <td>False</td>\n",
       "      <td>False</td>\n",
       "      <td>False</td>\n",
       "      <td>False</td>\n",
       "      <td>False</td>\n",
       "      <td>False</td>\n",
       "      <td>...</td>\n",
       "      <td>negative</td>\n",
       "      <td>0.0</td>\n",
       "      <td>1.0</td>\n",
       "      <td>0.0</td>\n",
       "      <td>0.0</td>\n",
       "      <td>0.0</td>\n",
       "      <td>0.0</td>\n",
       "      <td>0.0</td>\n",
       "      <td>1.0</td>\n",
       "      <td>NaN</td>\n",
       "    </tr>\n",
       "    <tr>\n",
       "      <th>5828</th>\n",
       "      <td>68</td>\n",
       "      <td>False</td>\n",
       "      <td>False</td>\n",
       "      <td>False</td>\n",
       "      <td>False</td>\n",
       "      <td>False</td>\n",
       "      <td>False</td>\n",
       "      <td>False</td>\n",
       "      <td>False</td>\n",
       "      <td>False</td>\n",
       "      <td>...</td>\n",
       "      <td>negative</td>\n",
       "      <td>0.0</td>\n",
       "      <td>1.0</td>\n",
       "      <td>0.0</td>\n",
       "      <td>0.0</td>\n",
       "      <td>0.0</td>\n",
       "      <td>0.0</td>\n",
       "      <td>1.0</td>\n",
       "      <td>0.0</td>\n",
       "      <td>0.000000</td>\n",
       "    </tr>\n",
       "    <tr>\n",
       "      <th>5829</th>\n",
       "      <td>74</td>\n",
       "      <td>False</td>\n",
       "      <td>False</td>\n",
       "      <td>False</td>\n",
       "      <td>False</td>\n",
       "      <td>False</td>\n",
       "      <td>False</td>\n",
       "      <td>False</td>\n",
       "      <td>False</td>\n",
       "      <td>True</td>\n",
       "      <td>...</td>\n",
       "      <td>negative</td>\n",
       "      <td>0.0</td>\n",
       "      <td>1.0</td>\n",
       "      <td>0.0</td>\n",
       "      <td>0.0</td>\n",
       "      <td>0.0</td>\n",
       "      <td>0.0</td>\n",
       "      <td>0.0</td>\n",
       "      <td>1.0</td>\n",
       "      <td>1.629241</td>\n",
       "    </tr>\n",
       "    <tr>\n",
       "      <th>5830</th>\n",
       "      <td>72</td>\n",
       "      <td>False</td>\n",
       "      <td>False</td>\n",
       "      <td>False</td>\n",
       "      <td>False</td>\n",
       "      <td>False</td>\n",
       "      <td>False</td>\n",
       "      <td>False</td>\n",
       "      <td>False</td>\n",
       "      <td>False</td>\n",
       "      <td>...</td>\n",
       "      <td>negative</td>\n",
       "      <td>0.0</td>\n",
       "      <td>0.0</td>\n",
       "      <td>1.0</td>\n",
       "      <td>0.0</td>\n",
       "      <td>0.0</td>\n",
       "      <td>0.0</td>\n",
       "      <td>1.0</td>\n",
       "      <td>0.0</td>\n",
       "      <td>-0.356675</td>\n",
       "    </tr>\n",
       "    <tr>\n",
       "      <th>5831</th>\n",
       "      <td>64</td>\n",
       "      <td>False</td>\n",
       "      <td>False</td>\n",
       "      <td>False</td>\n",
       "      <td>False</td>\n",
       "      <td>False</td>\n",
       "      <td>False</td>\n",
       "      <td>False</td>\n",
       "      <td>False</td>\n",
       "      <td>False</td>\n",
       "      <td>...</td>\n",
       "      <td>negative</td>\n",
       "      <td>0.0</td>\n",
       "      <td>1.0</td>\n",
       "      <td>0.0</td>\n",
       "      <td>0.0</td>\n",
       "      <td>0.0</td>\n",
       "      <td>0.0</td>\n",
       "      <td>0.0</td>\n",
       "      <td>1.0</td>\n",
       "      <td>0.000000</td>\n",
       "    </tr>\n",
       "  </tbody>\n",
       "</table>\n",
       "<p>5832 rows × 35 columns</p>\n",
       "</div>"
      ],
      "text/plain": [
       "      age  on_thyroxine  query_on_thyroxine  on_antithyroid_medication   sick  \\\n",
       "0      35         False               False                      False  False   \n",
       "1      63         False               False                      False  False   \n",
       "2      25         False               False                      False  False   \n",
       "3      53         False               False                      False  False   \n",
       "4      92         False               False                      False  False   \n",
       "...   ...           ...                 ...                        ...    ...   \n",
       "5827   30         False               False                      False  False   \n",
       "5828   68         False               False                      False  False   \n",
       "5829   74         False               False                      False  False   \n",
       "5830   72         False               False                      False  False   \n",
       "5831   64         False               False                      False  False   \n",
       "\n",
       "      pregnant  thyroid_surgery  I131_treatment  query_hypothyroid  \\\n",
       "0        False            False           False              False   \n",
       "1        False            False           False              False   \n",
       "2        False            False           False              False   \n",
       "3        False            False           False               True   \n",
       "4        False            False           False              False   \n",
       "...        ...              ...             ...                ...   \n",
       "5827     False            False           False              False   \n",
       "5828     False            False           False              False   \n",
       "5829     False            False           False              False   \n",
       "5830     False            False           False              False   \n",
       "5831     False            False           False              False   \n",
       "\n",
       "      query_hyperthyroid  ...     class  sex_-1  sex_F  sex_M  \\\n",
       "0                  False  ...  negative     0.0    1.0    0.0   \n",
       "1                  False  ...  negative     0.0    0.0    1.0   \n",
       "2                  False  ...  negative     0.0    1.0    0.0   \n",
       "3                  False  ...  negative     0.0    1.0    0.0   \n",
       "4                  False  ...  negative     0.0    1.0    0.0   \n",
       "...                  ...  ...       ...     ...    ...    ...   \n",
       "5827               False  ...  negative     0.0    1.0    0.0   \n",
       "5828               False  ...  negative     0.0    1.0    0.0   \n",
       "5829                True  ...  negative     0.0    1.0    0.0   \n",
       "5830               False  ...  negative     0.0    0.0    1.0   \n",
       "5831               False  ...  negative     0.0    1.0    0.0   \n",
       "\n",
       "      referral_source_STMW  referral_source_SVHC  referral_source_SVHD  \\\n",
       "0                      0.0                   0.0                   0.0   \n",
       "1                      0.0                   0.0                   0.0   \n",
       "2                      0.0                   0.0                   1.0   \n",
       "3                      0.0                   0.0                   0.0   \n",
       "4                      0.0                   0.0                   0.0   \n",
       "...                    ...                   ...                   ...   \n",
       "5827                   0.0                   0.0                   0.0   \n",
       "5828                   0.0                   0.0                   0.0   \n",
       "5829                   0.0                   0.0                   0.0   \n",
       "5830                   0.0                   0.0                   0.0   \n",
       "5831                   0.0                   0.0                   0.0   \n",
       "\n",
       "      referral_source_SVI  referral_source_other   log_TSH  \n",
       "0                     0.0                    1.0       NaN  \n",
       "1                     1.0                    0.0  1.252763  \n",
       "2                     0.0                    0.0  1.526056  \n",
       "3                     0.0                    1.0 -1.386294  \n",
       "4                     1.0                    0.0 -0.356675  \n",
       "...                   ...                    ...       ...  \n",
       "5827                  0.0                    1.0       NaN  \n",
       "5828                  1.0                    0.0  0.000000  \n",
       "5829                  0.0                    1.0  1.629241  \n",
       "5830                  1.0                    0.0 -0.356675  \n",
       "5831                  0.0                    1.0  0.000000  \n",
       "\n",
       "[5832 rows x 35 columns]"
      ]
     },
     "execution_count": 566,
     "metadata": {},
     "output_type": "execute_result"
    }
   ],
   "source": [
    "df_testing['log_TSH'] = np.log(df_testing['TSH'])\n",
    "df_testing"
   ]
  },
  {
   "cell_type": "markdown",
   "id": "4128e3fa-6b15-470e-8b1c-dc032f775586",
   "metadata": {},
   "source": [
    "Sanity check Dtype change is done"
   ]
  },
  {
   "cell_type": "code",
   "execution_count": 691,
   "id": "47bb4efe-eee6-4bae-b034-45b3ca6752f6",
   "metadata": {},
   "outputs": [
    {
     "name": "stdout",
     "output_type": "stream",
     "text": [
      "<class 'pandas.core.frame.DataFrame'>\n",
      "RangeIndex: 5832 entries, 0 to 5831\n",
      "Data columns (total 35 columns):\n",
      " #   Column                     Non-Null Count  Dtype  \n",
      "---  ------                     --------------  -----  \n",
      " 0   age                        5832 non-null   int64  \n",
      " 1   on_thyroxine               5832 non-null   bool   \n",
      " 2   query_on_thyroxine         5832 non-null   bool   \n",
      " 3   on_antithyroid_medication  5832 non-null   bool   \n",
      " 4   sick                       5832 non-null   bool   \n",
      " 5   pregnant                   5832 non-null   bool   \n",
      " 6   thyroid_surgery            5832 non-null   bool   \n",
      " 7   I131_treatment             5832 non-null   bool   \n",
      " 8   query_hypothyroid          5832 non-null   bool   \n",
      " 9   query_hyperthyroid         5832 non-null   bool   \n",
      " 10  lithium                    5832 non-null   bool   \n",
      " 11  goitre                     5832 non-null   bool   \n",
      " 12  tumor                      5832 non-null   bool   \n",
      " 13  hypopituitary              5832 non-null   bool   \n",
      " 14  psych                      5832 non-null   bool   \n",
      " 15  TSH_measured               5832 non-null   bool   \n",
      " 16  TSH                        5832 non-null   float64\n",
      " 17  T3_measured                5832 non-null   bool   \n",
      " 18  T3                         5832 non-null   float64\n",
      " 19  TT4_measured               5832 non-null   bool   \n",
      " 20  TT4                        5832 non-null   float64\n",
      " 21  T4U_measured               5832 non-null   bool   \n",
      " 22  T4U                        5832 non-null   float64\n",
      " 23  FTI_measured               5832 non-null   bool   \n",
      " 24  FTI                        5832 non-null   float64\n",
      " 25  class                      5832 non-null   object \n",
      " 26  sex_-1                     5832 non-null   float64\n",
      " 27  sex_F                      5832 non-null   float64\n",
      " 28  sex_M                      5832 non-null   float64\n",
      " 29  referral_source_STMW       5832 non-null   float64\n",
      " 30  referral_source_SVHC       5832 non-null   float64\n",
      " 31  referral_source_SVHD       5832 non-null   float64\n",
      " 32  referral_source_SVI        5832 non-null   float64\n",
      " 33  referral_source_other      5832 non-null   float64\n",
      " 34  log_TSH                    5322 non-null   float64\n",
      "dtypes: bool(19), float64(14), int64(1), object(1)\n",
      "memory usage: 837.3+ KB\n"
     ]
    }
   ],
   "source": [
    "df_testing.info()"
   ]
  },
  {
   "cell_type": "markdown",
   "id": "c3a7adcb-88bb-4589-80cf-3cf90da214e0",
   "metadata": {},
   "source": [
    "### Predict using the model"
   ]
  },
  {
   "cell_type": "markdown",
   "id": "dab12dcf-d071-4a11-9405-3a28c2c755f4",
   "metadata": {},
   "source": [
    "### Compare the result with actual testing dataset class"
   ]
  },
  {
   "cell_type": "markdown",
   "id": "0859f5dc-4000-45fa-b93f-56dae11d695a",
   "metadata": {},
   "source": [
    "## Fine Tuning"
   ]
  },
  {
   "cell_type": "markdown",
   "id": "1ad59f43-ce80-4e56-a5ff-f52e04f991ca",
   "metadata": {
    "tags": []
   },
   "source": [
    "## Cleanup code"
   ]
  },
  {
   "cell_type": "code",
   "execution_count": 385,
   "id": "c0987395-8335-408e-aa03-55864463cef0",
   "metadata": {
    "tags": []
   },
   "outputs": [],
   "source": [
    "!rm {local_zip_file_location}\n",
    "!rm -rf {local_folder_location}"
   ]
  }
 ],
 "metadata": {
  "authors": [
   {
    "name": "Fletcher Lin"
   }
  ],
  "kernelspec": {
   "display_name": "Python 3 (ipykernel)",
   "language": "python",
   "name": "python3"
  },
  "language_info": {
   "codemirror_mode": {
    "name": "ipython",
    "version": 3
   },
   "file_extension": ".py",
   "mimetype": "text/x-python",
   "name": "python",
   "nbconvert_exporter": "python",
   "pygments_lexer": "ipython3",
   "version": "3.11.7"
  },
  "title": "University of Chicago ADSP 31009 ON1 Machine Learning & Predictive Analytics \n Final Project - Thyroid Disease Prediction"
 },
 "nbformat": 4,
 "nbformat_minor": 5
}
